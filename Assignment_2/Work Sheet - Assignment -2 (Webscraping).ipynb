{
 "cells": [
  {
   "cell_type": "code",
   "execution_count": 1,
   "id": "8827adb5",
   "metadata": {},
   "outputs": [
    {
     "name": "stdout",
     "output_type": "stream",
     "text": [
      "Requirement already satisfied: bs4 in c:\\users\\pinki\\anaconda3\\lib\\site-packages (0.0.1)\n",
      "Requirement already satisfied: beautifulsoup4 in c:\\users\\pinki\\anaconda3\\lib\\site-packages (from bs4) (4.9.3)\n",
      "Requirement already satisfied: soupsieve>1.2 in c:\\users\\pinki\\anaconda3\\lib\\site-packages (from beautifulsoup4->bs4) (2.2.1)\n",
      "Requirement already satisfied: requests in c:\\users\\pinki\\anaconda3\\lib\\site-packages (2.25.1)\n",
      "Requirement already satisfied: chardet<5,>=3.0.2 in c:\\users\\pinki\\anaconda3\\lib\\site-packages (from requests) (4.0.0)\n",
      "Requirement already satisfied: idna<3,>=2.5 in c:\\users\\pinki\\anaconda3\\lib\\site-packages (from requests) (2.10)\n",
      "Requirement already satisfied: urllib3<1.27,>=1.21.1 in c:\\users\\pinki\\anaconda3\\lib\\site-packages (from requests) (1.26.4)\n",
      "Requirement already satisfied: certifi>=2017.4.17 in c:\\users\\pinki\\anaconda3\\lib\\site-packages (from requests) (2020.12.5)\n"
     ]
    }
   ],
   "source": [
    "!pip install bs4\n",
    "!pip install requests"
   ]
  },
  {
   "cell_type": "code",
   "execution_count": 2,
   "id": "dce76864",
   "metadata": {},
   "outputs": [],
   "source": [
    "# importing the required libraries\n",
    "from bs4 import BeautifulSoup\n",
    "import requests\n",
    "import pandas as pd"
   ]
  },
  {
   "cell_type": "code",
   "execution_count": 3,
   "id": "a4237c70",
   "metadata": {},
   "outputs": [
    {
     "data": {
      "text/plain": [
       "<Response [200]>"
      ]
     },
     "execution_count": 3,
     "metadata": {},
     "output_type": "execute_result"
    }
   ],
   "source": [
    "page=requests.get('https://en.wikipedia.org/wiki/Main_Page')\n",
    "page"
   ]
  },
  {
   "cell_type": "code",
   "execution_count": 4,
   "id": "21d69a0b",
   "metadata": {},
   "outputs": [
    {
     "name": "stdout",
     "output_type": "stream",
     "text": [
      "Main Page\n",
      "Welcome to Wikipedia\n",
      "From today's featured article\n",
      "Did you know ...\n",
      "In the news\n",
      "On this day\n",
      "Today's featured picture\n",
      "Other areas of Wikipedia\n",
      "Wikipedia's sister projects\n",
      "Wikipedia languages\n",
      "Navigation menu\n",
      "\n",
      "Personal tools\n",
      "\n",
      "\n",
      "Namespaces\n",
      "\n",
      "\n",
      "English\n",
      "expanded\n",
      "collapsed\n",
      "\n",
      "\n",
      "Views\n",
      "\n",
      "\n",
      "More\n",
      "expanded\n",
      "collapsed\n",
      "\n",
      "\n",
      "Search\n",
      "\n",
      "\n",
      "Navigation\n",
      "\n",
      "\n",
      "Contribute\n",
      "\n",
      "\n",
      "Tools\n",
      "\n",
      "\n",
      "Print/export\n",
      "\n",
      "\n",
      "In other projects\n",
      "\n",
      "\n",
      "Languages\n",
      "\n"
     ]
    }
   ],
   "source": [
    "soup=BeautifulSoup(page.content,'html.parser')\n",
    "heading=soup.find_all(['h1','h2','h3'])\n",
    "for i in heading:\n",
    "    print(i.text)\n"
   ]
  },
  {
   "cell_type": "markdown",
   "id": "a622da26",
   "metadata": {},
   "source": [
    "**Q2) Write a python program to display IMDB’s Top rated 100 movies’ data (i.e. name, rating, year of release)\n",
    "and make data frame.**\n"
   ]
  },
  {
   "cell_type": "code",
   "execution_count": 5,
   "id": "73a6ae07",
   "metadata": {},
   "outputs": [
    {
     "data": {
      "text/plain": [
       "<Response [200]>"
      ]
     },
     "execution_count": 5,
     "metadata": {},
     "output_type": "execute_result"
    }
   ],
   "source": [
    "page=requests.get('https://www.imdb.com/list/ls091520106/')\n",
    "page"
   ]
  },
  {
   "cell_type": "code",
   "execution_count": 6,
   "id": "bb0bf876",
   "metadata": {},
   "outputs": [],
   "source": [
    "soup=BeautifulSoup(page.content,\"html.parser\")"
   ]
  },
  {
   "cell_type": "code",
   "execution_count": 7,
   "id": "88eb6f01",
   "metadata": {},
   "outputs": [],
   "source": [
    "name=soup.find_all(\"h3\",class_=\"lister-item-header\")\n",
    "rating=soup.find_all('div',class_=\"ipl-rating-star small\")\n",
    "date_of_release=soup.find_all(\"span\",class_=\"lister-item-year text-muted unbold\")"
   ]
  },
  {
   "cell_type": "code",
   "execution_count": 11,
   "id": "5610c36e",
   "metadata": {},
   "outputs": [],
   "source": [
    "mname=[]\n",
    "rt=[]\n",
    "dor=[]\n",
    "for i in name:\n",
    "    mname.append(i.a.text)\n",
    "for i in rating:\n",
    "    rt.append(i.text.strip())\n",
    "for i in date_of_release:\n",
    "    dor.append(i.text)"
   ]
  },
  {
   "cell_type": "code",
   "execution_count": 12,
   "id": "dcca3137",
   "metadata": {},
   "outputs": [],
   "source": [
    "top_100={\"Movie\":mname,\"Rating\":rt,\"Date of release\":dor}\n",
    "df=pd.DataFrame(top_100)"
   ]
  },
  {
   "cell_type": "code",
   "execution_count": 13,
   "id": "6c7df353",
   "metadata": {},
   "outputs": [
    {
     "data": {
      "text/html": [
       "<div>\n",
       "<style scoped>\n",
       "    .dataframe tbody tr th:only-of-type {\n",
       "        vertical-align: middle;\n",
       "    }\n",
       "\n",
       "    .dataframe tbody tr th {\n",
       "        vertical-align: top;\n",
       "    }\n",
       "\n",
       "    .dataframe thead th {\n",
       "        text-align: right;\n",
       "    }\n",
       "</style>\n",
       "<table border=\"1\" class=\"dataframe\">\n",
       "  <thead>\n",
       "    <tr style=\"text-align: right;\">\n",
       "      <th></th>\n",
       "      <th>Movie</th>\n",
       "      <th>Rating</th>\n",
       "      <th>Date of release</th>\n",
       "    </tr>\n",
       "  </thead>\n",
       "  <tbody>\n",
       "    <tr>\n",
       "      <th>0</th>\n",
       "      <td>The Shawshank Redemption</td>\n",
       "      <td>9.3</td>\n",
       "      <td>(1994)</td>\n",
       "    </tr>\n",
       "    <tr>\n",
       "      <th>1</th>\n",
       "      <td>The Godfather</td>\n",
       "      <td>9.2</td>\n",
       "      <td>(1972)</td>\n",
       "    </tr>\n",
       "    <tr>\n",
       "      <th>2</th>\n",
       "      <td>The Godfather: Part II</td>\n",
       "      <td>9</td>\n",
       "      <td>(1974)</td>\n",
       "    </tr>\n",
       "    <tr>\n",
       "      <th>3</th>\n",
       "      <td>The Dark Knight</td>\n",
       "      <td>9</td>\n",
       "      <td>(2008)</td>\n",
       "    </tr>\n",
       "    <tr>\n",
       "      <th>4</th>\n",
       "      <td>12 Angry Men</td>\n",
       "      <td>9</td>\n",
       "      <td>(1957)</td>\n",
       "    </tr>\n",
       "    <tr>\n",
       "      <th>...</th>\n",
       "      <td>...</td>\n",
       "      <td>...</td>\n",
       "      <td>...</td>\n",
       "    </tr>\n",
       "    <tr>\n",
       "      <th>95</th>\n",
       "      <td>North by Northwest</td>\n",
       "      <td>8.3</td>\n",
       "      <td>(1959)</td>\n",
       "    </tr>\n",
       "    <tr>\n",
       "      <th>96</th>\n",
       "      <td>A Clockwork Orange</td>\n",
       "      <td>8.3</td>\n",
       "      <td>(1971)</td>\n",
       "    </tr>\n",
       "    <tr>\n",
       "      <th>97</th>\n",
       "      <td>Snatch</td>\n",
       "      <td>8.2</td>\n",
       "      <td>(2000)</td>\n",
       "    </tr>\n",
       "    <tr>\n",
       "      <th>98</th>\n",
       "      <td>Le fabuleux destin d'Amélie Poulain</td>\n",
       "      <td>8.3</td>\n",
       "      <td>(2001)</td>\n",
       "    </tr>\n",
       "    <tr>\n",
       "      <th>99</th>\n",
       "      <td>The Kid</td>\n",
       "      <td>8.3</td>\n",
       "      <td>(1921)</td>\n",
       "    </tr>\n",
       "  </tbody>\n",
       "</table>\n",
       "<p>100 rows × 3 columns</p>\n",
       "</div>"
      ],
      "text/plain": [
       "                                  Movie Rating Date of release\n",
       "0              The Shawshank Redemption    9.3          (1994)\n",
       "1                         The Godfather    9.2          (1972)\n",
       "2                The Godfather: Part II      9          (1974)\n",
       "3                       The Dark Knight      9          (2008)\n",
       "4                          12 Angry Men      9          (1957)\n",
       "..                                  ...    ...             ...\n",
       "95                   North by Northwest    8.3          (1959)\n",
       "96                   A Clockwork Orange    8.3          (1971)\n",
       "97                               Snatch    8.2          (2000)\n",
       "98  Le fabuleux destin d'Amélie Poulain    8.3          (2001)\n",
       "99                              The Kid    8.3          (1921)\n",
       "\n",
       "[100 rows x 3 columns]"
      ]
     },
     "execution_count": 13,
     "metadata": {},
     "output_type": "execute_result"
    }
   ],
   "source": [
    "df"
   ]
  },
  {
   "cell_type": "markdown",
   "id": "301779dc",
   "metadata": {},
   "source": [
    "**Q3) Write a python program to display IMDB’s Top rated 100 Indian movies’ data (i.e. name, rating, year of\n",
    "release) and make data frame.**\n"
   ]
  },
  {
   "cell_type": "code",
   "execution_count": 14,
   "id": "45581825",
   "metadata": {},
   "outputs": [
    {
     "data": {
      "text/plain": [
       "<Response [200]>"
      ]
     },
     "execution_count": 14,
     "metadata": {},
     "output_type": "execute_result"
    }
   ],
   "source": [
    "page=requests.get('https://www.imdb.com/india/top-rated-indian-movies/')\n",
    "page"
   ]
  },
  {
   "cell_type": "code",
   "execution_count": 15,
   "id": "750b17e0",
   "metadata": {},
   "outputs": [],
   "source": [
    "soup=BeautifulSoup(page.content,'html.parser')\n"
   ]
  },
  {
   "cell_type": "code",
   "execution_count": 16,
   "id": "0a78fabf",
   "metadata": {},
   "outputs": [],
   "source": [
    "name=soup.find_all(\"td\",class_=\"titleColumn\")\n",
    "rating=soup.find_all(\"td\",class_=\"ratingColumn imdbRating\")\n",
    "yor=soup.find_all(\"span\",class_=\"secondaryInfo\")"
   ]
  },
  {
   "cell_type": "code",
   "execution_count": 17,
   "id": "fd044529",
   "metadata": {},
   "outputs": [],
   "source": [
    "mn=[]\n",
    "rt=[]\n",
    "yr=[]\n",
    "for i in name:\n",
    "    mn.append(i.a.text)\n",
    "for i in rating:\n",
    "    rt.append(i.text.strip())\n",
    "for i in yor:\n",
    "    yr.append(i.text)"
   ]
  },
  {
   "cell_type": "code",
   "execution_count": 18,
   "id": "e3d0275c",
   "metadata": {},
   "outputs": [],
   "source": [
    "IMBD={\"Name\":mn[:100],\"Rating\":rt[:100],\"Year of release\":yr[:100]}\n",
    "dt=pd.DataFrame(IMBD)"
   ]
  },
  {
   "cell_type": "code",
   "execution_count": 19,
   "id": "51744fcb",
   "metadata": {},
   "outputs": [
    {
     "data": {
      "text/html": [
       "<div>\n",
       "<style scoped>\n",
       "    .dataframe tbody tr th:only-of-type {\n",
       "        vertical-align: middle;\n",
       "    }\n",
       "\n",
       "    .dataframe tbody tr th {\n",
       "        vertical-align: top;\n",
       "    }\n",
       "\n",
       "    .dataframe thead th {\n",
       "        text-align: right;\n",
       "    }\n",
       "</style>\n",
       "<table border=\"1\" class=\"dataframe\">\n",
       "  <thead>\n",
       "    <tr style=\"text-align: right;\">\n",
       "      <th></th>\n",
       "      <th>Name</th>\n",
       "      <th>Rating</th>\n",
       "      <th>Year of release</th>\n",
       "    </tr>\n",
       "  </thead>\n",
       "  <tbody>\n",
       "    <tr>\n",
       "      <th>0</th>\n",
       "      <td>Pariyerum Perumal</td>\n",
       "      <td>8.5</td>\n",
       "      <td>(2018)</td>\n",
       "    </tr>\n",
       "    <tr>\n",
       "      <th>1</th>\n",
       "      <td>Nayakan</td>\n",
       "      <td>8.5</td>\n",
       "      <td>(1987)</td>\n",
       "    </tr>\n",
       "    <tr>\n",
       "      <th>2</th>\n",
       "      <td>C/o Kancharapalem</td>\n",
       "      <td>8.5</td>\n",
       "      <td>(2018)</td>\n",
       "    </tr>\n",
       "    <tr>\n",
       "      <th>3</th>\n",
       "      <td>Anbe Sivam</td>\n",
       "      <td>8.5</td>\n",
       "      <td>(2003)</td>\n",
       "    </tr>\n",
       "    <tr>\n",
       "      <th>4</th>\n",
       "      <td>Kireedam</td>\n",
       "      <td>8.5</td>\n",
       "      <td>(1989)</td>\n",
       "    </tr>\n",
       "    <tr>\n",
       "      <th>...</th>\n",
       "      <td>...</td>\n",
       "      <td>...</td>\n",
       "      <td>...</td>\n",
       "    </tr>\n",
       "    <tr>\n",
       "      <th>95</th>\n",
       "      <td>Charulata</td>\n",
       "      <td>8.1</td>\n",
       "      <td>(1964)</td>\n",
       "    </tr>\n",
       "    <tr>\n",
       "      <th>96</th>\n",
       "      <td>Sarfarosh</td>\n",
       "      <td>8.1</td>\n",
       "      <td>(1999)</td>\n",
       "    </tr>\n",
       "    <tr>\n",
       "      <th>97</th>\n",
       "      <td>Uri: The Surgical Strike</td>\n",
       "      <td>8.1</td>\n",
       "      <td>(2019)</td>\n",
       "    </tr>\n",
       "    <tr>\n",
       "      <th>98</th>\n",
       "      <td>Roja</td>\n",
       "      <td>8.1</td>\n",
       "      <td>(1992)</td>\n",
       "    </tr>\n",
       "    <tr>\n",
       "      <th>99</th>\n",
       "      <td>Rang De Basanti</td>\n",
       "      <td>8.1</td>\n",
       "      <td>(2006)</td>\n",
       "    </tr>\n",
       "  </tbody>\n",
       "</table>\n",
       "<p>100 rows × 3 columns</p>\n",
       "</div>"
      ],
      "text/plain": [
       "                        Name Rating Year of release\n",
       "0          Pariyerum Perumal    8.5          (2018)\n",
       "1                    Nayakan    8.5          (1987)\n",
       "2          C/o Kancharapalem    8.5          (2018)\n",
       "3                 Anbe Sivam    8.5          (2003)\n",
       "4                   Kireedam    8.5          (1989)\n",
       "..                       ...    ...             ...\n",
       "95                 Charulata    8.1          (1964)\n",
       "96                 Sarfarosh    8.1          (1999)\n",
       "97  Uri: The Surgical Strike    8.1          (2019)\n",
       "98                      Roja    8.1          (1992)\n",
       "99           Rang De Basanti    8.1          (2006)\n",
       "\n",
       "[100 rows x 3 columns]"
      ]
     },
     "execution_count": 19,
     "metadata": {},
     "output_type": "execute_result"
    }
   ],
   "source": [
    "dt"
   ]
  },
  {
   "cell_type": "markdown",
   "id": "82e6b128",
   "metadata": {},
   "source": [
    " **Q4)Write a python programe to scrape product name, price and discounts from  https://meesho.com/bagsladies/pl/p7vbp .**\n"
   ]
  },
  {
   "cell_type": "code",
   "execution_count": 20,
   "id": "65cabc6c",
   "metadata": {},
   "outputs": [
    {
     "data": {
      "text/plain": [
       "<Response [200]>"
      ]
     },
     "execution_count": 20,
     "metadata": {},
     "output_type": "execute_result"
    }
   ],
   "source": [
    "page=requests.get('https://meesho.com/bagsladies/pl/p7vbp')\n",
    "page"
   ]
  },
  {
   "cell_type": "code",
   "execution_count": 21,
   "id": "16e9091c",
   "metadata": {},
   "outputs": [],
   "source": [
    "soup=BeautifulSoup(page.content,'html.parser')"
   ]
  },
  {
   "cell_type": "code",
   "execution_count": 22,
   "id": "3b512b7d",
   "metadata": {},
   "outputs": [],
   "source": [
    "prname=soup.find_all(\"div\",class_=\"Card__BaseCard-sc-b3n78k-0 dUNFgg NewProductCard__DetailCard_Desktop-sc-j0e7tu-2 fqvaeS NewProductCard__DetailCard_Desktop-sc-j0e7tu-2 fqvaeS\")\n",
    "pr=soup.find_all(\"h5\",class_=\"Text__StyledText-sc-oo0kvp-0 hiHdyy\")\n",
    "dis=soup.find_all(\"p\",class_=\"Text__StyledText-sc-oo0kvp-0 fCJVtz NewProductCard__DiscountTextParagraph-sc-j0e7tu-16 kmYsnm NewProductCard__DiscountTextParagraph-sc-j0e7tu-16 kmYsnm\")"
   ]
  },
  {
   "cell_type": "code",
   "execution_count": 26,
   "id": "5e4cbac1",
   "metadata": {},
   "outputs": [],
   "source": [
    "pname=[]\n",
    "amt=[]\n",
    "ds=[]\n",
    "for i in prname:\n",
    "    pname.append(i.p.text)\n",
    "for i in pr:\n",
    "    amt.append(i.text)\n",
    "for i in dis:\n",
    "    ds.append(i.text)\n"
   ]
  },
  {
   "cell_type": "code",
   "execution_count": 27,
   "id": "5dee6ed1",
   "metadata": {},
   "outputs": [],
   "source": [
    "bag={\"Product\":pname,\"Price\":amt,\"Discount\":ds}\n",
    "dt=pd.DataFrame(bag)"
   ]
  },
  {
   "cell_type": "code",
   "execution_count": 28,
   "id": "06ae8c5d",
   "metadata": {},
   "outputs": [
    {
     "data": {
      "text/html": [
       "<div>\n",
       "<style scoped>\n",
       "    .dataframe tbody tr th:only-of-type {\n",
       "        vertical-align: middle;\n",
       "    }\n",
       "\n",
       "    .dataframe tbody tr th {\n",
       "        vertical-align: top;\n",
       "    }\n",
       "\n",
       "    .dataframe thead th {\n",
       "        text-align: right;\n",
       "    }\n",
       "</style>\n",
       "<table border=\"1\" class=\"dataframe\">\n",
       "  <thead>\n",
       "    <tr style=\"text-align: right;\">\n",
       "      <th></th>\n",
       "      <th>Product</th>\n",
       "      <th>Price</th>\n",
       "      <th>Discount</th>\n",
       "    </tr>\n",
       "  </thead>\n",
       "  <tbody>\n",
       "    <tr>\n",
       "      <th>0</th>\n",
       "      <td>Ravishing Fancy Women Handbags</td>\n",
       "      <td>₹255</td>\n",
       "      <td>₹100 discount on 1st order</td>\n",
       "    </tr>\n",
       "    <tr>\n",
       "      <th>1</th>\n",
       "      <td>Graceful Classy Women Handbags</td>\n",
       "      <td>₹328</td>\n",
       "      <td>₹100 discount on 1st order</td>\n",
       "    </tr>\n",
       "    <tr>\n",
       "      <th>2</th>\n",
       "      <td>Elite Classy Women Handbags</td>\n",
       "      <td>₹332</td>\n",
       "      <td>₹100 discount on 1st order</td>\n",
       "    </tr>\n",
       "    <tr>\n",
       "      <th>3</th>\n",
       "      <td>Graceful Versatile Women Handbags</td>\n",
       "      <td>₹574</td>\n",
       "      <td>₹100 discount on 1st order</td>\n",
       "    </tr>\n",
       "    <tr>\n",
       "      <th>4</th>\n",
       "      <td>Voguish Attractive Women Handbags</td>\n",
       "      <td>₹458</td>\n",
       "      <td>₹100 discount on 1st order</td>\n",
       "    </tr>\n",
       "    <tr>\n",
       "      <th>5</th>\n",
       "      <td>Elegant Versatile Women Handbags</td>\n",
       "      <td>₹1045</td>\n",
       "      <td>₹100 discount on 1st order</td>\n",
       "    </tr>\n",
       "    <tr>\n",
       "      <th>6</th>\n",
       "      <td>Elegant Versatile Women Handbags</td>\n",
       "      <td>₹177</td>\n",
       "      <td>₹75 discount on 1st order</td>\n",
       "    </tr>\n",
       "    <tr>\n",
       "      <th>7</th>\n",
       "      <td>Ravishing Attractive Women Handbags</td>\n",
       "      <td>₹384</td>\n",
       "      <td>₹100 discount on 1st order</td>\n",
       "    </tr>\n",
       "    <tr>\n",
       "      <th>8</th>\n",
       "      <td>Elegant Fashionable Women Handbags</td>\n",
       "      <td>₹199</td>\n",
       "      <td>₹84 discount on 1st order</td>\n",
       "    </tr>\n",
       "    <tr>\n",
       "      <th>9</th>\n",
       "      <td>Elite Versatile Women Handbags</td>\n",
       "      <td>₹313</td>\n",
       "      <td>₹100 discount on 1st order</td>\n",
       "    </tr>\n",
       "    <tr>\n",
       "      <th>10</th>\n",
       "      <td>Gorgeous Classy Women Handbags</td>\n",
       "      <td>₹349</td>\n",
       "      <td>₹100 discount on 1st order</td>\n",
       "    </tr>\n",
       "    <tr>\n",
       "      <th>11</th>\n",
       "      <td>Elite Stylish Women Handbags</td>\n",
       "      <td>₹550</td>\n",
       "      <td>₹100 discount on 1st order</td>\n",
       "    </tr>\n",
       "    <tr>\n",
       "      <th>12</th>\n",
       "      <td>Elegant Fancy Women's Bags</td>\n",
       "      <td>₹189</td>\n",
       "      <td>₹80 discount on 1st order</td>\n",
       "    </tr>\n",
       "    <tr>\n",
       "      <th>13</th>\n",
       "      <td>Trendy Classy Women Handbags</td>\n",
       "      <td>₹415</td>\n",
       "      <td>₹100 discount on 1st order</td>\n",
       "    </tr>\n",
       "    <tr>\n",
       "      <th>14</th>\n",
       "      <td>Elegant Fancy Women'S Pu Leather Hand Bags</td>\n",
       "      <td>₹175</td>\n",
       "      <td>₹75 discount on 1st order</td>\n",
       "    </tr>\n",
       "    <tr>\n",
       "      <th>15</th>\n",
       "      <td>Gorgeous Attractive Women Handbags</td>\n",
       "      <td>₹196</td>\n",
       "      <td>₹84 discount on 1st order</td>\n",
       "    </tr>\n",
       "    <tr>\n",
       "      <th>16</th>\n",
       "      <td>Elite Fancy Women Handbags</td>\n",
       "      <td>₹140</td>\n",
       "      <td>₹60 discount on 1st order</td>\n",
       "    </tr>\n",
       "    <tr>\n",
       "      <th>17</th>\n",
       "      <td>Ravishing Alluring Women Handbags</td>\n",
       "      <td>₹130</td>\n",
       "      <td>₹55 discount on 1st order</td>\n",
       "    </tr>\n",
       "    <tr>\n",
       "      <th>18</th>\n",
       "      <td>Elegant Classy Women Handbags</td>\n",
       "      <td>₹319</td>\n",
       "      <td>₹100 discount on 1st order</td>\n",
       "    </tr>\n",
       "    <tr>\n",
       "      <th>19</th>\n",
       "      <td>Classic Classy Women Handbags</td>\n",
       "      <td>₹231</td>\n",
       "      <td>₹99 discount on 1st order</td>\n",
       "    </tr>\n",
       "  </tbody>\n",
       "</table>\n",
       "</div>"
      ],
      "text/plain": [
       "                                       Product  Price  \\\n",
       "0               Ravishing Fancy Women Handbags   ₹255   \n",
       "1               Graceful Classy Women Handbags   ₹328   \n",
       "2                  Elite Classy Women Handbags   ₹332   \n",
       "3            Graceful Versatile Women Handbags   ₹574   \n",
       "4            Voguish Attractive Women Handbags   ₹458   \n",
       "5             Elegant Versatile Women Handbags  ₹1045   \n",
       "6             Elegant Versatile Women Handbags   ₹177   \n",
       "7          Ravishing Attractive Women Handbags   ₹384   \n",
       "8           Elegant Fashionable Women Handbags   ₹199   \n",
       "9               Elite Versatile Women Handbags   ₹313   \n",
       "10              Gorgeous Classy Women Handbags   ₹349   \n",
       "11                Elite Stylish Women Handbags   ₹550   \n",
       "12                  Elegant Fancy Women's Bags   ₹189   \n",
       "13                Trendy Classy Women Handbags   ₹415   \n",
       "14  Elegant Fancy Women'S Pu Leather Hand Bags   ₹175   \n",
       "15          Gorgeous Attractive Women Handbags   ₹196   \n",
       "16                  Elite Fancy Women Handbags   ₹140   \n",
       "17           Ravishing Alluring Women Handbags   ₹130   \n",
       "18               Elegant Classy Women Handbags   ₹319   \n",
       "19               Classic Classy Women Handbags   ₹231   \n",
       "\n",
       "                      Discount  \n",
       "0   ₹100 discount on 1st order  \n",
       "1   ₹100 discount on 1st order  \n",
       "2   ₹100 discount on 1st order  \n",
       "3   ₹100 discount on 1st order  \n",
       "4   ₹100 discount on 1st order  \n",
       "5   ₹100 discount on 1st order  \n",
       "6    ₹75 discount on 1st order  \n",
       "7   ₹100 discount on 1st order  \n",
       "8    ₹84 discount on 1st order  \n",
       "9   ₹100 discount on 1st order  \n",
       "10  ₹100 discount on 1st order  \n",
       "11  ₹100 discount on 1st order  \n",
       "12   ₹80 discount on 1st order  \n",
       "13  ₹100 discount on 1st order  \n",
       "14   ₹75 discount on 1st order  \n",
       "15   ₹84 discount on 1st order  \n",
       "16   ₹60 discount on 1st order  \n",
       "17   ₹55 discount on 1st order  \n",
       "18  ₹100 discount on 1st order  \n",
       "19   ₹99 discount on 1st order  "
      ]
     },
     "execution_count": 28,
     "metadata": {},
     "output_type": "execute_result"
    }
   ],
   "source": [
    "dt"
   ]
  },
  {
   "cell_type": "markdown",
   "id": "af10565d",
   "metadata": {},
   "source": [
    "**Q5) Write a python program to scrape cricket rankings from icc-cricket.com. You have to scrape:**\n",
    "\n",
    "**a) Top 10 ODI teams in men’s cricket along with the records for matches, points and rating.**\n",
    "\n",
    "**b) Top 10 ODI Batsmen along with the records of their team and rating.**\n",
    "\n",
    "**c) Top 10 ODI bowlers along with the records of their team and rating.**"
   ]
  },
  {
   "cell_type": "markdown",
   "id": "d28d9e72",
   "metadata": {},
   "source": [
    "## a) **Top 10 ODI teams in men’s**"
   ]
  },
  {
   "cell_type": "code",
   "execution_count": 29,
   "id": "a2feb2a0",
   "metadata": {},
   "outputs": [
    {
     "data": {
      "text/plain": [
       "<Response [200]>"
      ]
     },
     "execution_count": 29,
     "metadata": {},
     "output_type": "execute_result"
    }
   ],
   "source": [
    "page=requests.get('https://www.icc-cricket.com/rankings/mens/team-rankings/odi')\n",
    "page"
   ]
  },
  {
   "cell_type": "code",
   "execution_count": 30,
   "id": "2d80ab12",
   "metadata": {},
   "outputs": [],
   "source": [
    "soup=BeautifulSoup(page.content,'html.parser')"
   ]
  },
  {
   "cell_type": "code",
   "execution_count": 31,
   "id": "dc541013",
   "metadata": {},
   "outputs": [],
   "source": [
    "team=soup.find_all('span',class_=\"u-hide-phablet\")\n",
    "match=soup.find_all(\"td\")"
   ]
  },
  {
   "cell_type": "code",
   "execution_count": 32,
   "id": "8ba022a4",
   "metadata": {},
   "outputs": [],
   "source": [
    "mt=[]\n",
    "pt=[]\n",
    "rt=[]\n",
    "tm=[]\n",
    "for i in range(len(match)):\n",
    "    if i%5==2:\n",
    "        mt.append(match[i].text)\n",
    "    elif i%5==3:\n",
    "        pt.append(match[i].text)\n",
    "    elif i%5==4:\n",
    "        rt.append(match[i].text.strip())\n",
    "for i in team:\n",
    "    tm.append(i.text.strip())"
   ]
  },
  {
   "cell_type": "code",
   "execution_count": 33,
   "id": "c7a67269",
   "metadata": {},
   "outputs": [],
   "source": [
    "ODI={\"Team\":tm[:10],\"Match\":mt[:10],\"Point\":pt[:10],\"Rating\":rt[:10]}\n",
    "df=pd.DataFrame(ODI)"
   ]
  },
  {
   "cell_type": "code",
   "execution_count": 34,
   "id": "f909a62f",
   "metadata": {},
   "outputs": [
    {
     "data": {
      "text/html": [
       "<div>\n",
       "<style scoped>\n",
       "    .dataframe tbody tr th:only-of-type {\n",
       "        vertical-align: middle;\n",
       "    }\n",
       "\n",
       "    .dataframe tbody tr th {\n",
       "        vertical-align: top;\n",
       "    }\n",
       "\n",
       "    .dataframe thead th {\n",
       "        text-align: right;\n",
       "    }\n",
       "</style>\n",
       "<table border=\"1\" class=\"dataframe\">\n",
       "  <thead>\n",
       "    <tr style=\"text-align: right;\">\n",
       "      <th></th>\n",
       "      <th>Team</th>\n",
       "      <th>Match</th>\n",
       "      <th>Point</th>\n",
       "      <th>Rating</th>\n",
       "    </tr>\n",
       "  </thead>\n",
       "  <tbody>\n",
       "    <tr>\n",
       "      <th>0</th>\n",
       "      <td>New Zealand</td>\n",
       "      <td>17</td>\n",
       "      <td>2,054</td>\n",
       "      <td>121</td>\n",
       "    </tr>\n",
       "    <tr>\n",
       "      <th>1</th>\n",
       "      <td>England</td>\n",
       "      <td>32</td>\n",
       "      <td>3,793</td>\n",
       "      <td>119</td>\n",
       "    </tr>\n",
       "    <tr>\n",
       "      <th>2</th>\n",
       "      <td>Australia</td>\n",
       "      <td>28</td>\n",
       "      <td>3,244</td>\n",
       "      <td>116</td>\n",
       "    </tr>\n",
       "    <tr>\n",
       "      <th>3</th>\n",
       "      <td>India</td>\n",
       "      <td>38</td>\n",
       "      <td>4,162</td>\n",
       "      <td>110</td>\n",
       "    </tr>\n",
       "    <tr>\n",
       "      <th>4</th>\n",
       "      <td>South Africa</td>\n",
       "      <td>28</td>\n",
       "      <td>2,943</td>\n",
       "      <td>105</td>\n",
       "    </tr>\n",
       "    <tr>\n",
       "      <th>5</th>\n",
       "      <td>Pakistan</td>\n",
       "      <td>27</td>\n",
       "      <td>2,524</td>\n",
       "      <td>93</td>\n",
       "    </tr>\n",
       "    <tr>\n",
       "      <th>6</th>\n",
       "      <td>Bangladesh</td>\n",
       "      <td>32</td>\n",
       "      <td>2,973</td>\n",
       "      <td>93</td>\n",
       "    </tr>\n",
       "    <tr>\n",
       "      <th>7</th>\n",
       "      <td>Sri Lanka</td>\n",
       "      <td>35</td>\n",
       "      <td>2,835</td>\n",
       "      <td>81</td>\n",
       "    </tr>\n",
       "    <tr>\n",
       "      <th>8</th>\n",
       "      <td>West Indies</td>\n",
       "      <td>36</td>\n",
       "      <td>2,788</td>\n",
       "      <td>77</td>\n",
       "    </tr>\n",
       "    <tr>\n",
       "      <th>9</th>\n",
       "      <td>Afghanistan</td>\n",
       "      <td>22</td>\n",
       "      <td>1,419</td>\n",
       "      <td>65</td>\n",
       "    </tr>\n",
       "  </tbody>\n",
       "</table>\n",
       "</div>"
      ],
      "text/plain": [
       "           Team Match  Point Rating\n",
       "0   New Zealand    17  2,054    121\n",
       "1       England    32  3,793    119\n",
       "2     Australia    28  3,244    116\n",
       "3         India    38  4,162    110\n",
       "4  South Africa    28  2,943    105\n",
       "5      Pakistan    27  2,524     93\n",
       "6    Bangladesh    32  2,973     93\n",
       "7     Sri Lanka    35  2,835     81\n",
       "8   West Indies    36  2,788     77\n",
       "9   Afghanistan    22  1,419     65"
      ]
     },
     "execution_count": 34,
     "metadata": {},
     "output_type": "execute_result"
    }
   ],
   "source": [
    "df"
   ]
  },
  {
   "cell_type": "markdown",
   "id": "a00eddd1",
   "metadata": {},
   "source": [
    "## b)**Top 10 ODI Batsmen**"
   ]
  },
  {
   "cell_type": "code",
   "execution_count": 35,
   "id": "23f7a589",
   "metadata": {},
   "outputs": [
    {
     "data": {
      "text/plain": [
       "<Response [200]>"
      ]
     },
     "execution_count": 35,
     "metadata": {},
     "output_type": "execute_result"
    }
   ],
   "source": [
    "page=requests.get(\"https://www.icc-cricket.com/rankings/mens/player-rankings/odi/batting\")\n",
    "page"
   ]
  },
  {
   "cell_type": "code",
   "execution_count": 36,
   "id": "8f19b73e",
   "metadata": {},
   "outputs": [],
   "source": [
    "soup=BeautifulSoup(page.content,\"html.parser\")\n"
   ]
  },
  {
   "cell_type": "code",
   "execution_count": 37,
   "id": "193cb30d",
   "metadata": {},
   "outputs": [],
   "source": [
    "btman=soup.find_all(\"td\")"
   ]
  },
  {
   "cell_type": "code",
   "execution_count": 38,
   "id": "c755e3ab",
   "metadata": {},
   "outputs": [],
   "source": [
    "nm=[]\n",
    "tm=[]\n",
    "rt=[]\n",
    "for i in range(len(btman)):\n",
    "    if i%5==1:\n",
    "        nm.append(btman[i].text.strip())\n",
    "    elif i%5==2:\n",
    "        tm.append(btman[i].text.strip())\n",
    "    elif i%5==3:\n",
    "        rt.append(btman[i].text.strip())\n",
    "    \n",
    "    "
   ]
  },
  {
   "cell_type": "code",
   "execution_count": 39,
   "id": "d4e7a4b1",
   "metadata": {},
   "outputs": [],
   "source": [
    "ODTBT={\"Batsman\":nm[:10],\"Team\":tm[:10],\"Rating\":rt[:10]}\n",
    "dr=pd.DataFrame(ODTBT)"
   ]
  },
  {
   "cell_type": "code",
   "execution_count": 40,
   "id": "2c3c3e33",
   "metadata": {},
   "outputs": [
    {
     "data": {
      "text/html": [
       "<div>\n",
       "<style scoped>\n",
       "    .dataframe tbody tr th:only-of-type {\n",
       "        vertical-align: middle;\n",
       "    }\n",
       "\n",
       "    .dataframe tbody tr th {\n",
       "        vertical-align: top;\n",
       "    }\n",
       "\n",
       "    .dataframe thead th {\n",
       "        text-align: right;\n",
       "    }\n",
       "</style>\n",
       "<table border=\"1\" class=\"dataframe\">\n",
       "  <thead>\n",
       "    <tr style=\"text-align: right;\">\n",
       "      <th></th>\n",
       "      <th>Batsman</th>\n",
       "      <th>Team</th>\n",
       "      <th>Rating</th>\n",
       "    </tr>\n",
       "  </thead>\n",
       "  <tbody>\n",
       "    <tr>\n",
       "      <th>0</th>\n",
       "      <td>Babar Azam</td>\n",
       "      <td>PAK</td>\n",
       "      <td>873</td>\n",
       "    </tr>\n",
       "    <tr>\n",
       "      <th>1</th>\n",
       "      <td>Virat Kohli</td>\n",
       "      <td>IND</td>\n",
       "      <td>811</td>\n",
       "    </tr>\n",
       "    <tr>\n",
       "      <th>2</th>\n",
       "      <td>Rohit Sharma</td>\n",
       "      <td>IND</td>\n",
       "      <td>791</td>\n",
       "    </tr>\n",
       "    <tr>\n",
       "      <th>3</th>\n",
       "      <td>Quinton de Kock</td>\n",
       "      <td>SA</td>\n",
       "      <td>783</td>\n",
       "    </tr>\n",
       "    <tr>\n",
       "      <th>4</th>\n",
       "      <td>Aaron Finch</td>\n",
       "      <td>AUS</td>\n",
       "      <td>779</td>\n",
       "    </tr>\n",
       "    <tr>\n",
       "      <th>5</th>\n",
       "      <td>Jonny Bairstow</td>\n",
       "      <td>ENG</td>\n",
       "      <td>775</td>\n",
       "    </tr>\n",
       "    <tr>\n",
       "      <th>6</th>\n",
       "      <td>David Warner</td>\n",
       "      <td>AUS</td>\n",
       "      <td>762</td>\n",
       "    </tr>\n",
       "    <tr>\n",
       "      <th>7</th>\n",
       "      <td>Rassie van der Dussen</td>\n",
       "      <td>SA</td>\n",
       "      <td>750</td>\n",
       "    </tr>\n",
       "    <tr>\n",
       "      <th>8</th>\n",
       "      <td>Fakhar Zaman</td>\n",
       "      <td>PAK</td>\n",
       "      <td>741</td>\n",
       "    </tr>\n",
       "    <tr>\n",
       "      <th>9</th>\n",
       "      <td>Joe Root</td>\n",
       "      <td>ENG</td>\n",
       "      <td>740</td>\n",
       "    </tr>\n",
       "  </tbody>\n",
       "</table>\n",
       "</div>"
      ],
      "text/plain": [
       "                 Batsman Team Rating\n",
       "0             Babar Azam  PAK    873\n",
       "1            Virat Kohli  IND    811\n",
       "2           Rohit Sharma  IND    791\n",
       "3        Quinton de Kock   SA    783\n",
       "4            Aaron Finch  AUS    779\n",
       "5         Jonny Bairstow  ENG    775\n",
       "6           David Warner  AUS    762\n",
       "7  Rassie van der Dussen   SA    750\n",
       "8           Fakhar Zaman  PAK    741\n",
       "9               Joe Root  ENG    740"
      ]
     },
     "execution_count": 40,
     "metadata": {},
     "output_type": "execute_result"
    }
   ],
   "source": [
    "dr"
   ]
  },
  {
   "cell_type": "markdown",
   "id": "4a3f3db0",
   "metadata": {},
   "source": [
    "# c) **Top 10 ODI bowlers**"
   ]
  },
  {
   "cell_type": "code",
   "execution_count": 41,
   "id": "da45003c",
   "metadata": {},
   "outputs": [
    {
     "data": {
      "text/plain": [
       "<Response [200]>"
      ]
     },
     "execution_count": 41,
     "metadata": {},
     "output_type": "execute_result"
    }
   ],
   "source": [
    "page=requests.get(\"https://www.icc-cricket.com/rankings/mens/player-rankings/odi/bowling\")\n",
    "page"
   ]
  },
  {
   "cell_type": "code",
   "execution_count": 42,
   "id": "4bc35d67",
   "metadata": {},
   "outputs": [],
   "source": [
    "soup=BeautifulSoup(page.content,\"html.parser\")"
   ]
  },
  {
   "cell_type": "code",
   "execution_count": 43,
   "id": "1ba79a2b",
   "metadata": {},
   "outputs": [],
   "source": [
    "bwl=soup.find_all(\"td\")"
   ]
  },
  {
   "cell_type": "code",
   "execution_count": 44,
   "id": "2e415319",
   "metadata": {},
   "outputs": [],
   "source": [
    "nm=[]\n",
    "tm=[]\n",
    "rt=[]\n",
    "for i in range(len(bwl)):\n",
    "    if i%5==1:\n",
    "        nm.append(bwl[i].text.strip())\n",
    "    elif i%5==2:\n",
    "        tm.append(bwl[i].text.strip())\n",
    "    elif i%5==3:\n",
    "        rt.append(bwl[i].text.strip())"
   ]
  },
  {
   "cell_type": "code",
   "execution_count": 45,
   "id": "177f7014",
   "metadata": {},
   "outputs": [],
   "source": [
    "ODTBWL={\"Bowler\":nm[:10],\"Team\":tm[:10],\"Rating\":rt[:10]}\n",
    "dr=pd.DataFrame(ODTBWL)"
   ]
  },
  {
   "cell_type": "code",
   "execution_count": 46,
   "id": "a8ba24dd",
   "metadata": {},
   "outputs": [
    {
     "data": {
      "text/html": [
       "<div>\n",
       "<style scoped>\n",
       "    .dataframe tbody tr th:only-of-type {\n",
       "        vertical-align: middle;\n",
       "    }\n",
       "\n",
       "    .dataframe tbody tr th {\n",
       "        vertical-align: top;\n",
       "    }\n",
       "\n",
       "    .dataframe thead th {\n",
       "        text-align: right;\n",
       "    }\n",
       "</style>\n",
       "<table border=\"1\" class=\"dataframe\">\n",
       "  <thead>\n",
       "    <tr style=\"text-align: right;\">\n",
       "      <th></th>\n",
       "      <th>Bowler</th>\n",
       "      <th>Team</th>\n",
       "      <th>Rating</th>\n",
       "    </tr>\n",
       "  </thead>\n",
       "  <tbody>\n",
       "    <tr>\n",
       "      <th>0</th>\n",
       "      <td>Trent Boult</td>\n",
       "      <td>NZ</td>\n",
       "      <td>737</td>\n",
       "    </tr>\n",
       "    <tr>\n",
       "      <th>1</th>\n",
       "      <td>Josh Hazlewood</td>\n",
       "      <td>AUS</td>\n",
       "      <td>709</td>\n",
       "    </tr>\n",
       "    <tr>\n",
       "      <th>2</th>\n",
       "      <td>Chris Woakes</td>\n",
       "      <td>ENG</td>\n",
       "      <td>700</td>\n",
       "    </tr>\n",
       "    <tr>\n",
       "      <th>3</th>\n",
       "      <td>Mujeeb Ur Rahman</td>\n",
       "      <td>AFG</td>\n",
       "      <td>697</td>\n",
       "    </tr>\n",
       "    <tr>\n",
       "      <th>4</th>\n",
       "      <td>Mehedi Hasan</td>\n",
       "      <td>BAN</td>\n",
       "      <td>692</td>\n",
       "    </tr>\n",
       "    <tr>\n",
       "      <th>5</th>\n",
       "      <td>Matt Henry</td>\n",
       "      <td>NZ</td>\n",
       "      <td>691</td>\n",
       "    </tr>\n",
       "    <tr>\n",
       "      <th>6</th>\n",
       "      <td>Jasprit Bumrah</td>\n",
       "      <td>IND</td>\n",
       "      <td>679</td>\n",
       "    </tr>\n",
       "    <tr>\n",
       "      <th>7</th>\n",
       "      <td>Mitchell Starc</td>\n",
       "      <td>AUS</td>\n",
       "      <td>652</td>\n",
       "    </tr>\n",
       "    <tr>\n",
       "      <th>8</th>\n",
       "      <td>Shakib Al Hasan</td>\n",
       "      <td>BAN</td>\n",
       "      <td>650</td>\n",
       "    </tr>\n",
       "    <tr>\n",
       "      <th>9</th>\n",
       "      <td>Andy McBrine</td>\n",
       "      <td>IRE</td>\n",
       "      <td>646</td>\n",
       "    </tr>\n",
       "  </tbody>\n",
       "</table>\n",
       "</div>"
      ],
      "text/plain": [
       "             Bowler Team Rating\n",
       "0       Trent Boult   NZ    737\n",
       "1    Josh Hazlewood  AUS    709\n",
       "2      Chris Woakes  ENG    700\n",
       "3  Mujeeb Ur Rahman  AFG    697\n",
       "4      Mehedi Hasan  BAN    692\n",
       "5        Matt Henry   NZ    691\n",
       "6    Jasprit Bumrah  IND    679\n",
       "7    Mitchell Starc  AUS    652\n",
       "8   Shakib Al Hasan  BAN    650\n",
       "9      Andy McBrine  IRE    646"
      ]
     },
     "execution_count": 46,
     "metadata": {},
     "output_type": "execute_result"
    }
   ],
   "source": [
    "dr"
   ]
  },
  {
   "cell_type": "markdown",
   "id": "4bdabecf",
   "metadata": {},
   "source": [
    "**Q6)Write a python program to scrape cricket rankings from icc-cricket.com. You have to scrape:**\n",
    "    \n",
    "**a) Top 10 ODI teams in women’s cricket along with the records for matches, points and rating**\n",
    "\n",
    "**b) Top 10 women’s ODI Batting players along with the records of their team and rating**\n",
    "\n",
    "**c) Top 10 women’s ODI all-rounder along with the records of their team and rating**"
   ]
  },
  {
   "cell_type": "markdown",
   "id": "6c2b74ff",
   "metadata": {},
   "source": [
    "## a) Top 10 ODI teams in women’s"
   ]
  },
  {
   "cell_type": "code",
   "execution_count": 47,
   "id": "18396165",
   "metadata": {},
   "outputs": [
    {
     "data": {
      "text/plain": [
       "<Response [200]>"
      ]
     },
     "execution_count": 47,
     "metadata": {},
     "output_type": "execute_result"
    }
   ],
   "source": [
    "page=requests.get(\"https://www.icc-cricket.com/rankings/womens/team-rankings/odi\")\n",
    "page"
   ]
  },
  {
   "cell_type": "code",
   "execution_count": 48,
   "id": "76762b88",
   "metadata": {},
   "outputs": [],
   "source": [
    "soup=BeautifulSoup(page.content,\"html.parser\")"
   ]
  },
  {
   "cell_type": "code",
   "execution_count": 49,
   "id": "33d96788",
   "metadata": {},
   "outputs": [],
   "source": [
    "women=soup.find_all(\"td\")\n",
    "team=soup.find_all(\"span\",class_=\"u-hide-phablet\")"
   ]
  },
  {
   "cell_type": "code",
   "execution_count": 50,
   "id": "7250457c",
   "metadata": {},
   "outputs": [],
   "source": [
    "nm=[]\n",
    "mt=[]\n",
    "pt=[]\n",
    "rt=[]\n",
    "for i in range(len(women)):\n",
    "    if i%5==2:\n",
    "        mt.append(women[i].text.strip())\n",
    "    elif i%5==3:\n",
    "        pt.append(women[i].text.strip())\n",
    "    elif i%5==4:\n",
    "            rt.append(women[i].text.strip())\n",
    "for i in team:\n",
    "    nm.append(i.text.strip())\n",
    "    "
   ]
  },
  {
   "cell_type": "code",
   "execution_count": 51,
   "id": "5f230518",
   "metadata": {},
   "outputs": [],
   "source": [
    "ODIWM={\"Team\":nm[:10],\"Matches\":mt[:10],\"Points\":pt[:10],\"Rating\":rt[:10]}\n",
    "dr1=pd.DataFrame(ODIWM)"
   ]
  },
  {
   "cell_type": "code",
   "execution_count": 52,
   "id": "6feeca8d",
   "metadata": {},
   "outputs": [
    {
     "data": {
      "text/html": [
       "<div>\n",
       "<style scoped>\n",
       "    .dataframe tbody tr th:only-of-type {\n",
       "        vertical-align: middle;\n",
       "    }\n",
       "\n",
       "    .dataframe tbody tr th {\n",
       "        vertical-align: top;\n",
       "    }\n",
       "\n",
       "    .dataframe thead th {\n",
       "        text-align: right;\n",
       "    }\n",
       "</style>\n",
       "<table border=\"1\" class=\"dataframe\">\n",
       "  <thead>\n",
       "    <tr style=\"text-align: right;\">\n",
       "      <th></th>\n",
       "      <th>Team</th>\n",
       "      <th>Matches</th>\n",
       "      <th>Points</th>\n",
       "      <th>Rating</th>\n",
       "    </tr>\n",
       "  </thead>\n",
       "  <tbody>\n",
       "    <tr>\n",
       "      <th>0</th>\n",
       "      <td>Australia</td>\n",
       "      <td>20</td>\n",
       "      <td>3,263</td>\n",
       "      <td>163</td>\n",
       "    </tr>\n",
       "    <tr>\n",
       "      <th>1</th>\n",
       "      <td>South Africa</td>\n",
       "      <td>21</td>\n",
       "      <td>2,580</td>\n",
       "      <td>123</td>\n",
       "    </tr>\n",
       "    <tr>\n",
       "      <th>2</th>\n",
       "      <td>England</td>\n",
       "      <td>21</td>\n",
       "      <td>2,474</td>\n",
       "      <td>118</td>\n",
       "    </tr>\n",
       "    <tr>\n",
       "      <th>3</th>\n",
       "      <td>India</td>\n",
       "      <td>22</td>\n",
       "      <td>2,221</td>\n",
       "      <td>101</td>\n",
       "    </tr>\n",
       "    <tr>\n",
       "      <th>4</th>\n",
       "      <td>New Zealand</td>\n",
       "      <td>24</td>\n",
       "      <td>2,342</td>\n",
       "      <td>98</td>\n",
       "    </tr>\n",
       "    <tr>\n",
       "      <th>5</th>\n",
       "      <td>Bangladesh</td>\n",
       "      <td>5</td>\n",
       "      <td>475</td>\n",
       "      <td>95</td>\n",
       "    </tr>\n",
       "    <tr>\n",
       "      <th>6</th>\n",
       "      <td>West Indies</td>\n",
       "      <td>21</td>\n",
       "      <td>1,801</td>\n",
       "      <td>86</td>\n",
       "    </tr>\n",
       "    <tr>\n",
       "      <th>7</th>\n",
       "      <td>Pakistan</td>\n",
       "      <td>19</td>\n",
       "      <td>1,304</td>\n",
       "      <td>69</td>\n",
       "    </tr>\n",
       "    <tr>\n",
       "      <th>8</th>\n",
       "      <td>Ireland</td>\n",
       "      <td>5</td>\n",
       "      <td>240</td>\n",
       "      <td>48</td>\n",
       "    </tr>\n",
       "    <tr>\n",
       "      <th>9</th>\n",
       "      <td>Sri Lanka</td>\n",
       "      <td>5</td>\n",
       "      <td>233</td>\n",
       "      <td>47</td>\n",
       "    </tr>\n",
       "  </tbody>\n",
       "</table>\n",
       "</div>"
      ],
      "text/plain": [
       "           Team Matches Points Rating\n",
       "0     Australia      20  3,263    163\n",
       "1  South Africa      21  2,580    123\n",
       "2       England      21  2,474    118\n",
       "3         India      22  2,221    101\n",
       "4   New Zealand      24  2,342     98\n",
       "5    Bangladesh       5    475     95\n",
       "6   West Indies      21  1,801     86\n",
       "7      Pakistan      19  1,304     69\n",
       "8       Ireland       5    240     48\n",
       "9     Sri Lanka       5    233     47"
      ]
     },
     "execution_count": 52,
     "metadata": {},
     "output_type": "execute_result"
    }
   ],
   "source": [
    "dr1"
   ]
  },
  {
   "cell_type": "markdown",
   "id": "9b25efb0",
   "metadata": {},
   "source": [
    "## b) Top 10 women’s ODI Batting players "
   ]
  },
  {
   "cell_type": "code",
   "execution_count": 53,
   "id": "c28ffa2a",
   "metadata": {},
   "outputs": [
    {
     "data": {
      "text/plain": [
       "<Response [200]>"
      ]
     },
     "execution_count": 53,
     "metadata": {},
     "output_type": "execute_result"
    }
   ],
   "source": [
    "page=requests.get(\"https://www.icc-cricket.com/rankings/womens/player-rankings/odi/batting\")\n",
    "page"
   ]
  },
  {
   "cell_type": "code",
   "execution_count": 54,
   "id": "fc1ff6b1",
   "metadata": {},
   "outputs": [],
   "source": [
    "soup=BeautifulSoup(page.content,\"html.parser\")"
   ]
  },
  {
   "cell_type": "code",
   "execution_count": 55,
   "id": "a976de91",
   "metadata": {},
   "outputs": [],
   "source": [
    "women=soup.find_all(\"td\")"
   ]
  },
  {
   "cell_type": "code",
   "execution_count": 56,
   "id": "edd73bbe",
   "metadata": {},
   "outputs": [],
   "source": [
    "nm=[]\n",
    "tm=[]\n",
    "rt=[]\n",
    "for i in range(len(women)):\n",
    "    if i%5==1:\n",
    "        nm.append(women[i].text.strip())\n",
    "    elif i%5==2:\n",
    "        tm.append(women[i].text.strip())\n",
    "    elif i%5==3:\n",
    "        rt.append(women[i].text.strip())\n",
    "        \n",
    "    "
   ]
  },
  {
   "cell_type": "code",
   "execution_count": 57,
   "id": "eb71f1f2",
   "metadata": {},
   "outputs": [],
   "source": [
    "woteam={\"Name\":nm[:10],\"Team\":tm[:10],\"Rating\":rt[:10]}\n",
    "drt=pd.DataFrame(woteam)\n"
   ]
  },
  {
   "cell_type": "code",
   "execution_count": 58,
   "id": "fe196241",
   "metadata": {},
   "outputs": [
    {
     "data": {
      "text/html": [
       "<div>\n",
       "<style scoped>\n",
       "    .dataframe tbody tr th:only-of-type {\n",
       "        vertical-align: middle;\n",
       "    }\n",
       "\n",
       "    .dataframe tbody tr th {\n",
       "        vertical-align: top;\n",
       "    }\n",
       "\n",
       "    .dataframe thead th {\n",
       "        text-align: right;\n",
       "    }\n",
       "</style>\n",
       "<table border=\"1\" class=\"dataframe\">\n",
       "  <thead>\n",
       "    <tr style=\"text-align: right;\">\n",
       "      <th></th>\n",
       "      <th>Name</th>\n",
       "      <th>Team</th>\n",
       "      <th>Rating</th>\n",
       "    </tr>\n",
       "  </thead>\n",
       "  <tbody>\n",
       "    <tr>\n",
       "      <th>0</th>\n",
       "      <td>Alyssa Healy</td>\n",
       "      <td>AUS</td>\n",
       "      <td>749</td>\n",
       "    </tr>\n",
       "    <tr>\n",
       "      <th>1</th>\n",
       "      <td>Mithali Raj</td>\n",
       "      <td>IND</td>\n",
       "      <td>741</td>\n",
       "    </tr>\n",
       "    <tr>\n",
       "      <th>2</th>\n",
       "      <td>Amy Satterthwaite</td>\n",
       "      <td>NZ</td>\n",
       "      <td>719</td>\n",
       "    </tr>\n",
       "    <tr>\n",
       "      <th>3</th>\n",
       "      <td>Tammy Beaumont</td>\n",
       "      <td>ENG</td>\n",
       "      <td>707</td>\n",
       "    </tr>\n",
       "    <tr>\n",
       "      <th>4</th>\n",
       "      <td>Meg Lanning</td>\n",
       "      <td>AUS</td>\n",
       "      <td>706</td>\n",
       "    </tr>\n",
       "    <tr>\n",
       "      <th>5</th>\n",
       "      <td>Beth Mooney</td>\n",
       "      <td>AUS</td>\n",
       "      <td>705</td>\n",
       "    </tr>\n",
       "    <tr>\n",
       "      <th>6</th>\n",
       "      <td>Lizelle Lee</td>\n",
       "      <td>SA</td>\n",
       "      <td>702</td>\n",
       "    </tr>\n",
       "    <tr>\n",
       "      <th>7</th>\n",
       "      <td>Smriti Mandhana</td>\n",
       "      <td>IND</td>\n",
       "      <td>668</td>\n",
       "    </tr>\n",
       "    <tr>\n",
       "      <th>8</th>\n",
       "      <td>Laura Wolvaardt</td>\n",
       "      <td>SA</td>\n",
       "      <td>661</td>\n",
       "    </tr>\n",
       "    <tr>\n",
       "      <th>9</th>\n",
       "      <td>Ellyse Perry</td>\n",
       "      <td>AUS</td>\n",
       "      <td>661</td>\n",
       "    </tr>\n",
       "  </tbody>\n",
       "</table>\n",
       "</div>"
      ],
      "text/plain": [
       "                Name Team Rating\n",
       "0       Alyssa Healy  AUS    749\n",
       "1        Mithali Raj  IND    741\n",
       "2  Amy Satterthwaite   NZ    719\n",
       "3     Tammy Beaumont  ENG    707\n",
       "4        Meg Lanning  AUS    706\n",
       "5        Beth Mooney  AUS    705\n",
       "6        Lizelle Lee   SA    702\n",
       "7    Smriti Mandhana  IND    668\n",
       "8    Laura Wolvaardt   SA    661\n",
       "9       Ellyse Perry  AUS    661"
      ]
     },
     "execution_count": 58,
     "metadata": {},
     "output_type": "execute_result"
    }
   ],
   "source": [
    "drt"
   ]
  },
  {
   "cell_type": "markdown",
   "id": "cf9a3699",
   "metadata": {},
   "source": [
    "## **c)Top 10 women’s ODI all-rounder**"
   ]
  },
  {
   "cell_type": "code",
   "execution_count": 59,
   "id": "63c5b816",
   "metadata": {},
   "outputs": [
    {
     "data": {
      "text/plain": [
       "<Response [200]>"
      ]
     },
     "execution_count": 59,
     "metadata": {},
     "output_type": "execute_result"
    }
   ],
   "source": [
    "page=requests.get(\"https://www.icc-cricket.com/rankings/womens/player-rankings/odi/all-rounder\")\n",
    "page"
   ]
  },
  {
   "cell_type": "code",
   "execution_count": 60,
   "id": "7d7688bb",
   "metadata": {},
   "outputs": [],
   "source": [
    "soup=BeautifulSoup(page.content,\"html.parser\")"
   ]
  },
  {
   "cell_type": "code",
   "execution_count": 61,
   "id": "6f9b8533",
   "metadata": {},
   "outputs": [],
   "source": [
    "women=soup.find_all(\"td\")"
   ]
  },
  {
   "cell_type": "code",
   "execution_count": 62,
   "id": "832b0434",
   "metadata": {},
   "outputs": [],
   "source": [
    "nm=[]\n",
    "tm=[]\n",
    "rt=[]\n",
    "for i in range(len(women)):\n",
    "    if i%5==1:\n",
    "        nm.append(women[i].text.strip())\n",
    "    elif i%5==2:\n",
    "        tm.append(women[i].text.strip())\n",
    "    elif i%5==3:\n",
    "        rt.append(women[i].text.strip())\n"
   ]
  },
  {
   "cell_type": "code",
   "execution_count": 63,
   "id": "8f39b5b3",
   "metadata": {},
   "outputs": [],
   "source": [
    "ODIWOM={\"Name\":nm[:10],\"Team\":tm[:10],\"Rating\":rt[:10]}\n",
    "fr=pd.DataFrame(ODIWOM)"
   ]
  },
  {
   "cell_type": "code",
   "execution_count": 64,
   "id": "09f95cc3",
   "metadata": {},
   "outputs": [
    {
     "data": {
      "text/html": [
       "<div>\n",
       "<style scoped>\n",
       "    .dataframe tbody tr th:only-of-type {\n",
       "        vertical-align: middle;\n",
       "    }\n",
       "\n",
       "    .dataframe tbody tr th {\n",
       "        vertical-align: top;\n",
       "    }\n",
       "\n",
       "    .dataframe thead th {\n",
       "        text-align: right;\n",
       "    }\n",
       "</style>\n",
       "<table border=\"1\" class=\"dataframe\">\n",
       "  <thead>\n",
       "    <tr style=\"text-align: right;\">\n",
       "      <th></th>\n",
       "      <th>Name</th>\n",
       "      <th>Team</th>\n",
       "      <th>Rating</th>\n",
       "    </tr>\n",
       "  </thead>\n",
       "  <tbody>\n",
       "    <tr>\n",
       "      <th>0</th>\n",
       "      <td>Ellyse Perry</td>\n",
       "      <td>AUS</td>\n",
       "      <td>438</td>\n",
       "    </tr>\n",
       "    <tr>\n",
       "      <th>1</th>\n",
       "      <td>Natalie Sciver</td>\n",
       "      <td>ENG</td>\n",
       "      <td>351</td>\n",
       "    </tr>\n",
       "    <tr>\n",
       "      <th>2</th>\n",
       "      <td>Marizanne Kapp</td>\n",
       "      <td>SA</td>\n",
       "      <td>327</td>\n",
       "    </tr>\n",
       "    <tr>\n",
       "      <th>3</th>\n",
       "      <td>Deepti Sharma</td>\n",
       "      <td>IND</td>\n",
       "      <td>316</td>\n",
       "    </tr>\n",
       "    <tr>\n",
       "      <th>4</th>\n",
       "      <td>Katherine Brunt</td>\n",
       "      <td>ENG</td>\n",
       "      <td>273</td>\n",
       "    </tr>\n",
       "    <tr>\n",
       "      <th>5</th>\n",
       "      <td>Amelia Kerr</td>\n",
       "      <td>NZ</td>\n",
       "      <td>269</td>\n",
       "    </tr>\n",
       "    <tr>\n",
       "      <th>6</th>\n",
       "      <td>Jess Jonassen</td>\n",
       "      <td>AUS</td>\n",
       "      <td>263</td>\n",
       "    </tr>\n",
       "    <tr>\n",
       "      <th>7</th>\n",
       "      <td>Stafanie Taylor</td>\n",
       "      <td>WI</td>\n",
       "      <td>262</td>\n",
       "    </tr>\n",
       "    <tr>\n",
       "      <th>8</th>\n",
       "      <td>Ashleigh Gardner</td>\n",
       "      <td>AUS</td>\n",
       "      <td>256</td>\n",
       "    </tr>\n",
       "    <tr>\n",
       "      <th>9</th>\n",
       "      <td>Hayley Matthews</td>\n",
       "      <td>WI</td>\n",
       "      <td>254</td>\n",
       "    </tr>\n",
       "  </tbody>\n",
       "</table>\n",
       "</div>"
      ],
      "text/plain": [
       "               Name Team Rating\n",
       "0      Ellyse Perry  AUS    438\n",
       "1    Natalie Sciver  ENG    351\n",
       "2    Marizanne Kapp   SA    327\n",
       "3     Deepti Sharma  IND    316\n",
       "4   Katherine Brunt  ENG    273\n",
       "5       Amelia Kerr   NZ    269\n",
       "6     Jess Jonassen  AUS    263\n",
       "7   Stafanie Taylor   WI    262\n",
       "8  Ashleigh Gardner  AUS    256\n",
       "9   Hayley Matthews   WI    254"
      ]
     },
     "execution_count": 64,
     "metadata": {},
     "output_type": "execute_result"
    }
   ],
   "source": [
    "fr"
   ]
  },
  {
   "cell_type": "markdown",
   "id": "8208dac4",
   "metadata": {},
   "source": [
    "**Q7) Write a python program to scrape details of all the posts from coreyms.com. Scrape the heading, date, content\n",
    "and the code for the video from the link for the youtube video from the post.**"
   ]
  },
  {
   "cell_type": "code",
   "execution_count": 65,
   "id": "4f4d20f1",
   "metadata": {},
   "outputs": [
    {
     "data": {
      "text/plain": [
       "<Response [200]>"
      ]
     },
     "execution_count": 65,
     "metadata": {},
     "output_type": "execute_result"
    }
   ],
   "source": [
    "page=requests.get(\"https://coreyms.com/\")\n",
    "page"
   ]
  },
  {
   "cell_type": "code",
   "execution_count": 66,
   "id": "a16c309d",
   "metadata": {},
   "outputs": [],
   "source": [
    "soup=BeautifulSoup(page.content,\"html.parser\")"
   ]
  },
  {
   "cell_type": "code",
   "execution_count": 67,
   "id": "1a8ce91c",
   "metadata": {},
   "outputs": [],
   "source": [
    "heading=soup.find_all(\"h2\")\n",
    "date=soup.find_all(\"time\",class_=\"entry-time\")\n",
    "content=soup.find_all(\"div\",class_=\"entry-content\")\n",
    "code=soup.find_all(\"iframe\",class_=\"youtube-player\")"
   ]
  },
  {
   "cell_type": "code",
   "execution_count": 71,
   "id": "d94b1709",
   "metadata": {},
   "outputs": [],
   "source": [
    "hd=[]\n",
    "dt=[]\n",
    "con=[]\n",
    "cd=[]\n",
    "for i in heading:\n",
    "    hd.append(i.text.strip())\n",
    "for i in date:\n",
    "    dt.append(i.text.strip())\n",
    "for i in content:\n",
    "    con.append(i.text.strip())\n",
    "for i in code:\n",
    "    cd.append(i[\"src\"])"
   ]
  },
  {
   "cell_type": "code",
   "execution_count": 72,
   "id": "f411ebe6",
   "metadata": {},
   "outputs": [],
   "source": [
    "course={\"Heading\":hd[:9],\"Date\":dt[:9],\"Content\":con[:9],\"Code\":cd[:9]}"
   ]
  },
  {
   "cell_type": "code",
   "execution_count": 73,
   "id": "e2c0b08a",
   "metadata": {},
   "outputs": [],
   "source": [
    "course1=pd.DataFrame(course)"
   ]
  },
  {
   "cell_type": "code",
   "execution_count": 74,
   "id": "a3b3d743",
   "metadata": {},
   "outputs": [
    {
     "data": {
      "text/html": [
       "<div>\n",
       "<style scoped>\n",
       "    .dataframe tbody tr th:only-of-type {\n",
       "        vertical-align: middle;\n",
       "    }\n",
       "\n",
       "    .dataframe tbody tr th {\n",
       "        vertical-align: top;\n",
       "    }\n",
       "\n",
       "    .dataframe thead th {\n",
       "        text-align: right;\n",
       "    }\n",
       "</style>\n",
       "<table border=\"1\" class=\"dataframe\">\n",
       "  <thead>\n",
       "    <tr style=\"text-align: right;\">\n",
       "      <th></th>\n",
       "      <th>Heading</th>\n",
       "      <th>Date</th>\n",
       "      <th>Content</th>\n",
       "      <th>Code</th>\n",
       "    </tr>\n",
       "  </thead>\n",
       "  <tbody>\n",
       "    <tr>\n",
       "      <th>0</th>\n",
       "      <td>Python Tutorial: Zip Files – Creating and Extr...</td>\n",
       "      <td>November 19, 2019</td>\n",
       "      <td>In this video, we will be learning how to crea...</td>\n",
       "      <td>https://www.youtube.com/embed/z0gguhEmWiY?vers...</td>\n",
       "    </tr>\n",
       "    <tr>\n",
       "      <th>1</th>\n",
       "      <td>Python Data Science Tutorial: Analyzing the 20...</td>\n",
       "      <td>October 17, 2019</td>\n",
       "      <td>In this Python Programming video, we will be l...</td>\n",
       "      <td>https://www.youtube.com/embed/_P7X8tMplsw?vers...</td>\n",
       "    </tr>\n",
       "    <tr>\n",
       "      <th>2</th>\n",
       "      <td>Python Multiprocessing Tutorial: Run Code in P...</td>\n",
       "      <td>September 21, 2019</td>\n",
       "      <td>In this Python Programming video, we will be l...</td>\n",
       "      <td>https://www.youtube.com/embed/fKl2JW_qrso?vers...</td>\n",
       "    </tr>\n",
       "    <tr>\n",
       "      <th>3</th>\n",
       "      <td>Python Threading Tutorial: Run Code Concurrent...</td>\n",
       "      <td>September 12, 2019</td>\n",
       "      <td>In this Python Programming video, we will be l...</td>\n",
       "      <td>https://www.youtube.com/embed/IEEhzQoKtQU?vers...</td>\n",
       "    </tr>\n",
       "    <tr>\n",
       "      <th>4</th>\n",
       "      <td>Update (2019-09-03)</td>\n",
       "      <td>September 3, 2019</td>\n",
       "      <td>Hey everyone. I wanted to give you an update o...</td>\n",
       "      <td>https://www.youtube.com/embed/mO_dS3rXDIs?vers...</td>\n",
       "    </tr>\n",
       "    <tr>\n",
       "      <th>5</th>\n",
       "      <td>Python Quick Tip: The Difference Between “==” ...</td>\n",
       "      <td>August 6, 2019</td>\n",
       "      <td>In this Python Programming Tutorial, we will b...</td>\n",
       "      <td>https://www.youtube.com/embed/2Fp1N6dof0Y?vers...</td>\n",
       "    </tr>\n",
       "    <tr>\n",
       "      <th>6</th>\n",
       "      <td>Python Tutorial: Calling External Commands Usi...</td>\n",
       "      <td>July 24, 2019</td>\n",
       "      <td>In this Python Programming Tutorial, we will b...</td>\n",
       "      <td>https://www.youtube.com/embed/-nh9rCzPJ20?vers...</td>\n",
       "    </tr>\n",
       "    <tr>\n",
       "      <th>7</th>\n",
       "      <td>Visual Studio Code (Windows) – Setting up a Py...</td>\n",
       "      <td>May 1, 2019</td>\n",
       "      <td>In this Python Programming Tutorial, we will b...</td>\n",
       "      <td>https://www.youtube.com/embed/06I63_p-2A4?vers...</td>\n",
       "    </tr>\n",
       "    <tr>\n",
       "      <th>8</th>\n",
       "      <td>Visual Studio Code (Mac) – Setting up a Python...</td>\n",
       "      <td>May 1, 2019</td>\n",
       "      <td>In this Python Programming Tutorial, we will b...</td>\n",
       "      <td>https://www.youtube.com/embed/_JGmemuINww?vers...</td>\n",
       "    </tr>\n",
       "  </tbody>\n",
       "</table>\n",
       "</div>"
      ],
      "text/plain": [
       "                                             Heading                Date  \\\n",
       "0  Python Tutorial: Zip Files – Creating and Extr...   November 19, 2019   \n",
       "1  Python Data Science Tutorial: Analyzing the 20...    October 17, 2019   \n",
       "2  Python Multiprocessing Tutorial: Run Code in P...  September 21, 2019   \n",
       "3  Python Threading Tutorial: Run Code Concurrent...  September 12, 2019   \n",
       "4                                Update (2019-09-03)   September 3, 2019   \n",
       "5  Python Quick Tip: The Difference Between “==” ...      August 6, 2019   \n",
       "6  Python Tutorial: Calling External Commands Usi...       July 24, 2019   \n",
       "7  Visual Studio Code (Windows) – Setting up a Py...         May 1, 2019   \n",
       "8  Visual Studio Code (Mac) – Setting up a Python...         May 1, 2019   \n",
       "\n",
       "                                             Content  \\\n",
       "0  In this video, we will be learning how to crea...   \n",
       "1  In this Python Programming video, we will be l...   \n",
       "2  In this Python Programming video, we will be l...   \n",
       "3  In this Python Programming video, we will be l...   \n",
       "4  Hey everyone. I wanted to give you an update o...   \n",
       "5  In this Python Programming Tutorial, we will b...   \n",
       "6  In this Python Programming Tutorial, we will b...   \n",
       "7  In this Python Programming Tutorial, we will b...   \n",
       "8  In this Python Programming Tutorial, we will b...   \n",
       "\n",
       "                                                Code  \n",
       "0  https://www.youtube.com/embed/z0gguhEmWiY?vers...  \n",
       "1  https://www.youtube.com/embed/_P7X8tMplsw?vers...  \n",
       "2  https://www.youtube.com/embed/fKl2JW_qrso?vers...  \n",
       "3  https://www.youtube.com/embed/IEEhzQoKtQU?vers...  \n",
       "4  https://www.youtube.com/embed/mO_dS3rXDIs?vers...  \n",
       "5  https://www.youtube.com/embed/2Fp1N6dof0Y?vers...  \n",
       "6  https://www.youtube.com/embed/-nh9rCzPJ20?vers...  \n",
       "7  https://www.youtube.com/embed/06I63_p-2A4?vers...  \n",
       "8  https://www.youtube.com/embed/_JGmemuINww?vers...  "
      ]
     },
     "execution_count": 74,
     "metadata": {},
     "output_type": "execute_result"
    }
   ],
   "source": [
    "course1"
   ]
  },
  {
   "cell_type": "markdown",
   "id": "f385f225",
   "metadata": {},
   "source": [
    "##**Q8)Write a python program to scrape house details from mentioned URL. It should include house title, location,\n",
    "area, EMI and price from https://www.nobroker.in/ .Enter three localities which are Indira Nagar, Jayanagar, \n",
    "Rajaji Nagar.**\n"
   ]
  },
  {
   "cell_type": "code",
   "execution_count": 75,
   "id": "eda59e19",
   "metadata": {},
   "outputs": [
    {
     "data": {
      "text/plain": [
       "<Response [200]>"
      ]
     },
     "execution_count": 75,
     "metadata": {},
     "output_type": "execute_result"
    }
   ],
   "source": [
    "page=requests.get(\"https://www.nobroker.in/property/sale/bangalore/multiple?searchParam=W3sibGF0IjoxMi45NzgzNjkyLCJsb24iOjc3LjY0MDgzNTYsInBsYWNlSWQiOiJDaElKa1FOM0dLUVdyanNSTmhCUUpyaEdEN1UiLCJwbGFjZU5hbWUiOiJJbmRpcmFuYWdhciJ9LHsibGF0IjoxMi45MzA3NzM1LCJsb24iOjc3LjU4MzgzMDIsInBsYWNlSWQiOiJDaElKMmRkbFo1Z1ZyanNSaDFCT0FhZi1vcnMiLCJwbGFjZU5hbWUiOiJKYXlhbmFnYXIifSx7ImxhdCI6MTIuOTk4MTczMiwibG9uIjo3Ny41NTMwNDQ1OTk5OTk5OSwicGxhY2VJZCI6IkNoSUp4Zlc0RFBNOXJqc1JLc05URy01cF9RUSIsInBsYWNlTmFtZSI6IlJhamFqaW5hZ2FyIn1d&radius=2.0&city=bangalore&locality=Indiranagar,&locality=Jayanagar,&locality=Rajajinagar\")\n",
    "page"
   ]
  },
  {
   "cell_type": "code",
   "execution_count": 76,
   "id": "b6c32f2a",
   "metadata": {},
   "outputs": [],
   "source": [
    "soup=BeautifulSoup(page.content,\"html.parser\")"
   ]
  },
  {
   "cell_type": "code",
   "execution_count": 77,
   "id": "645483e0",
   "metadata": {},
   "outputs": [],
   "source": [
    "htitle=soup.find_all(\"h2\",class_=\"heading-6 flex items-center font-semi-bold m-0\")\n",
    "loc=soup.find_all(\"div\",class_=\"mt-0.5p overflow-hidden overflow-ellipsis whitespace-nowrap max-w-70 text-gray-light leading-4 po:mb-0 po:max-w-95\")\n",
    "ar=soup.find_all(\"div\",id=\"minRent\")   \n",
    "em=soup.find_all(\"div\",id=\"roomType\")\n",
    "pr=soup.find_all(\"div\",class_=\"flex flex-col w-33pe items-center bo tp:w-half po:w-full border-r-0\")\n"
   ]
  },
  {
   "cell_type": "code",
   "execution_count": 83,
   "id": "6a50bd72",
   "metadata": {},
   "outputs": [],
   "source": [
    "ht=[]\n",
    "lc=[]\n",
    "r=[]\n",
    "emi=[]\n",
    "amt=[]\n",
    "for i in htitle:\n",
    "    ht.append(i.text)\n",
    "for i in loc:\n",
    "    lc.append(i.text)\n",
    "for i in ar:\n",
    "    r.append(i.text)\n",
    "for i in em:\n",
    "    emi.append(i.text)\n",
    "for i in pr:\n",
    "    amt.append(i.text)"
   ]
  },
  {
   "cell_type": "code",
   "execution_count": 85,
   "id": "755285b6",
   "metadata": {},
   "outputs": [],
   "source": [
    "housetype={\"Housetitle\":ht,\"Location\":lc,\"Area\":r,\"Emi\":emi,\"Price\":amt}\n"
   ]
  },
  {
   "cell_type": "code",
   "execution_count": 86,
   "id": "b3e2fbd3",
   "metadata": {},
   "outputs": [],
   "source": [
    "dt1=pd.DataFrame(housetype)"
   ]
  },
  {
   "cell_type": "code",
   "execution_count": 87,
   "id": "e4e5b53c",
   "metadata": {},
   "outputs": [
    {
     "data": {
      "text/html": [
       "<div>\n",
       "<style scoped>\n",
       "    .dataframe tbody tr th:only-of-type {\n",
       "        vertical-align: middle;\n",
       "    }\n",
       "\n",
       "    .dataframe tbody tr th {\n",
       "        vertical-align: top;\n",
       "    }\n",
       "\n",
       "    .dataframe thead th {\n",
       "        text-align: right;\n",
       "    }\n",
       "</style>\n",
       "<table border=\"1\" class=\"dataframe\">\n",
       "  <thead>\n",
       "    <tr style=\"text-align: right;\">\n",
       "      <th></th>\n",
       "      <th>Housetitle</th>\n",
       "      <th>Location</th>\n",
       "      <th>Area</th>\n",
       "      <th>Emi</th>\n",
       "      <th>Price</th>\n",
       "    </tr>\n",
       "  </thead>\n",
       "  <tbody>\n",
       "    <tr>\n",
       "      <th>0</th>\n",
       "      <td>3 BHK Flat  For Sale  In Sobha Indraprastha, R...</td>\n",
       "      <td>Minerva Mills Compound,Opposite Sujata Theatre...</td>\n",
       "      <td>2,200 sqft</td>\n",
       "      <td>₹2.06 Lacs/Month</td>\n",
       "      <td>₹3.6 Crores₹16,364 per sq.ft.</td>\n",
       "    </tr>\n",
       "    <tr>\n",
       "      <th>1</th>\n",
       "      <td>3 BHK Flat  For Sale  In  Sgrr Pallavi Pristin...</td>\n",
       "      <td>11th Main Road,36 Cross, 4th T Block, Near ,Po...</td>\n",
       "      <td>1,340 sqft</td>\n",
       "      <td>₹74,508/Month</td>\n",
       "      <td>₹1.3 Crores₹9,701 per sq.ft.</td>\n",
       "    </tr>\n",
       "    <tr>\n",
       "      <th>2</th>\n",
       "      <td>2 BHK In Independent House  For Sale  In 9th B...</td>\n",
       "      <td>Independent House, 41 A Cross, 18th Main, Jaya...</td>\n",
       "      <td>1,500 sqft</td>\n",
       "      <td>₹65,911/Month</td>\n",
       "      <td>₹1.15 Crores₹7,667 per sq.ft.</td>\n",
       "    </tr>\n",
       "    <tr>\n",
       "      <th>3</th>\n",
       "      <td>3 BHK Flat  For Sale  In Total Environment Lif...</td>\n",
       "      <td>30th Cross Rd, 4th T Block , Jayanagar, Bengal...</td>\n",
       "      <td>2,628 sqft</td>\n",
       "      <td>₹1.72 Lacs/Month</td>\n",
       "      <td>₹3 Crores₹11,416 per sq.ft.</td>\n",
       "    </tr>\n",
       "    <tr>\n",
       "      <th>4</th>\n",
       "      <td>4 BHK In Independent House  For Sale  In Jayan...</td>\n",
       "      <td>Independent House, 47th Cross Rd, 8th Block, 1...</td>\n",
       "      <td>3,700 sqft</td>\n",
       "      <td>₹5.44 Lacs/Month</td>\n",
       "      <td>₹9.5 Crores₹25,676 per sq.ft.</td>\n",
       "    </tr>\n",
       "  </tbody>\n",
       "</table>\n",
       "</div>"
      ],
      "text/plain": [
       "                                          Housetitle  \\\n",
       "0  3 BHK Flat  For Sale  In Sobha Indraprastha, R...   \n",
       "1  3 BHK Flat  For Sale  In  Sgrr Pallavi Pristin...   \n",
       "2  2 BHK In Independent House  For Sale  In 9th B...   \n",
       "3  3 BHK Flat  For Sale  In Total Environment Lif...   \n",
       "4  4 BHK In Independent House  For Sale  In Jayan...   \n",
       "\n",
       "                                            Location        Area  \\\n",
       "0  Minerva Mills Compound,Opposite Sujata Theatre...  2,200 sqft   \n",
       "1  11th Main Road,36 Cross, 4th T Block, Near ,Po...  1,340 sqft   \n",
       "2  Independent House, 41 A Cross, 18th Main, Jaya...  1,500 sqft   \n",
       "3  30th Cross Rd, 4th T Block , Jayanagar, Bengal...  2,628 sqft   \n",
       "4  Independent House, 47th Cross Rd, 8th Block, 1...  3,700 sqft   \n",
       "\n",
       "                Emi                          Price  \n",
       "0  ₹2.06 Lacs/Month  ₹3.6 Crores₹16,364 per sq.ft.  \n",
       "1     ₹74,508/Month   ₹1.3 Crores₹9,701 per sq.ft.  \n",
       "2     ₹65,911/Month  ₹1.15 Crores₹7,667 per sq.ft.  \n",
       "3  ₹1.72 Lacs/Month    ₹3 Crores₹11,416 per sq.ft.  \n",
       "4  ₹5.44 Lacs/Month  ₹9.5 Crores₹25,676 per sq.ft.  "
      ]
     },
     "execution_count": 87,
     "metadata": {},
     "output_type": "execute_result"
    }
   ],
   "source": [
    "dt1"
   ]
  },
  {
   "cell_type": "markdown",
   "id": "feec8b11",
   "metadata": {},
   "source": [
    "**Q9) Write a python program to scrape mentioned details from dineout.co.in :**\n",
    "\n",
    "**i) Restaurant name**\n",
    "\n",
    "**ii) Cuisine**\n",
    "\n",
    "**iii) Location**\n",
    "\n",
    "**iv) Ratings**\n",
    "\n",
    "**v) Image URL**"
   ]
  },
  {
   "cell_type": "code",
   "execution_count": 88,
   "id": "2933b383",
   "metadata": {},
   "outputs": [
    {
     "data": {
      "text/plain": [
       "<Response [200]>"
      ]
     },
     "execution_count": 88,
     "metadata": {},
     "output_type": "execute_result"
    }
   ],
   "source": [
    "page=requests.get(\"https://www.dineout.co.in/delhi-restaurants/welcome-back\")\n",
    "page"
   ]
  },
  {
   "cell_type": "code",
   "execution_count": 89,
   "id": "01be49c9",
   "metadata": {},
   "outputs": [],
   "source": [
    "soup=BeautifulSoup(page.content,\"html.parser\")"
   ]
  },
  {
   "cell_type": "code",
   "execution_count": 90,
   "id": "989d196a",
   "metadata": {},
   "outputs": [],
   "source": [
    "restname=soup.find_all(\"a\",class_=\"restnt-name ellipsis\")\n",
    "cuis=soup.find_all(\"span\",class_=\"double-line-ellipsis\")\n",
    "loc=soup.find_all(\"div\",class_=\"restnt-loc ellipsis\")\n",
    "rat=soup.find_all(\"div\",class_=\"restnt-rating rating-4\")\n",
    "im=soup.find_all(\"img\",class_=\"no-img\")"
   ]
  },
  {
   "cell_type": "code",
   "execution_count": 91,
   "id": "57d9b60d",
   "metadata": {},
   "outputs": [],
   "source": [
    "rtname=[]\n",
    "cu=[]\n",
    "lc=[]\n",
    "rt=[]\n",
    "mg=[]\n",
    "for i in restname:\n",
    "    rtname.append(i.text)\n",
    "for i in cuis:\n",
    "    cu.append(i.text)\n",
    "for i in loc:\n",
    "    lc.append(i.text)\n",
    "for i in rat:\n",
    "    rt.append(i.text)\n",
    "for i in im:\n",
    "    mg.append(i['data-src'])"
   ]
  },
  {
   "cell_type": "code",
   "execution_count": 92,
   "id": "24f611ae",
   "metadata": {},
   "outputs": [],
   "source": [
    "dine={\"Restaurant\":rtname[:10],\"Cuisine\":cu[:10],\"Location\":lc[:10],\"Ratings\":rt[:10],\"Image_URL\":mg[:10]}"
   ]
  },
  {
   "cell_type": "code",
   "execution_count": 93,
   "id": "089d78d8",
   "metadata": {},
   "outputs": [
    {
     "data": {
      "text/html": [
       "<div>\n",
       "<style scoped>\n",
       "    .dataframe tbody tr th:only-of-type {\n",
       "        vertical-align: middle;\n",
       "    }\n",
       "\n",
       "    .dataframe tbody tr th {\n",
       "        vertical-align: top;\n",
       "    }\n",
       "\n",
       "    .dataframe thead th {\n",
       "        text-align: right;\n",
       "    }\n",
       "</style>\n",
       "<table border=\"1\" class=\"dataframe\">\n",
       "  <thead>\n",
       "    <tr style=\"text-align: right;\">\n",
       "      <th></th>\n",
       "      <th>Restaurant</th>\n",
       "      <th>Cuisine</th>\n",
       "      <th>Location</th>\n",
       "      <th>Ratings</th>\n",
       "      <th>Image_URL</th>\n",
       "    </tr>\n",
       "  </thead>\n",
       "  <tbody>\n",
       "    <tr>\n",
       "      <th>0</th>\n",
       "      <td>Tamasha</td>\n",
       "      <td>₹ 1,800 for 2 (approx) | Continental, Finger F...</td>\n",
       "      <td>Connaught Place, Central Delhi</td>\n",
       "      <td>4.2</td>\n",
       "      <td>https://im1.dineout.co.in/images/uploads/resta...</td>\n",
       "    </tr>\n",
       "    <tr>\n",
       "      <th>1</th>\n",
       "      <td>Local</td>\n",
       "      <td>₹ 2,000 for 2 (approx) | North Indian, Italian...</td>\n",
       "      <td>Scindia House,Connaught Place, Central Delhi</td>\n",
       "      <td>4</td>\n",
       "      <td>https://im1.dineout.co.in/images/uploads/resta...</td>\n",
       "    </tr>\n",
       "    <tr>\n",
       "      <th>2</th>\n",
       "      <td>The G.T. ROAD</td>\n",
       "      <td>₹ 1,400 for 2 (approx) | North Indian</td>\n",
       "      <td>M-Block,Connaught Place, Central Delhi</td>\n",
       "      <td>4.3</td>\n",
       "      <td>https://im1.dineout.co.in/images/uploads/resta...</td>\n",
       "    </tr>\n",
       "    <tr>\n",
       "      <th>3</th>\n",
       "      <td>Unplugged Courtyard</td>\n",
       "      <td>₹ 2,600 for 2 (approx) | North Indian, Italian...</td>\n",
       "      <td>Connaught Place, Central Delhi</td>\n",
       "      <td>4</td>\n",
       "      <td>https://im1.dineout.co.in/images/uploads/resta...</td>\n",
       "    </tr>\n",
       "    <tr>\n",
       "      <th>4</th>\n",
       "      <td>Ministry Of Beer</td>\n",
       "      <td>₹ 2,800 for 2 (approx) | Italian, Chinese, Nor...</td>\n",
       "      <td>M-Block,Connaught Place, Central Delhi</td>\n",
       "      <td>4</td>\n",
       "      <td>https://im1.dineout.co.in/images/uploads/resta...</td>\n",
       "    </tr>\n",
       "    <tr>\n",
       "      <th>5</th>\n",
       "      <td>Out Of The Box Courtyard</td>\n",
       "      <td>₹ 2,000 for 2 (approx) | North Indian, Orienta...</td>\n",
       "      <td>Connaught Place, Central Delhi</td>\n",
       "      <td>4.1</td>\n",
       "      <td>https://im1.dineout.co.in/images/uploads/resta...</td>\n",
       "    </tr>\n",
       "    <tr>\n",
       "      <th>6</th>\n",
       "      <td>The Junkyard Cafe</td>\n",
       "      <td>₹ 1,800 for 2 (approx) | Mediterranean, North ...</td>\n",
       "      <td>Connaught Place, Central Delhi</td>\n",
       "      <td>4.1</td>\n",
       "      <td>https://im1.dineout.co.in/images/uploads/resta...</td>\n",
       "    </tr>\n",
       "    <tr>\n",
       "      <th>7</th>\n",
       "      <td>Connaught Clubhouse Microbrewery</td>\n",
       "      <td>₹ 2,000 for 2 (approx) | North Indian, Italian...</td>\n",
       "      <td>Connaught Place, Central Delhi</td>\n",
       "      <td>4.2</td>\n",
       "      <td>https://im1.dineout.co.in/images/uploads/resta...</td>\n",
       "    </tr>\n",
       "    <tr>\n",
       "      <th>8</th>\n",
       "      <td>Chili's American Grill and Bar</td>\n",
       "      <td>₹ 2,000 for 2 (approx) | Mexican, American, Te...</td>\n",
       "      <td>M-Block,Connaught Place, Central Delhi</td>\n",
       "      <td>4.3</td>\n",
       "      <td>https://im1.dineout.co.in/images/uploads/resta...</td>\n",
       "    </tr>\n",
       "    <tr>\n",
       "      <th>9</th>\n",
       "      <td>High 5 - Everyday Wholesale Bar</td>\n",
       "      <td>₹ 1,700 for 2 (approx) | North Indian, Contine...</td>\n",
       "      <td>Connaught Place, Central Delhi</td>\n",
       "      <td>3.8</td>\n",
       "      <td>https://im1.dineout.co.in/images/uploads/resta...</td>\n",
       "    </tr>\n",
       "  </tbody>\n",
       "</table>\n",
       "</div>"
      ],
      "text/plain": [
       "                         Restaurant  \\\n",
       "0                           Tamasha   \n",
       "1                             Local   \n",
       "2                     The G.T. ROAD   \n",
       "3               Unplugged Courtyard   \n",
       "4                  Ministry Of Beer   \n",
       "5          Out Of The Box Courtyard   \n",
       "6                 The Junkyard Cafe   \n",
       "7  Connaught Clubhouse Microbrewery   \n",
       "8    Chili's American Grill and Bar   \n",
       "9   High 5 - Everyday Wholesale Bar   \n",
       "\n",
       "                                             Cuisine  \\\n",
       "0  ₹ 1,800 for 2 (approx) | Continental, Finger F...   \n",
       "1  ₹ 2,000 for 2 (approx) | North Indian, Italian...   \n",
       "2              ₹ 1,400 for 2 (approx) | North Indian   \n",
       "3  ₹ 2,600 for 2 (approx) | North Indian, Italian...   \n",
       "4  ₹ 2,800 for 2 (approx) | Italian, Chinese, Nor...   \n",
       "5  ₹ 2,000 for 2 (approx) | North Indian, Orienta...   \n",
       "6  ₹ 1,800 for 2 (approx) | Mediterranean, North ...   \n",
       "7  ₹ 2,000 for 2 (approx) | North Indian, Italian...   \n",
       "8  ₹ 2,000 for 2 (approx) | Mexican, American, Te...   \n",
       "9  ₹ 1,700 for 2 (approx) | North Indian, Contine...   \n",
       "\n",
       "                                       Location Ratings  \\\n",
       "0                Connaught Place, Central Delhi     4.2   \n",
       "1  Scindia House,Connaught Place, Central Delhi       4   \n",
       "2        M-Block,Connaught Place, Central Delhi     4.3   \n",
       "3                Connaught Place, Central Delhi       4   \n",
       "4        M-Block,Connaught Place, Central Delhi       4   \n",
       "5                Connaught Place, Central Delhi     4.1   \n",
       "6                Connaught Place, Central Delhi     4.1   \n",
       "7                Connaught Place, Central Delhi     4.2   \n",
       "8        M-Block,Connaught Place, Central Delhi     4.3   \n",
       "9                Connaught Place, Central Delhi     3.8   \n",
       "\n",
       "                                           Image_URL  \n",
       "0  https://im1.dineout.co.in/images/uploads/resta...  \n",
       "1  https://im1.dineout.co.in/images/uploads/resta...  \n",
       "2  https://im1.dineout.co.in/images/uploads/resta...  \n",
       "3  https://im1.dineout.co.in/images/uploads/resta...  \n",
       "4  https://im1.dineout.co.in/images/uploads/resta...  \n",
       "5  https://im1.dineout.co.in/images/uploads/resta...  \n",
       "6  https://im1.dineout.co.in/images/uploads/resta...  \n",
       "7  https://im1.dineout.co.in/images/uploads/resta...  \n",
       "8  https://im1.dineout.co.in/images/uploads/resta...  \n",
       "9  https://im1.dineout.co.in/images/uploads/resta...  "
      ]
     },
     "execution_count": 93,
     "metadata": {},
     "output_type": "execute_result"
    }
   ],
   "source": [
    "dine1=pd.DataFrame(dine)\n",
    "dine1"
   ]
  },
  {
   "cell_type": "markdown",
   "id": "072dead9",
   "metadata": {},
   "source": [
    "**Q10) Write a python program to scrape first 10 product details which include product name , price , Image URL from\n",
    "https://www.bewakoof.com/women-tshirts?ga_q=tshirts.**"
   ]
  },
  {
   "cell_type": "code",
   "execution_count": 94,
   "id": "8f1e0b83",
   "metadata": {},
   "outputs": [
    {
     "data": {
      "text/plain": [
       "<Response [200]>"
      ]
     },
     "execution_count": 94,
     "metadata": {},
     "output_type": "execute_result"
    }
   ],
   "source": [
    "page=requests.get(\"https://www.bewakoof.com/women-tshirts?ga_q=tshirts\")\n",
    "page"
   ]
  },
  {
   "cell_type": "code",
   "execution_count": 95,
   "id": "bb32ed94",
   "metadata": {},
   "outputs": [],
   "source": [
    "soup=BeautifulSoup(page.content,\"html.parser\")"
   ]
  },
  {
   "cell_type": "code",
   "execution_count": 96,
   "id": "d2ab9105",
   "metadata": {},
   "outputs": [],
   "source": [
    "product=soup.find_all(\"div\",class_=\"productCardDetail\")\n",
    "price=soup.find_all(\"div\",class_=\"loyaltyPriceBox\")\n",
    "image=soup.find_all(\"img\",class_=\"productImgTag\")"
   ]
  },
  {
   "cell_type": "code",
   "execution_count": 100,
   "id": "c7d52848",
   "metadata": {},
   "outputs": [],
   "source": [
    "pdi=[]\n",
    "pr=[]\n",
    "im=[]\n",
    "for i in product:\n",
    "    pdi.append(i.text.split(\"₹\")[0])\n",
    "for i in price:\n",
    "    pr.append(i.text.split(\"For\")[0])\n",
    "for i in image:\n",
    "    im.append(i[\"src\"])"
   ]
  },
  {
   "cell_type": "code",
   "execution_count": 102,
   "id": "fd04d3ac",
   "metadata": {},
   "outputs": [],
   "source": [
    "pro={\"ProductName\":pdi[:10],\"Price\":pr[:10],\"ImageUrl\":im[:10]}"
   ]
  },
  {
   "cell_type": "code",
   "execution_count": 103,
   "id": "41e8a8a0",
   "metadata": {},
   "outputs": [],
   "source": [
    "dr=pd.DataFrame(pro)"
   ]
  },
  {
   "cell_type": "code",
   "execution_count": 104,
   "id": "0adab2c9",
   "metadata": {},
   "outputs": [
    {
     "data": {
      "text/html": [
       "<div>\n",
       "<style scoped>\n",
       "    .dataframe tbody tr th:only-of-type {\n",
       "        vertical-align: middle;\n",
       "    }\n",
       "\n",
       "    .dataframe tbody tr th {\n",
       "        vertical-align: top;\n",
       "    }\n",
       "\n",
       "    .dataframe thead th {\n",
       "        text-align: right;\n",
       "    }\n",
       "</style>\n",
       "<table border=\"1\" class=\"dataframe\">\n",
       "  <thead>\n",
       "    <tr style=\"text-align: right;\">\n",
       "      <th></th>\n",
       "      <th>ProductName</th>\n",
       "      <th>Price</th>\n",
       "      <th>ImageUrl</th>\n",
       "    </tr>\n",
       "  </thead>\n",
       "  <tbody>\n",
       "    <tr>\n",
       "      <th>0</th>\n",
       "      <td>Minimal Believe Boyfriend T-Shirt</td>\n",
       "      <td>₹229</td>\n",
       "      <td>https://images.bewakoof.com/t320/minimal-belie...</td>\n",
       "    </tr>\n",
       "    <tr>\n",
       "      <th>1</th>\n",
       "      <td>Minimal Believe Half Sleeve T-Shirt</td>\n",
       "      <td>₹279</td>\n",
       "      <td>https://images.bewakoof.com/t320/minimal-belie...</td>\n",
       "    </tr>\n",
       "    <tr>\n",
       "      <th>2</th>\n",
       "      <td>Bunny Rabbit Pocket Printed Half Sleeve T-Shirt</td>\n",
       "      <td>₹179</td>\n",
       "      <td>https://images.bewakoof.com/t320/bunny-rabbit-...</td>\n",
       "    </tr>\n",
       "    <tr>\n",
       "      <th>3</th>\n",
       "      <td>Cuteness Superpower Half Sleeve T-Shirt</td>\n",
       "      <td>₹279</td>\n",
       "      <td>https://images.bewakoof.com/t320/cuteness-supe...</td>\n",
       "    </tr>\n",
       "    <tr>\n",
       "      <th>4</th>\n",
       "      <td>Stay Classy Minnie Half Sleeve Printed T-shirt...</td>\n",
       "      <td>₹279</td>\n",
       "      <td>https://images.bewakoof.com/t320/stay-classy-m...</td>\n",
       "    </tr>\n",
       "    <tr>\n",
       "      <th>5</th>\n",
       "      <td>Goofy Mickey Pocket Half Sleeve Printed T-Shirt</td>\n",
       "      <td>₹229</td>\n",
       "      <td>https://images.bewakoof.com/t320/goofy-mickey-...</td>\n",
       "    </tr>\n",
       "    <tr>\n",
       "      <th>6</th>\n",
       "      <td>Friends logo (FRL) Printed Half Sleeve T-shirt</td>\n",
       "      <td>₹179</td>\n",
       "      <td>https://images.bewakoof.com/t320/friends-logo-...</td>\n",
       "    </tr>\n",
       "    <tr>\n",
       "      <th>7</th>\n",
       "      <td>Climbing pocket panda Printed Red T-shirt</td>\n",
       "      <td>₹179</td>\n",
       "      <td>https://images.bewakoof.com/t320/climbing-pock...</td>\n",
       "    </tr>\n",
       "    <tr>\n",
       "      <th>8</th>\n",
       "      <td>I'm Amazing Half Sleeve T-Shirt (TJL)</td>\n",
       "      <td>₹229</td>\n",
       "      <td>https://images.bewakoof.com/t320/i-m-amazing-t...</td>\n",
       "    </tr>\n",
       "    <tr>\n",
       "      <th>9</th>\n",
       "      <td>Bonjour Paris Half Sleeve Printed Pink T-Shirt</td>\n",
       "      <td>₹179</td>\n",
       "      <td>https://images.bewakoof.com/t320/bonjour-paris...</td>\n",
       "    </tr>\n",
       "  </tbody>\n",
       "</table>\n",
       "</div>"
      ],
      "text/plain": [
       "                                         ProductName Price  \\\n",
       "0                  Minimal Believe Boyfriend T-Shirt  ₹229   \n",
       "1                Minimal Believe Half Sleeve T-Shirt  ₹279   \n",
       "2    Bunny Rabbit Pocket Printed Half Sleeve T-Shirt  ₹179   \n",
       "3            Cuteness Superpower Half Sleeve T-Shirt  ₹279   \n",
       "4  Stay Classy Minnie Half Sleeve Printed T-shirt...  ₹279   \n",
       "5    Goofy Mickey Pocket Half Sleeve Printed T-Shirt  ₹229   \n",
       "6     Friends logo (FRL) Printed Half Sleeve T-shirt  ₹179   \n",
       "7          Climbing pocket panda Printed Red T-shirt  ₹179   \n",
       "8              I'm Amazing Half Sleeve T-Shirt (TJL)  ₹229   \n",
       "9     Bonjour Paris Half Sleeve Printed Pink T-Shirt  ₹179   \n",
       "\n",
       "                                            ImageUrl  \n",
       "0  https://images.bewakoof.com/t320/minimal-belie...  \n",
       "1  https://images.bewakoof.com/t320/minimal-belie...  \n",
       "2  https://images.bewakoof.com/t320/bunny-rabbit-...  \n",
       "3  https://images.bewakoof.com/t320/cuteness-supe...  \n",
       "4  https://images.bewakoof.com/t320/stay-classy-m...  \n",
       "5  https://images.bewakoof.com/t320/goofy-mickey-...  \n",
       "6  https://images.bewakoof.com/t320/friends-logo-...  \n",
       "7  https://images.bewakoof.com/t320/climbing-pock...  \n",
       "8  https://images.bewakoof.com/t320/i-m-amazing-t...  \n",
       "9  https://images.bewakoof.com/t320/bonjour-paris...  "
      ]
     },
     "execution_count": 104,
     "metadata": {},
     "output_type": "execute_result"
    }
   ],
   "source": [
    "dr"
   ]
  },
  {
   "cell_type": "code",
   "execution_count": null,
   "id": "fd826ea2",
   "metadata": {},
   "outputs": [],
   "source": []
  }
 ],
 "metadata": {
  "kernelspec": {
   "display_name": "Python 3",
   "language": "python",
   "name": "python3"
  },
  "language_info": {
   "codemirror_mode": {
    "name": "ipython",
    "version": 3
   },
   "file_extension": ".py",
   "mimetype": "text/x-python",
   "name": "python",
   "nbconvert_exporter": "python",
   "pygments_lexer": "ipython3",
   "version": "3.8.8"
  }
 },
 "nbformat": 4,
 "nbformat_minor": 5
}
