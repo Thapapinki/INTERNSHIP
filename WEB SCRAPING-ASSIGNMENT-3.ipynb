{
 "cells": [
  {
   "cell_type": "markdown",
   "id": "51c0736c",
   "metadata": {},
   "source": [
    "**Q1) Write a python program which searches all the product under a particular product from www.amazon.in. The product to be searched will be taken as input from user. For e.g. If user input is ‘guitar’. Then search for guitars.**"
   ]
  },
  {
   "cell_type": "code",
   "execution_count": 4,
   "id": "cfa99cb2",
   "metadata": {},
   "outputs": [
    {
     "name": "stdout",
     "output_type": "stream",
     "text": [
      "Requirement already satisfied: selenium in c:\\users\\pinki\\anaconda3\\lib\\site-packages (4.1.3)\n",
      "Requirement already satisfied: trio~=0.17 in c:\\users\\pinki\\anaconda3\\lib\\site-packages (from selenium) (0.20.0)\n",
      "Requirement already satisfied: trio-websocket~=0.9 in c:\\users\\pinki\\anaconda3\\lib\\site-packages (from selenium) (0.9.2)\n",
      "Requirement already satisfied: urllib3[secure,socks]~=1.26 in c:\\users\\pinki\\anaconda3\\lib\\site-packages (from selenium) (1.26.4)\n",
      "Requirement already satisfied: cffi>=1.14 in c:\\users\\pinki\\anaconda3\\lib\\site-packages (from trio~=0.17->selenium) (1.14.5)\n",
      "Requirement already satisfied: outcome in c:\\users\\pinki\\anaconda3\\lib\\site-packages (from trio~=0.17->selenium) (1.1.0)\n",
      "Requirement already satisfied: sniffio in c:\\users\\pinki\\anaconda3\\lib\\site-packages (from trio~=0.17->selenium) (1.2.0)\n",
      "Requirement already satisfied: async-generator>=1.9 in c:\\users\\pinki\\anaconda3\\lib\\site-packages (from trio~=0.17->selenium) (1.10)\n",
      "Requirement already satisfied: sortedcontainers in c:\\users\\pinki\\anaconda3\\lib\\site-packages (from trio~=0.17->selenium) (2.3.0)\n",
      "Requirement already satisfied: idna in c:\\users\\pinki\\anaconda3\\lib\\site-packages (from trio~=0.17->selenium) (2.10)\n",
      "Requirement already satisfied: attrs>=19.2.0 in c:\\users\\pinki\\anaconda3\\lib\\site-packages (from trio~=0.17->selenium) (20.3.0)\n",
      "Requirement already satisfied: pycparser in c:\\users\\pinki\\anaconda3\\lib\\site-packages (from cffi>=1.14->trio~=0.17->selenium) (2.20)\n",
      "Requirement already satisfied: wsproto>=0.14 in c:\\users\\pinki\\anaconda3\\lib\\site-packages (from trio-websocket~=0.9->selenium) (1.1.0)\n",
      "Requirement already satisfied: cryptography>=1.3.4 in c:\\users\\pinki\\anaconda3\\lib\\site-packages (from urllib3[secure,socks]~=1.26->selenium) (3.4.7)\n",
      "Requirement already satisfied: pyOpenSSL>=0.14 in c:\\users\\pinki\\anaconda3\\lib\\site-packages (from urllib3[secure,socks]~=1.26->selenium) (20.0.1)\n",
      "Requirement already satisfied: certifi in c:\\users\\pinki\\anaconda3\\lib\\site-packages (from urllib3[secure,socks]~=1.26->selenium) (2020.12.5)\n",
      "Requirement already satisfied: PySocks!=1.5.7,<2.0,>=1.5.6 in c:\\users\\pinki\\anaconda3\\lib\\site-packages (from urllib3[secure,socks]~=1.26->selenium) (1.7.1)\n",
      "Requirement already satisfied: six>=1.5.2 in c:\\users\\pinki\\anaconda3\\lib\\site-packages (from pyOpenSSL>=0.14->urllib3[secure,socks]~=1.26->selenium) (1.15.0)\n",
      "Requirement already satisfied: h11<1,>=0.9.0 in c:\\users\\pinki\\anaconda3\\lib\\site-packages (from wsproto>=0.14->trio-websocket~=0.9->selenium) (0.13.0)\n"
     ]
    }
   ],
   "source": [
    "!pip install selenium"
   ]
  },
  {
   "cell_type": "code",
   "execution_count": 3,
   "id": "87394ad8",
   "metadata": {},
   "outputs": [],
   "source": [
    "# lets imports all required libraries.\n",
    "import selenium\n",
    "from selenium import webdriver\n",
    "import pandas as pd\n",
    "import warnings\n",
    "warnings.filterwarnings (\"ignore\")"
   ]
  },
  {
   "cell_type": "code",
   "execution_count": 3,
   "id": "ca38b8ce",
   "metadata": {},
   "outputs": [],
   "source": [
    "# lets first connect to webdriver.\n",
    "driver=webdriver.Chrome(\"chromedriver.exe\")\n",
    "url=\"https://www.amazon.in/\"\n",
    "driver.get(url)"
   ]
  },
  {
   "cell_type": "code",
   "execution_count": 4,
   "id": "ba7d69ce",
   "metadata": {},
   "outputs": [
    {
     "name": "stdout",
     "output_type": "stream",
     "text": [
      "enter your productIPHONE\n"
     ]
    }
   ],
   "source": [
    "# Finding web element for all product\n",
    "my_input=input(\"enter your product\")\n",
    "search_bar=driver.find_element_by_xpath(\"/html/body/div[1]/header/div/div[1]/div[2]/div/form/div[2]/div[1]/input\")\n",
    "search_bar.send_keys(my_input)\n",
    "    "
   ]
  },
  {
   "cell_type": "code",
   "execution_count": 5,
   "id": "303bb74a",
   "metadata": {},
   "outputs": [],
   "source": [
    "search_button=driver.find_element_by_xpath(\"/html/body/div[1]/header/div/div[1]/div[2]/div/form/div[3]/div/span/input\")\n",
    "search_button.click()"
   ]
  },
  {
   "cell_type": "markdown",
   "id": "44147974",
   "metadata": {},
   "source": [
    "**Q2) In the above question, now scrape the following details of each product listed in first 3 pages of your search results and save it in a data frame and csv. In case if any product has less than 3 pages in search results then scrape all the products available under that product name. Details to be scraped are: \"Brand Name\", \"Name of the Product\", \"Price\", \"Return/Exchange\", \"Expected Delivery\", \"Availability\" and “Product URL”. In case, if any of the details are missing for any of the product then replace it by “-“.**\n"
   ]
  },
  {
   "cell_type": "code",
   "execution_count": 97,
   "id": "2060fbed",
   "metadata": {},
   "outputs": [
    {
     "data": {
      "text/plain": [
       "'Apple iPhone 13 Mini (128GB) - Midnight'"
      ]
     },
     "execution_count": 97,
     "metadata": {},
     "output_type": "execute_result"
    }
   ],
   "source": [
    "# extracting the brand and product name\n",
    "brand_name=driver.find_elements_by_xpath('//span[@class=\"a-size-medium a-color-base a-text-normal\"]')\n",
    "brand_name[0].text"
   ]
  },
  {
   "cell_type": "code",
   "execution_count": 98,
   "id": "eef6781e",
   "metadata": {},
   "outputs": [
    {
     "data": {
      "text/plain": [
       "['Apple iPhone 13 Mini (128GB) - Midnight', 'Apple iPhone XR (128GB) - Coral']"
      ]
     },
     "execution_count": 98,
     "metadata": {},
     "output_type": "execute_result"
    }
   ],
   "source": [
    "brand=[]\n",
    "for i in brand_name:\n",
    "    brand.append(i.text)\n",
    "len(brand)\n",
    "brand[0:2]"
   ]
  },
  {
   "cell_type": "code",
   "execution_count": 99,
   "id": "63a7e5a9",
   "metadata": {},
   "outputs": [
    {
     "data": {
      "text/plain": [
       "'₹64,900'"
      ]
     },
     "execution_count": 99,
     "metadata": {},
     "output_type": "execute_result"
    }
   ],
   "source": [
    "# extracting the price\n",
    "price=driver.find_elements_by_xpath('//span[@class=\"a-offscreen\"]')\n",
    "price[0].get_attribute('textContent')"
   ]
  },
  {
   "cell_type": "code",
   "execution_count": 100,
   "id": "7c08ef7b",
   "metadata": {},
   "outputs": [
    {
     "data": {
      "text/plain": [
       "['₹64,900', '₹69,900']"
      ]
     },
     "execution_count": 100,
     "metadata": {},
     "output_type": "execute_result"
    }
   ],
   "source": [
    "price_=[]\n",
    "for i in price:\n",
    "    price_.append(i.get_attribute('textContent'))\n",
    "len(price_)\n",
    "price_[0:2]"
   ]
  },
  {
   "cell_type": "code",
   "execution_count": 101,
   "id": "0830e012",
   "metadata": {},
   "outputs": [
    {
     "data": {
      "text/plain": [
       "'Tomorrow, March 28'"
      ]
     },
     "execution_count": 101,
     "metadata": {},
     "output_type": "execute_result"
    }
   ],
   "source": [
    "# extracting the expected delivery\n",
    "delivery=driver.find_elements_by_xpath('//span[@class=\"a-color-base a-text-bold\"]')\n",
    "delivery[0].text"
   ]
  },
  {
   "cell_type": "code",
   "execution_count": 102,
   "id": "5c744100",
   "metadata": {},
   "outputs": [
    {
     "data": {
      "text/plain": [
       "['Tomorrow, March 28', 'Tomorrow, March 28']"
      ]
     },
     "execution_count": 102,
     "metadata": {},
     "output_type": "execute_result"
    }
   ],
   "source": [
    "deliv=[]\n",
    "for i in delivery:\n",
    "    deliv.append(i.text)\n",
    "len(deliv)\n",
    "deliv[0:2]"
   ]
  },
  {
   "cell_type": "code",
   "execution_count": 103,
   "id": "ce8e3d43",
   "metadata": {},
   "outputs": [
    {
     "data": {
      "text/plain": [
       "['https://www.amazon.in/gp/slredirect/picassoRedirect.html/ref=pa_sp_atf_aps_sr_pg1_1?ie=UTF8&adId=A05577223E0X3RFND9NJV&url=%2FApple-iPhone-13-Mini-128GB%2Fdp%2FB09G9FNN4X%2Fref%3Dsr_1_1_sspa%3Fcrid%3D1QUBZSPZ6JDOM%26keywords%3Diphone%26qid%3D1648361931%26sprefix%3Diphone%252Caps%252C627%26sr%3D8-1-spons%26psc%3D1&qualifier=1648361931&id=981795169238382&widgetName=sp_atf',\n",
       " 'https://www.amazon.in/gp/slredirect/picassoRedirect.html/ref=pa_sp_atf_aps_sr_pg1_1?ie=UTF8&adId=A04779771QPHJE3H9EBW8&url=%2FNew-Apple-iPhone-XR-128GB%2Fdp%2FB08L8CPQH7%2Fref%3Dsr_1_2_sspa%3Fcrid%3D1QUBZSPZ6JDOM%26keywords%3Diphone%26qid%3D1648361931%26sprefix%3Diphone%252Caps%252C627%26sr%3D8-2-spons%26psc%3D1&qualifier=1648361931&id=981795169238382&widgetName=sp_atf']"
      ]
     },
     "execution_count": 103,
     "metadata": {},
     "output_type": "execute_result"
    }
   ],
   "source": [
    "# extracting url\n",
    "URL=driver.find_elements_by_xpath('//a[@class=\"a-link-normal s-underline-text s-underline-link-text s-link-style a-text-normal\"]')\n",
    "url=[]\n",
    "for i in URL:\n",
    "    url.append(i.get_attribute('href'))\n",
    "len(url)\n",
    "url[0:2]"
   ]
  },
  {
   "cell_type": "code",
   "execution_count": 112,
   "id": "9ddb3343",
   "metadata": {},
   "outputs": [],
   "source": [
    "next_=driver.find_element_by_xpath('/html/body/div[1]/div[2]/div[1]/div[1]/div/span[3]/div[2]/div[24]/div/div/span/a[3]')"
   ]
  },
  {
   "cell_type": "code",
   "execution_count": 113,
   "id": "bb6bebba",
   "metadata": {},
   "outputs": [],
   "source": [
    "next_.click()"
   ]
  },
  {
   "cell_type": "code",
   "execution_count": 114,
   "id": "3436d5dd",
   "metadata": {},
   "outputs": [],
   "source": [
    "brand_name=driver.find_elements_by_xpath('//span[@class=\"a-size-medium a-color-base a-text-normal\"]')\n",
    "price=driver.find_elements_by_xpath('//span[@class=\"a-offscreen\"]')\n",
    "delivery=driver.find_elements_by_xpath('//span[@class=\"a-color-base a-text-bold\"]')\n",
    "URL=driver.find_elements_by_xpath('//a[@class=\"a-link-normal s-underline-text s-underline-link-text s-link-style a-text-normal\"]')"
   ]
  },
  {
   "cell_type": "code",
   "execution_count": 115,
   "id": "50ae450f",
   "metadata": {},
   "outputs": [],
   "source": [
    "for i in brand_name:\n",
    "    brand.append(i.text)\n",
    "for i in price:\n",
    "    price_.append(i.get_attribute('textContent'))\n",
    "for i in delivery:\n",
    "    deliv.append(i.text)\n",
    "for i in URL:\n",
    "    url.append(i.get_attribute('href'))"
   ]
  },
  {
   "cell_type": "code",
   "execution_count": 116,
   "id": "02b19b35",
   "metadata": {},
   "outputs": [],
   "source": [
    "next2=driver.find_element_by_xpath(\"/html/body/div[1]/div[2]/div[1]/div[1]/div/span[3]/div[2]/div[24]/div/div/span/a[4]\")\n"
   ]
  },
  {
   "cell_type": "code",
   "execution_count": 117,
   "id": "9d007afa",
   "metadata": {},
   "outputs": [],
   "source": [
    "next2.click()"
   ]
  },
  {
   "cell_type": "code",
   "execution_count": 118,
   "id": "5c4b9b53",
   "metadata": {},
   "outputs": [],
   "source": [
    "brand_name=driver.find_elements_by_xpath('//span[@class=\"a-size-medium a-color-base a-text-normal\"]')\n",
    "price=driver.find_elements_by_xpath('//span[@class=\"a-offscreen\"]')\n",
    "delivery=driver.find_elements_by_xpath('//span[@class=\"a-color-base a-text-bold\"]')\n",
    "URL=driver.find_elements_by_xpath('//a[@class=\"a-link-normal s-underline-text s-underline-link-text s-link-style a-text-normal\"]')"
   ]
  },
  {
   "cell_type": "code",
   "execution_count": 119,
   "id": "0d5841c5",
   "metadata": {},
   "outputs": [],
   "source": [
    "for i in brand_name:\n",
    "    brand.append(i.text)\n",
    "for i in price:\n",
    "    price_.append(i.get_attribute('textContent'))\n",
    "for i in delivery:\n",
    "    deliv.append(i.text)\n",
    "for i in URL:\n",
    "    url.append(i.get_attribute('href'))"
   ]
  },
  {
   "cell_type": "code",
   "execution_count": 121,
   "id": "4e63521f",
   "metadata": {},
   "outputs": [
    {
     "data": {
      "text/plain": [
       "(72, 121, 68, 72)"
      ]
     },
     "execution_count": 121,
     "metadata": {},
     "output_type": "execute_result"
    }
   ],
   "source": [
    "len(brand),len(price_),len(deliv),len(url)"
   ]
  },
  {
   "cell_type": "code",
   "execution_count": 122,
   "id": "f8b26a5e",
   "metadata": {},
   "outputs": [],
   "source": [
    "retu=[]\n",
    "aval=[]\n",
    "for i in range(68):\n",
    "    retu.append('-')\n",
    "    aval.append('-')\n"
   ]
  },
  {
   "cell_type": "code",
   "execution_count": 123,
   "id": "3b0fa74d",
   "metadata": {},
   "outputs": [
    {
     "data": {
      "text/html": [
       "<div>\n",
       "<style scoped>\n",
       "    .dataframe tbody tr th:only-of-type {\n",
       "        vertical-align: middle;\n",
       "    }\n",
       "\n",
       "    .dataframe tbody tr th {\n",
       "        vertical-align: top;\n",
       "    }\n",
       "\n",
       "    .dataframe thead th {\n",
       "        text-align: right;\n",
       "    }\n",
       "</style>\n",
       "<table border=\"1\" class=\"dataframe\">\n",
       "  <thead>\n",
       "    <tr style=\"text-align: right;\">\n",
       "      <th></th>\n",
       "      <th>Brand_Product_Name</th>\n",
       "      <th>Return/Exchange</th>\n",
       "      <th>Price</th>\n",
       "      <th>Exprected Delivery</th>\n",
       "      <th>Availability</th>\n",
       "      <th>Product URL</th>\n",
       "    </tr>\n",
       "  </thead>\n",
       "  <tbody>\n",
       "    <tr>\n",
       "      <th>0</th>\n",
       "      <td>Apple iPhone 13 Mini (128GB) - Midnight</td>\n",
       "      <td>-</td>\n",
       "      <td>₹64,900</td>\n",
       "      <td>Tomorrow, March 28</td>\n",
       "      <td>-</td>\n",
       "      <td>https://www.amazon.in/gp/slredirect/picassoRed...</td>\n",
       "    </tr>\n",
       "    <tr>\n",
       "      <th>1</th>\n",
       "      <td>Apple iPhone XR (128GB) - Coral</td>\n",
       "      <td>-</td>\n",
       "      <td>₹69,900</td>\n",
       "      <td>Tomorrow, March 28</td>\n",
       "      <td>-</td>\n",
       "      <td>https://www.amazon.in/gp/slredirect/picassoRed...</td>\n",
       "    </tr>\n",
       "    <tr>\n",
       "      <th>2</th>\n",
       "      <td>Apple iPhone 12 (128GB) - Blue</td>\n",
       "      <td>-</td>\n",
       "      <td>₹42,999</td>\n",
       "      <td>Tomorrow, March 28</td>\n",
       "      <td>-</td>\n",
       "      <td>https://www.amazon.in/New-Apple-iPhone-12-128G...</td>\n",
       "    </tr>\n",
       "    <tr>\n",
       "      <th>3</th>\n",
       "      <td>Apple iPhone 11 (64GB) - White</td>\n",
       "      <td>-</td>\n",
       "      <td>₹52,900</td>\n",
       "      <td>Today 5PM</td>\n",
       "      <td>-</td>\n",
       "      <td>https://www.amazon.in/New-Apple-iPhone-11-64GB...</td>\n",
       "    </tr>\n",
       "    <tr>\n",
       "      <th>4</th>\n",
       "      <td>Apple iPhone 11 (64GB) - Black</td>\n",
       "      <td>-</td>\n",
       "      <td>₹60,490</td>\n",
       "      <td>Today 5PM</td>\n",
       "      <td>-</td>\n",
       "      <td>https://www.amazon.in/New-Apple-iPhone-11-64GB...</td>\n",
       "    </tr>\n",
       "    <tr>\n",
       "      <th>...</th>\n",
       "      <td>...</td>\n",
       "      <td>...</td>\n",
       "      <td>...</td>\n",
       "      <td>...</td>\n",
       "      <td>...</td>\n",
       "      <td>...</td>\n",
       "    </tr>\n",
       "    <tr>\n",
       "      <th>63</th>\n",
       "      <td>Apple iPhone 12 Mini (128GB) - White</td>\n",
       "      <td>-</td>\n",
       "      <td>₹79,900</td>\n",
       "      <td>Tomorrow, March 28</td>\n",
       "      <td>-</td>\n",
       "      <td>https://www.amazon.in/New-Apple-iPhone-Mini-12...</td>\n",
       "    </tr>\n",
       "    <tr>\n",
       "      <th>64</th>\n",
       "      <td>Apple iPhone 13 Pro Max (256 GB) - Alpine Green</td>\n",
       "      <td>-</td>\n",
       "      <td>₹1,29,900</td>\n",
       "      <td>Tomorrow, March 28</td>\n",
       "      <td>-</td>\n",
       "      <td>https://www.amazon.in/Apple-iPhone-Pro-Max-256...</td>\n",
       "    </tr>\n",
       "    <tr>\n",
       "      <th>65</th>\n",
       "      <td>Apple iPhone 13 (256GB) - Starlight</td>\n",
       "      <td>-</td>\n",
       "      <td>₹56,990</td>\n",
       "      <td>Today 5PM</td>\n",
       "      <td>-</td>\n",
       "      <td>https://www.amazon.in/Apple-iPhone-13-256GB-St...</td>\n",
       "    </tr>\n",
       "    <tr>\n",
       "      <th>66</th>\n",
       "      <td>Apple iPhone 13 Pro (128GB) - Graphite</td>\n",
       "      <td>-</td>\n",
       "      <td>₹65,900</td>\n",
       "      <td>Tomorrow, March 28</td>\n",
       "      <td>-</td>\n",
       "      <td>https://www.amazon.in/Apple-iPhone-13-Pro-128G...</td>\n",
       "    </tr>\n",
       "    <tr>\n",
       "      <th>67</th>\n",
       "      <td>Apple iPhone SE (128 GB) - Midnight (3rd Gener...</td>\n",
       "      <td>-</td>\n",
       "      <td>₹49,900</td>\n",
       "      <td>Tomorrow, March 28</td>\n",
       "      <td>-</td>\n",
       "      <td>https://www.amazon.in/Apple-iPhone-SE-128-Gene...</td>\n",
       "    </tr>\n",
       "  </tbody>\n",
       "</table>\n",
       "<p>68 rows × 6 columns</p>\n",
       "</div>"
      ],
      "text/plain": [
       "                                   Brand_Product_Name Return/Exchange  \\\n",
       "0             Apple iPhone 13 Mini (128GB) - Midnight               -   \n",
       "1                     Apple iPhone XR (128GB) - Coral               -   \n",
       "2                      Apple iPhone 12 (128GB) - Blue               -   \n",
       "3                      Apple iPhone 11 (64GB) - White               -   \n",
       "4                      Apple iPhone 11 (64GB) - Black               -   \n",
       "..                                                ...             ...   \n",
       "63               Apple iPhone 12 Mini (128GB) - White               -   \n",
       "64    Apple iPhone 13 Pro Max (256 GB) - Alpine Green               -   \n",
       "65                Apple iPhone 13 (256GB) - Starlight               -   \n",
       "66             Apple iPhone 13 Pro (128GB) - Graphite               -   \n",
       "67  Apple iPhone SE (128 GB) - Midnight (3rd Gener...               -   \n",
       "\n",
       "        Price  Exprected Delivery Availability  \\\n",
       "0     ₹64,900  Tomorrow, March 28            -   \n",
       "1     ₹69,900  Tomorrow, March 28            -   \n",
       "2     ₹42,999  Tomorrow, March 28            -   \n",
       "3     ₹52,900           Today 5PM            -   \n",
       "4     ₹60,490           Today 5PM            -   \n",
       "..        ...                 ...          ...   \n",
       "63    ₹79,900  Tomorrow, March 28            -   \n",
       "64  ₹1,29,900  Tomorrow, March 28            -   \n",
       "65    ₹56,990           Today 5PM            -   \n",
       "66    ₹65,900  Tomorrow, March 28            -   \n",
       "67    ₹49,900  Tomorrow, March 28            -   \n",
       "\n",
       "                                          Product URL  \n",
       "0   https://www.amazon.in/gp/slredirect/picassoRed...  \n",
       "1   https://www.amazon.in/gp/slredirect/picassoRed...  \n",
       "2   https://www.amazon.in/New-Apple-iPhone-12-128G...  \n",
       "3   https://www.amazon.in/New-Apple-iPhone-11-64GB...  \n",
       "4   https://www.amazon.in/New-Apple-iPhone-11-64GB...  \n",
       "..                                                ...  \n",
       "63  https://www.amazon.in/New-Apple-iPhone-Mini-12...  \n",
       "64  https://www.amazon.in/Apple-iPhone-Pro-Max-256...  \n",
       "65  https://www.amazon.in/Apple-iPhone-13-256GB-St...  \n",
       "66  https://www.amazon.in/Apple-iPhone-13-Pro-128G...  \n",
       "67  https://www.amazon.in/Apple-iPhone-SE-128-Gene...  \n",
       "\n",
       "[68 rows x 6 columns]"
      ]
     },
     "execution_count": 123,
     "metadata": {},
     "output_type": "execute_result"
    }
   ],
   "source": [
    "df=pd.DataFrame()\n",
    "df['Brand_Product_Name']=brand[:68]\n",
    "df[\"Return/Exchange\"]=retu[:68]\n",
    "df[\"Price\"]=price_[:68]\n",
    "df[\"Exprected Delivery\"]=deliv[:68]\n",
    "df[\"Availability\"]=aval[:68]\n",
    "df[\"Product URL\"]=url[:68]\n",
    "df"
   ]
  },
  {
   "cell_type": "code",
   "execution_count": 140,
   "id": "7a87a05f",
   "metadata": {},
   "outputs": [],
   "source": [
    "df.to_csv(\"iphone.csv\")"
   ]
  },
  {
   "cell_type": "markdown",
   "id": "3d599a78",
   "metadata": {},
   "source": [
    "**Q3) Write a python program to access the search bar and search button on images.google.com and scrape 10 images each for keywords ‘fruits’, ‘cars’ and ‘Machine Learning’, ‘Guitar’, ‘Cakes’.**\n"
   ]
  },
  {
   "cell_type": "code",
   "execution_count": 230,
   "id": "2e9b2f7d",
   "metadata": {},
   "outputs": [],
   "source": [
    "# lets first connect to webdriver.\n",
    "driver=webdriver.Chrome(\"chromedriver.exe\")\n",
    "url=\"https://images.google.com/\"\n",
    "driver.get(url)"
   ]
  },
  {
   "cell_type": "code",
   "execution_count": 231,
   "id": "691972ae",
   "metadata": {},
   "outputs": [],
   "source": [
    "search_bar=driver.find_element_by_xpath(\"/html/body/div[1]/div[3]/form/div[1]/div[1]/div[1]/div/div[2]/input\")\n",
    "search_button=driver.find_element_by_xpath('/html/body/div[1]/div[3]/form/div[1]/div[1]/div[1]/button/div')\n",
    "search_bar.send_keys(\"cars\")\n",
    "search_button.click()"
   ]
  },
  {
   "cell_type": "code",
   "execution_count": 232,
   "id": "2587a425",
   "metadata": {
    "scrolled": true
   },
   "outputs": [
    {
     "data": {
      "text/plain": [
       "'data:image/jpeg;base64,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'"
      ]
     },
     "execution_count": 232,
     "metadata": {},
     "output_type": "execute_result"
    }
   ],
   "source": [
    "carimg=driver.find_elements_by_xpath('//img[@class=\"rg_i Q4LuWd\"]')\n",
    "carimg[0].get_attribute('src')"
   ]
  },
  {
   "cell_type": "code",
   "execution_count": 242,
   "id": "6d0d82f3",
   "metadata": {},
   "outputs": [
    {
     "ename": "SyntaxError",
     "evalue": "invalid syntax (<ipython-input-242-1c38d0af388b>, line 1)",
     "output_type": "error",
     "traceback": [
      "\u001b[1;36m  File \u001b[1;32m\"<ipython-input-242-1c38d0af388b>\"\u001b[1;36m, line \u001b[1;32m1\u001b[0m\n\u001b[1;33m    from selenium import selenium.webdriver.common.keys\u001b[0m\n\u001b[1;37m                                 ^\u001b[0m\n\u001b[1;31mSyntaxError\u001b[0m\u001b[1;31m:\u001b[0m invalid syntax\n"
     ]
    }
   ],
   "source": []
  },
  {
   "cell_type": "markdown",
   "id": "8c023b6c",
   "metadata": {},
   "source": [
    "**Q4) Write a python program to search for a smartphone(e.g.: Oneplus Nord, pixel 4A, etc.) on\n",
    "www.flipkart.com and scrape following details for all the search results displayed on 1st page. Details to be scraped: “Brand Name”, “Smartphone name”, “Colour”, “RAM”, “Storage(ROM)”, “Primary Camera”, “Secondary Camera”, “Display Size”, “Battery Capacity”, “Price”, “Product URL”. Incase if any of the details is missing then replace it by “- “. Save your results in a dataframe and CSV.**\n"
   ]
  },
  {
   "cell_type": "code",
   "execution_count": 15,
   "id": "65b31024",
   "metadata": {},
   "outputs": [],
   "source": [
    "# lets first connect to webdriver.\n",
    "driver=webdriver.Chrome(\"chromedriver.exe\")#\n",
    "url=\"https://www.flipkart.com/\"\n",
    "driver.get(url)"
   ]
  },
  {
   "cell_type": "code",
   "execution_count": 16,
   "id": "a65b5d71",
   "metadata": {},
   "outputs": [],
   "source": [
    "search_bar=driver.find_element_by_xpath('/html/body/div[1]/div/div[1]/div[1]/div[2]/div[2]/form/div/div/input')\n",
    "search_bar.send_keys(\"smartphone\")\n",
    "search_bar.click()"
   ]
  },
  {
   "cell_type": "code",
   "execution_count": 239,
   "id": "678756d1",
   "metadata": {},
   "outputs": [
    {
     "data": {
      "text/plain": [
       "[]"
      ]
     },
     "execution_count": 239,
     "metadata": {},
     "output_type": "execute_result"
    }
   ],
   "source": [
    "# extracting brand\n",
    "brand=driver.find_elements_by_xpath('//div[@class=\"_167Mu3 _2hbLCH\"]')\n",
    "brand"
   ]
  },
  {
   "cell_type": "code",
   "execution_count": 184,
   "id": "6ac39483",
   "metadata": {},
   "outputs": [
    {
     "data": {
      "text/plain": [
       "'realme C20 (Cool Grey, 32 GB)'"
      ]
     },
     "execution_count": 184,
     "metadata": {},
     "output_type": "execute_result"
    }
   ],
   "source": [
    "# extracting smart phone name\n",
    "smartphonename=driver.find_elements_by_xpath('//div[@class=\"_4rR01T\"]')\n",
    "smartphonename[0].text"
   ]
  },
  {
   "cell_type": "code",
   "execution_count": 1,
   "id": "ddc01ab5",
   "metadata": {},
   "outputs": [
    {
     "data": {
      "text/plain": [
       "[]"
      ]
     },
     "execution_count": 1,
     "metadata": {},
     "output_type": "execute_result"
    }
   ],
   "source": [
    "smartphone=[]\n",
    "for i in smartphone:\n",
    "    smartphone.append(i.text)\n",
    "len(smartphone)\n",
    "smartphone[0:2]"
   ]
  },
  {
   "cell_type": "markdown",
   "id": "6dc4b7af",
   "metadata": {},
   "source": [
    "**Q7) Write a program to scrap all the available details of best gaming laptops from digit.in.**"
   ]
  },
  {
   "cell_type": "code",
   "execution_count": 9,
   "id": "73373996",
   "metadata": {},
   "outputs": [],
   "source": [
    "# lets first connect to webdriver.\n",
    "driver=webdriver.Chrome(\"chromedriver.exe\")\n",
    "url=\"https://www.digit.in/\"\n",
    "driver.get(url)"
   ]
  },
  {
   "cell_type": "code",
   "execution_count": 13,
   "id": "2b5df14d",
   "metadata": {},
   "outputs": [
    {
     "ename": "ElementNotInteractableException",
     "evalue": "Message: element not interactable\n  (Session info: chrome=99.0.4844.84)\nStacktrace:\nBacktrace:\n\tOrdinal0 [0x011D9943+2595139]\n\tOrdinal0 [0x0116C9F1+2148849]\n\tOrdinal0 [0x010643F0+1065968]\n\tOrdinal0 [0x0108C4D3+1230035]\n\tOrdinal0 [0x0108BB8B+1227659]\n\tOrdinal0 [0x010AB9EC+1358316]\n\tOrdinal0 [0x01087474+1209460]\n\tOrdinal0 [0x010ABC04+1358852]\n\tOrdinal0 [0x010BBAF2+1424114]\n\tOrdinal0 [0x010AB806+1357830]\n\tOrdinal0 [0x01086086+1204358]\n\tOrdinal0 [0x01086F96+1208214]\n\tGetHandleVerifier [0x0137B232+1658114]\n\tGetHandleVerifier [0x0143312C+2411516]\n\tGetHandleVerifier [0x0126F261+560433]\n\tGetHandleVerifier [0x0126E366+556598]\n\tOrdinal0 [0x0117286B+2173035]\n\tOrdinal0 [0x011775F8+2192888]\n\tOrdinal0 [0x011776E5+2193125]\n\tOrdinal0 [0x011811FC+2232828]\n\tBaseThreadInitThunk [0x74F7FA29+25]\n\tRtlGetAppContainerNamedObjectPath [0x76FE7A7E+286]\n\tRtlGetAppContainerNamedObjectPath [0x76FE7A4E+238]\n",
     "output_type": "error",
     "traceback": [
      "\u001b[1;31m---------------------------------------------------------------------------\u001b[0m",
      "\u001b[1;31mElementNotInteractableException\u001b[0m           Traceback (most recent call last)",
      "\u001b[1;32m<ipython-input-13-8922f4b4a8f4>\u001b[0m in \u001b[0;36m<module>\u001b[1;34m\u001b[0m\n\u001b[1;32m----> 1\u001b[1;33m \u001b[0msearch_bar\u001b[0m\u001b[1;33m.\u001b[0m\u001b[0msend_keys\u001b[0m\u001b[1;33m(\u001b[0m\u001b[1;34m\"laptops\"\u001b[0m\u001b[1;33m)\u001b[0m\u001b[1;33m\u001b[0m\u001b[1;33m\u001b[0m\u001b[0m\n\u001b[0m\u001b[0;32m      2\u001b[0m \u001b[0msearch_bar\u001b[0m\u001b[1;33m.\u001b[0m\u001b[0mclick\u001b[0m\u001b[1;33m(\u001b[0m\u001b[1;33m)\u001b[0m\u001b[1;33m\u001b[0m\u001b[1;33m\u001b[0m\u001b[0m\n",
      "\u001b[1;32m~\\anaconda3\\lib\\site-packages\\selenium\\webdriver\\remote\\webelement.py\u001b[0m in \u001b[0;36msend_keys\u001b[1;34m(self, *value)\u001b[0m\n\u001b[0;32m    538\u001b[0m                 \u001b[0mvalue\u001b[0m \u001b[1;33m=\u001b[0m \u001b[1;34m'\\n'\u001b[0m\u001b[1;33m.\u001b[0m\u001b[0mjoin\u001b[0m\u001b[1;33m(\u001b[0m\u001b[0mremote_files\u001b[0m\u001b[1;33m)\u001b[0m\u001b[1;33m\u001b[0m\u001b[1;33m\u001b[0m\u001b[0m\n\u001b[0;32m    539\u001b[0m \u001b[1;33m\u001b[0m\u001b[0m\n\u001b[1;32m--> 540\u001b[1;33m         self._execute(Command.SEND_KEYS_TO_ELEMENT,\n\u001b[0m\u001b[0;32m    541\u001b[0m                       {'text': \"\".join(keys_to_typing(value)),\n\u001b[0;32m    542\u001b[0m                        'value': keys_to_typing(value)})\n",
      "\u001b[1;32m~\\anaconda3\\lib\\site-packages\\selenium\\webdriver\\remote\\webelement.py\u001b[0m in \u001b[0;36m_execute\u001b[1;34m(self, command, params)\u001b[0m\n\u001b[0;32m    708\u001b[0m             \u001b[0mparams\u001b[0m \u001b[1;33m=\u001b[0m \u001b[1;33m{\u001b[0m\u001b[1;33m}\u001b[0m\u001b[1;33m\u001b[0m\u001b[1;33m\u001b[0m\u001b[0m\n\u001b[0;32m    709\u001b[0m         \u001b[0mparams\u001b[0m\u001b[1;33m[\u001b[0m\u001b[1;34m'id'\u001b[0m\u001b[1;33m]\u001b[0m \u001b[1;33m=\u001b[0m \u001b[0mself\u001b[0m\u001b[1;33m.\u001b[0m\u001b[0m_id\u001b[0m\u001b[1;33m\u001b[0m\u001b[1;33m\u001b[0m\u001b[0m\n\u001b[1;32m--> 710\u001b[1;33m         \u001b[1;32mreturn\u001b[0m \u001b[0mself\u001b[0m\u001b[1;33m.\u001b[0m\u001b[0m_parent\u001b[0m\u001b[1;33m.\u001b[0m\u001b[0mexecute\u001b[0m\u001b[1;33m(\u001b[0m\u001b[0mcommand\u001b[0m\u001b[1;33m,\u001b[0m \u001b[0mparams\u001b[0m\u001b[1;33m)\u001b[0m\u001b[1;33m\u001b[0m\u001b[1;33m\u001b[0m\u001b[0m\n\u001b[0m\u001b[0;32m    711\u001b[0m \u001b[1;33m\u001b[0m\u001b[0m\n\u001b[0;32m    712\u001b[0m     \u001b[1;32mdef\u001b[0m \u001b[0mfind_element\u001b[0m\u001b[1;33m(\u001b[0m\u001b[0mself\u001b[0m\u001b[1;33m,\u001b[0m \u001b[0mby\u001b[0m\u001b[1;33m=\u001b[0m\u001b[0mBy\u001b[0m\u001b[1;33m.\u001b[0m\u001b[0mID\u001b[0m\u001b[1;33m,\u001b[0m \u001b[0mvalue\u001b[0m\u001b[1;33m=\u001b[0m\u001b[1;32mNone\u001b[0m\u001b[1;33m)\u001b[0m\u001b[1;33m:\u001b[0m\u001b[1;33m\u001b[0m\u001b[1;33m\u001b[0m\u001b[0m\n",
      "\u001b[1;32m~\\anaconda3\\lib\\site-packages\\selenium\\webdriver\\remote\\webdriver.py\u001b[0m in \u001b[0;36mexecute\u001b[1;34m(self, driver_command, params)\u001b[0m\n\u001b[0;32m    423\u001b[0m         \u001b[0mresponse\u001b[0m \u001b[1;33m=\u001b[0m \u001b[0mself\u001b[0m\u001b[1;33m.\u001b[0m\u001b[0mcommand_executor\u001b[0m\u001b[1;33m.\u001b[0m\u001b[0mexecute\u001b[0m\u001b[1;33m(\u001b[0m\u001b[0mdriver_command\u001b[0m\u001b[1;33m,\u001b[0m \u001b[0mparams\u001b[0m\u001b[1;33m)\u001b[0m\u001b[1;33m\u001b[0m\u001b[1;33m\u001b[0m\u001b[0m\n\u001b[0;32m    424\u001b[0m         \u001b[1;32mif\u001b[0m \u001b[0mresponse\u001b[0m\u001b[1;33m:\u001b[0m\u001b[1;33m\u001b[0m\u001b[1;33m\u001b[0m\u001b[0m\n\u001b[1;32m--> 425\u001b[1;33m             \u001b[0mself\u001b[0m\u001b[1;33m.\u001b[0m\u001b[0merror_handler\u001b[0m\u001b[1;33m.\u001b[0m\u001b[0mcheck_response\u001b[0m\u001b[1;33m(\u001b[0m\u001b[0mresponse\u001b[0m\u001b[1;33m)\u001b[0m\u001b[1;33m\u001b[0m\u001b[1;33m\u001b[0m\u001b[0m\n\u001b[0m\u001b[0;32m    426\u001b[0m             response['value'] = self._unwrap_value(\n\u001b[0;32m    427\u001b[0m                 response.get('value', None))\n",
      "\u001b[1;32m~\\anaconda3\\lib\\site-packages\\selenium\\webdriver\\remote\\errorhandler.py\u001b[0m in \u001b[0;36mcheck_response\u001b[1;34m(self, response)\u001b[0m\n\u001b[0;32m    245\u001b[0m                 \u001b[0malert_text\u001b[0m \u001b[1;33m=\u001b[0m \u001b[0mvalue\u001b[0m\u001b[1;33m[\u001b[0m\u001b[1;34m'alert'\u001b[0m\u001b[1;33m]\u001b[0m\u001b[1;33m.\u001b[0m\u001b[0mget\u001b[0m\u001b[1;33m(\u001b[0m\u001b[1;34m'text'\u001b[0m\u001b[1;33m)\u001b[0m\u001b[1;33m\u001b[0m\u001b[1;33m\u001b[0m\u001b[0m\n\u001b[0;32m    246\u001b[0m             \u001b[1;32mraise\u001b[0m \u001b[0mexception_class\u001b[0m\u001b[1;33m(\u001b[0m\u001b[0mmessage\u001b[0m\u001b[1;33m,\u001b[0m \u001b[0mscreen\u001b[0m\u001b[1;33m,\u001b[0m \u001b[0mstacktrace\u001b[0m\u001b[1;33m,\u001b[0m \u001b[0malert_text\u001b[0m\u001b[1;33m)\u001b[0m  \u001b[1;31m# type: ignore[call-arg]  # mypy is not smart enough here\u001b[0m\u001b[1;33m\u001b[0m\u001b[1;33m\u001b[0m\u001b[0m\n\u001b[1;32m--> 247\u001b[1;33m         \u001b[1;32mraise\u001b[0m \u001b[0mexception_class\u001b[0m\u001b[1;33m(\u001b[0m\u001b[0mmessage\u001b[0m\u001b[1;33m,\u001b[0m \u001b[0mscreen\u001b[0m\u001b[1;33m,\u001b[0m \u001b[0mstacktrace\u001b[0m\u001b[1;33m)\u001b[0m\u001b[1;33m\u001b[0m\u001b[1;33m\u001b[0m\u001b[0m\n\u001b[0m\u001b[0;32m    248\u001b[0m \u001b[1;33m\u001b[0m\u001b[0m\n\u001b[0;32m    249\u001b[0m     \u001b[1;32mdef\u001b[0m \u001b[0m_value_or_default\u001b[0m\u001b[1;33m(\u001b[0m\u001b[0mself\u001b[0m\u001b[1;33m,\u001b[0m \u001b[0mobj\u001b[0m\u001b[1;33m:\u001b[0m \u001b[0mMapping\u001b[0m\u001b[1;33m[\u001b[0m\u001b[0m_KT\u001b[0m\u001b[1;33m,\u001b[0m \u001b[0m_VT\u001b[0m\u001b[1;33m]\u001b[0m\u001b[1;33m,\u001b[0m \u001b[0mkey\u001b[0m\u001b[1;33m:\u001b[0m \u001b[0m_KT\u001b[0m\u001b[1;33m,\u001b[0m \u001b[0mdefault\u001b[0m\u001b[1;33m:\u001b[0m \u001b[0m_VT\u001b[0m\u001b[1;33m)\u001b[0m \u001b[1;33m->\u001b[0m \u001b[0m_VT\u001b[0m\u001b[1;33m:\u001b[0m\u001b[1;33m\u001b[0m\u001b[1;33m\u001b[0m\u001b[0m\n",
      "\u001b[1;31mElementNotInteractableException\u001b[0m: Message: element not interactable\n  (Session info: chrome=99.0.4844.84)\nStacktrace:\nBacktrace:\n\tOrdinal0 [0x011D9943+2595139]\n\tOrdinal0 [0x0116C9F1+2148849]\n\tOrdinal0 [0x010643F0+1065968]\n\tOrdinal0 [0x0108C4D3+1230035]\n\tOrdinal0 [0x0108BB8B+1227659]\n\tOrdinal0 [0x010AB9EC+1358316]\n\tOrdinal0 [0x01087474+1209460]\n\tOrdinal0 [0x010ABC04+1358852]\n\tOrdinal0 [0x010BBAF2+1424114]\n\tOrdinal0 [0x010AB806+1357830]\n\tOrdinal0 [0x01086086+1204358]\n\tOrdinal0 [0x01086F96+1208214]\n\tGetHandleVerifier [0x0137B232+1658114]\n\tGetHandleVerifier [0x0143312C+2411516]\n\tGetHandleVerifier [0x0126F261+560433]\n\tGetHandleVerifier [0x0126E366+556598]\n\tOrdinal0 [0x0117286B+2173035]\n\tOrdinal0 [0x011775F8+2192888]\n\tOrdinal0 [0x011776E5+2193125]\n\tOrdinal0 [0x011811FC+2232828]\n\tBaseThreadInitThunk [0x74F7FA29+25]\n\tRtlGetAppContainerNamedObjectPath [0x76FE7A7E+286]\n\tRtlGetAppContainerNamedObjectPath [0x76FE7A4E+238]\n"
     ]
    }
   ],
   "source": [
    "\n",
    "search_bar.send_keys(\"laptops\")\n",
    "search_bar.click()"
   ]
  },
  {
   "cell_type": "markdown",
   "id": "9aa0a18e",
   "metadata": {},
   "source": [
    "**Q8) Write a python program to scrape the details for all billionaires from www.forbes.com. Details to be scrapped: “Rank”, “Name”, “Net worth”, “Age”, “Citizenship”, “Source”, “Industry”.**\n"
   ]
  },
  {
   "cell_type": "code",
   "execution_count": 13,
   "id": "319ffad8",
   "metadata": {},
   "outputs": [],
   "source": [
    "# lets first connect to webdriver.\n",
    "driver=webdriver.Chrome(\"chromedriver.exe\")\n",
    "url=\"https://www.forbes.com/\"\n",
    "driver.get(url)"
   ]
  },
  {
   "cell_type": "code",
   "execution_count": 14,
   "id": "dc25c6d5",
   "metadata": {},
   "outputs": [],
   "source": [
    "search_button=driver.find_element_by_xpath('/html/body/div[1]/header/nav/div[4]/button')\n",
    "search_button.send_keys(\"billionaires\")\n",
    "search_button.click()"
   ]
  },
  {
   "cell_type": "code",
   "execution_count": 1,
   "id": "50e0f089",
   "metadata": {},
   "outputs": [
    {
     "ename": "NameError",
     "evalue": "name 'driver' is not defined",
     "output_type": "error",
     "traceback": [
      "\u001b[1;31m---------------------------------------------------------------------------\u001b[0m",
      "\u001b[1;31mNameError\u001b[0m                                 Traceback (most recent call last)",
      "\u001b[1;32m<ipython-input-1-681b02b2f407>\u001b[0m in \u001b[0;36m<module>\u001b[1;34m\u001b[0m\n\u001b[0;32m      1\u001b[0m \u001b[1;31m# extracting rank\u001b[0m\u001b[1;33m\u001b[0m\u001b[1;33m\u001b[0m\u001b[1;33m\u001b[0m\u001b[0m\n\u001b[1;32m----> 2\u001b[1;33m \u001b[0mrank\u001b[0m\u001b[1;33m=\u001b[0m\u001b[0mdriver\u001b[0m\u001b[1;33m.\u001b[0m\u001b[0mfind_elements_by_xpath\u001b[0m\u001b[1;33m(\u001b[0m\u001b[1;34m''\u001b[0m\u001b[1;33m)\u001b[0m\u001b[1;33m\u001b[0m\u001b[1;33m\u001b[0m\u001b[0m\n\u001b[0m",
      "\u001b[1;31mNameError\u001b[0m: name 'driver' is not defined"
     ]
    }
   ],
   "source": [
    "# extracting rank\n",
    "rank=driver.find_elements_by_xpath('')"
   ]
  },
  {
   "cell_type": "markdown",
   "id": "f635edd5",
   "metadata": {},
   "source": [
    "**Q10) Write a python program to scrape a data for all available Hostels from https://www.hostelworld.com/ in “London” location. You have to scrape hostel name, distance from city centre, ratings, total reviews, overall reviews, privates from price, dorms from price, facilities and property description.**"
   ]
  },
  {
   "cell_type": "code",
   "execution_count": 12,
   "id": "d9c5a7bf",
   "metadata": {},
   "outputs": [],
   "source": [
    "# lets first connect to webdriver.\n",
    "driver=webdriver.Chrome(\"chromedriver.exe\")\n",
    "url=\"https://www.hostelworld.com/\"\n",
    "driver.get(url)"
   ]
  },
  {
   "cell_type": "code",
   "execution_count": 14,
   "id": "858c1e80",
   "metadata": {},
   "outputs": [
    {
     "data": {
      "text/plain": [
       "<selenium.webdriver.remote.webelement.WebElement (session=\"5915f52e739e17290a5f346f634c5525\", element=\"3f76cbd2-7f21-4ac1-84f8-077f278ec874\")>"
      ]
     },
     "execution_count": 14,
     "metadata": {},
     "output_type": "execute_result"
    }
   ],
   "source": [
    "search_loc=driver.find_element_by_xpath(\"/html/body/div[3]/div/div/div[1]/div[2]/div/div[2]/div[4]/div/div[2]/div/div[1]/div/div/div/input\")\n",
    "search_loc"
   ]
  },
  {
   "cell_type": "code",
   "execution_count": 15,
   "id": "5ebd1a76",
   "metadata": {},
   "outputs": [],
   "source": [
    "search_loc.send_keys(\"London\")"
   ]
  },
  {
   "cell_type": "code",
   "execution_count": 18,
   "id": "9fec1c65",
   "metadata": {},
   "outputs": [
    {
     "data": {
      "text/plain": [
       "[<selenium.webdriver.remote.webelement.WebElement (session=\"5915f52e739e17290a5f346f634c5525\", element=\"b780b334-0cad-4285-ba5a-70f3a4d8f0d3\")>,\n",
       " <selenium.webdriver.remote.webelement.WebElement (session=\"5915f52e739e17290a5f346f634c5525\", element=\"1edb39c7-9ed2-4e67-823e-66d61ff770c1\")>]"
      ]
     },
     "execution_count": 18,
     "metadata": {},
     "output_type": "execute_result"
    }
   ],
   "source": [
    "# extracting hostel name\n",
    "hostel_name=driver.find_elements_by_xpath('//h2[@class=\"title title-6\"]')\n",
    "len(hostel_name)\n",
    "hostel_name[0:2]"
   ]
  },
  {
   "cell_type": "code",
   "execution_count": 19,
   "id": "c97160a2",
   "metadata": {},
   "outputs": [
    {
     "data": {
      "text/plain": [
       "['Safestay London Elephant & Castle', 'Generator London']"
      ]
     },
     "execution_count": 19,
     "metadata": {},
     "output_type": "execute_result"
    }
   ],
   "source": [
    "host_name=[]\n",
    "for i in hostel_name:\n",
    "    host_name.append(i.text)\n",
    "len(host_name)\n",
    "host_name[0:2]"
   ]
  },
  {
   "cell_type": "code",
   "execution_count": 20,
   "id": "9e515703",
   "metadata": {},
   "outputs": [
    {
     "data": {
      "text/plain": [
       "[<selenium.webdriver.remote.webelement.WebElement (session=\"5915f52e739e17290a5f346f634c5525\", element=\"909bf001-3003-4750-a707-82948ff3425b\")>,\n",
       " <selenium.webdriver.remote.webelement.WebElement (session=\"5915f52e739e17290a5f346f634c5525\", element=\"c976d7f6-cb32-4f18-b287-8da1f3455782\")>]"
      ]
     },
     "execution_count": 20,
     "metadata": {},
     "output_type": "execute_result"
    }
   ],
   "source": [
    "# extracting distance from the city\n",
    "dist_city=driver.find_elements_by_xpath('//span[@class=\"description\"]')\n",
    "len(dist_city)\n",
    "dist_city[0:2]"
   ]
  },
  {
   "cell_type": "code",
   "execution_count": 21,
   "id": "870eba0d",
   "metadata": {},
   "outputs": [
    {
     "data": {
      "text/plain": [
       "['Hostel - 1.7km from city centre', 'Hostel - 3km from city centre']"
      ]
     },
     "execution_count": 21,
     "metadata": {},
     "output_type": "execute_result"
    }
   ],
   "source": [
    "distance_city=[]\n",
    "for i in dist_city:\n",
    "    distance_city.append(i.text)\n",
    "len(distance_city)\n",
    "distance_city[0:2]"
   ]
  },
  {
   "cell_type": "code",
   "execution_count": 22,
   "id": "7832f101",
   "metadata": {},
   "outputs": [
    {
     "data": {
      "text/plain": [
       "[<selenium.webdriver.remote.webelement.WebElement (session=\"5915f52e739e17290a5f346f634c5525\", element=\"9522eea4-3b75-49a0-92e7-1a6da0547492\")>,\n",
       " <selenium.webdriver.remote.webelement.WebElement (session=\"5915f52e739e17290a5f346f634c5525\", element=\"85360650-24a6-4387-87c2-c08e8559dd2e\")>]"
      ]
     },
     "execution_count": 22,
     "metadata": {},
     "output_type": "execute_result"
    }
   ],
   "source": [
    "# extracting ratings\n",
    "rating=driver.find_elements_by_xpath('//div[@class=\"score orange big\"]')\n",
    "len(rating)\n",
    "rating[0:2]"
   ]
  },
  {
   "cell_type": "code",
   "execution_count": 23,
   "id": "78b28ee6",
   "metadata": {},
   "outputs": [
    {
     "data": {
      "text/plain": [
       "['7.7', '7.8']"
      ]
     },
     "execution_count": 23,
     "metadata": {},
     "output_type": "execute_result"
    }
   ],
   "source": [
    "rate=[]\n",
    "for i in rating:\n",
    "    rate.append(i.text)\n",
    "len(rate)\n",
    "rate[0:2]"
   ]
  },
  {
   "cell_type": "code",
   "execution_count": 24,
   "id": "a8fe7999",
   "metadata": {},
   "outputs": [
    {
     "data": {
      "text/plain": [
       "[<selenium.webdriver.remote.webelement.WebElement (session=\"5915f52e739e17290a5f346f634c5525\", element=\"09b58ae2-772d-4089-96b5-6a76c70a1ed7\")>,\n",
       " <selenium.webdriver.remote.webelement.WebElement (session=\"5915f52e739e17290a5f346f634c5525\", element=\"13f1934e-1974-4d72-8336-74914ab2a28c\")>]"
      ]
     },
     "execution_count": 24,
     "metadata": {},
     "output_type": "execute_result"
    }
   ],
   "source": [
    "# extracting total reviews\n",
    "tot_reviews=driver.find_elements_by_xpath('//div[@class=\"reviews\"]')\n",
    "len(tot_reviews)\n",
    "tot_reviews[0:2]"
   ]
  },
  {
   "cell_type": "code",
   "execution_count": 26,
   "id": "9d84c8ec",
   "metadata": {},
   "outputs": [
    {
     "data": {
      "text/plain": [
       "['4126 Total Reviews', '6847 Total Reviews']"
      ]
     },
     "execution_count": 26,
     "metadata": {},
     "output_type": "execute_result"
    }
   ],
   "source": [
    "total_reviews=[]\n",
    "for i in tot_reviews:\n",
    "    total_reviews.append(i.text)\n",
    "len(total_reviews)\n",
    "total_reviews[0:2]"
   ]
  },
  {
   "cell_type": "code",
   "execution_count": 27,
   "id": "1a8a3a42",
   "metadata": {},
   "outputs": [
    {
     "data": {
      "text/plain": [
       "[<selenium.webdriver.remote.webelement.WebElement (session=\"5915f52e739e17290a5f346f634c5525\", element=\"67cd23e0-b359-4add-bf81-ebf8f16320d1\")>,\n",
       " <selenium.webdriver.remote.webelement.WebElement (session=\"5915f52e739e17290a5f346f634c5525\", element=\"83823f72-3f7e-4da3-bc68-0a8b4f1844dd\")>]"
      ]
     },
     "execution_count": 27,
     "metadata": {},
     "output_type": "execute_result"
    }
   ],
   "source": [
    "# extraction overall reviews\n",
    "over_reviews=driver.find_elements_by_xpath('//span[@data-v-1a6916de]')\n",
    "len(over_reviews)\n",
    "over_reviews[0:2]"
   ]
  },
  {
   "cell_type": "code",
   "execution_count": 28,
   "id": "b8c3afab",
   "metadata": {},
   "outputs": [
    {
     "data": {
      "text/plain": [
       "['Very Good', 'Very Good']"
      ]
     },
     "execution_count": 28,
     "metadata": {},
     "output_type": "execute_result"
    }
   ],
   "source": [
    "overall_reviews=[]\n",
    "for i in over_reviews:\n",
    "    overall_reviews.append(i.text)\n",
    "len(overall_reviews)\n",
    "overall_reviews[0:2]"
   ]
  },
  {
   "cell_type": "code",
   "execution_count": 37,
   "id": "2db61cc2",
   "metadata": {},
   "outputs": [
    {
     "data": {
      "text/plain": [
       "[<selenium.webdriver.remote.webelement.WebElement (session=\"5915f52e739e17290a5f346f634c5525\", element=\"80623da7-9e2d-4a50-8660-99d59b1f93f0\")>,\n",
       " <selenium.webdriver.remote.webelement.WebElement (session=\"5915f52e739e17290a5f346f634c5525\", element=\"9599370c-7a3d-466f-9a8f-96c37f6957b3\")>]"
      ]
     },
     "execution_count": 37,
     "metadata": {},
     "output_type": "execute_result"
    }
   ],
   "source": [
    "# extracting private from price\n",
    "priv_price=driver.find_elements_by_xpath('//p[@data-v-2f0a89ac]')\n",
    "len(priv_price)\n",
    "priv_price[0:2]"
   ]
  },
  {
   "cell_type": "code",
   "execution_count": 38,
   "id": "f7c57d27",
   "metadata": {},
   "outputs": [
    {
     "data": {
      "text/plain": [
       "['No Privates Available', 'Dorms From']"
      ]
     },
     "execution_count": 38,
     "metadata": {},
     "output_type": "execute_result"
    }
   ],
   "source": [
    "private_price=[]\n",
    "for i in priv_price:\n",
    "    private_price.append(i.text)\n",
    "len(private_price)\n",
    "private_price[0:2]"
   ]
  },
  {
   "cell_type": "code",
   "execution_count": null,
   "id": "82742ecc",
   "metadata": {},
   "outputs": [],
   "source": []
  }
 ],
 "metadata": {
  "kernelspec": {
   "display_name": "Python 3",
   "language": "python",
   "name": "python3"
  },
  "language_info": {
   "codemirror_mode": {
    "name": "ipython",
    "version": 3
   },
   "file_extension": ".py",
   "mimetype": "text/x-python",
   "name": "python",
   "nbconvert_exporter": "python",
   "pygments_lexer": "ipython3",
   "version": "3.8.8"
  }
 },
 "nbformat": 4,
 "nbformat_minor": 5
}
