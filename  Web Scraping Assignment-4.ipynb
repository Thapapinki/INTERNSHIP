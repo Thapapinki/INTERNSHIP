{
 "cells": [
  {
   "cell_type": "code",
   "execution_count": 1,
   "id": "8fcd364c",
   "metadata": {},
   "outputs": [
    {
     "name": "stdout",
     "output_type": "stream",
     "text": [
      "Requirement already satisfied: selenium in c:\\users\\pinki\\anaconda3\\lib\\site-packages (4.1.3)\n",
      "Requirement already satisfied: trio~=0.17 in c:\\users\\pinki\\anaconda3\\lib\\site-packages (from selenium) (0.20.0)\n",
      "Requirement already satisfied: trio-websocket~=0.9 in c:\\users\\pinki\\anaconda3\\lib\\site-packages (from selenium) (0.9.2)\n",
      "Requirement already satisfied: urllib3[secure,socks]~=1.26 in c:\\users\\pinki\\anaconda3\\lib\\site-packages (from selenium) (1.26.4)\n",
      "Requirement already satisfied: sortedcontainers in c:\\users\\pinki\\anaconda3\\lib\\site-packages (from trio~=0.17->selenium) (2.3.0)\n",
      "Requirement already satisfied: cffi>=1.14 in c:\\users\\pinki\\anaconda3\\lib\\site-packages (from trio~=0.17->selenium) (1.14.5)\n",
      "Requirement already satisfied: sniffio in c:\\users\\pinki\\anaconda3\\lib\\site-packages (from trio~=0.17->selenium) (1.2.0)\n",
      "Requirement already satisfied: idna in c:\\users\\pinki\\anaconda3\\lib\\site-packages (from trio~=0.17->selenium) (2.10)\n",
      "Requirement already satisfied: async-generator>=1.9 in c:\\users\\pinki\\anaconda3\\lib\\site-packages (from trio~=0.17->selenium) (1.10)\n",
      "Requirement already satisfied: outcome in c:\\users\\pinki\\anaconda3\\lib\\site-packages (from trio~=0.17->selenium) (1.1.0)\n",
      "Requirement already satisfied: attrs>=19.2.0 in c:\\users\\pinki\\anaconda3\\lib\\site-packages (from trio~=0.17->selenium) (20.3.0)\n",
      "Requirement already satisfied: pycparser in c:\\users\\pinki\\anaconda3\\lib\\site-packages (from cffi>=1.14->trio~=0.17->selenium) (2.20)\n",
      "Requirement already satisfied: wsproto>=0.14 in c:\\users\\pinki\\anaconda3\\lib\\site-packages (from trio-websocket~=0.9->selenium) (1.1.0)\n",
      "Requirement already satisfied: certifi in c:\\users\\pinki\\anaconda3\\lib\\site-packages (from urllib3[secure,socks]~=1.26->selenium) (2020.12.5)\n",
      "Requirement already satisfied: pyOpenSSL>=0.14 in c:\\users\\pinki\\anaconda3\\lib\\site-packages (from urllib3[secure,socks]~=1.26->selenium) (20.0.1)\n",
      "Requirement already satisfied: cryptography>=1.3.4 in c:\\users\\pinki\\anaconda3\\lib\\site-packages (from urllib3[secure,socks]~=1.26->selenium) (3.4.7)\n",
      "Requirement already satisfied: PySocks!=1.5.7,<2.0,>=1.5.6 in c:\\users\\pinki\\anaconda3\\lib\\site-packages (from urllib3[secure,socks]~=1.26->selenium) (1.7.1)\n",
      "Requirement already satisfied: six>=1.5.2 in c:\\users\\pinki\\anaconda3\\lib\\site-packages (from pyOpenSSL>=0.14->urllib3[secure,socks]~=1.26->selenium) (1.15.0)\n",
      "Requirement already satisfied: h11<1,>=0.9.0 in c:\\users\\pinki\\anaconda3\\lib\\site-packages (from wsproto>=0.14->trio-websocket~=0.9->selenium) (0.13.0)\n"
     ]
    }
   ],
   "source": [
    "!pip install selenium"
   ]
  },
  {
   "cell_type": "markdown",
   "id": "c24a3ec5",
   "metadata": {},
   "source": [
    "**Q1) Scrape the details of most viewed videos on YouTube from Wikipedia.**"
   ]
  },
  {
   "cell_type": "code",
   "execution_count": null,
   "id": "106ed37f",
   "metadata": {},
   "outputs": [],
   "source": [
    "# lets imports all required libraries.\n",
    "import selenium\n",
    "from selenium import webdriver\n",
    "import pandas as pd\n",
    "import warnings\n",
    "warnings.filterwarnings (\"ignore\")"
   ]
  },
  {
   "cell_type": "code",
   "execution_count": 81,
   "id": "bd635743",
   "metadata": {},
   "outputs": [],
   "source": [
    "# lets first connect to webdriver.\n",
    "driver=webdriver.Chrome(\"chromedriver.exe\")\n",
    "url=\"https://en.wikipedia.org/wiki/List_of_most-viewed_YouTube_videos\"\n",
    "driver.get(url)"
   ]
  },
  {
   "cell_type": "code",
   "execution_count": 82,
   "id": "97b3ee70",
   "metadata": {},
   "outputs": [
    {
     "data": {
      "text/plain": [
       "[<selenium.webdriver.remote.webelement.WebElement (session=\"939d1ecd9d2d2a98d25c60ea665750c1\", element=\"567364f1-d4bd-4cca-a9e2-80e6e9ec7819\")>,\n",
       " <selenium.webdriver.remote.webelement.WebElement (session=\"939d1ecd9d2d2a98d25c60ea665750c1\", element=\"1bb9acd8-c49b-4045-ad97-9342781b9baf\")>]"
      ]
     },
     "execution_count": 82,
     "metadata": {},
     "output_type": "execute_result"
    }
   ],
   "source": [
    "# Extracting Rank\n",
    "rank=driver.find_elements_by_xpath('//th[@class=\"unsortable\"]')\n",
    "len(rank)\n",
    "rank[0:2]"
   ]
  },
  {
   "cell_type": "code",
   "execution_count": 83,
   "id": "14d8b907",
   "metadata": {},
   "outputs": [
    {
     "data": {
      "text/plain": [
       "['Note', 'Ref']"
      ]
     },
     "execution_count": 83,
     "metadata": {},
     "output_type": "execute_result"
    }
   ],
   "source": [
    "video_rank=[]\n",
    "for i in rank:\n",
    "    video_rank.append(i.text)\n",
    "len(video_rank)\n",
    "video_rank[0:2]"
   ]
  },
  {
   "cell_type": "code",
   "execution_count": 8,
   "id": "7c5e9a08",
   "metadata": {},
   "outputs": [
    {
     "data": {
      "text/plain": [
       "[<selenium.webdriver.remote.webelement.WebElement (session=\"cd3e3cee593e357728b48e4342e572f4\", element=\"62eb56cb-f824-4dce-b1aa-4d2078f5a9c0\")>]"
      ]
     },
     "execution_count": 8,
     "metadata": {},
     "output_type": "execute_result"
    }
   ],
   "source": [
    "# Extracting Name\n",
    "name=driver.find_elements_by_xpath('/html/body/div[3]/div[3]/div[5]/div[1]/table[3]/thead/tr/th[2]')\n",
    "len(name)\n",
    "name[0:2]"
   ]
  },
  {
   "cell_type": "code",
   "execution_count": 9,
   "id": "bd8abae7",
   "metadata": {},
   "outputs": [
    {
     "data": {
      "text/plain": [
       "['Video name']"
      ]
     },
     "execution_count": 9,
     "metadata": {},
     "output_type": "execute_result"
    }
   ],
   "source": [
    "video_name=[]\n",
    "for i in name:\n",
    "    video_name.append(i.text)\n",
    "len(video_name)\n",
    "video_name[0:2]"
   ]
  },
  {
   "cell_type": "markdown",
   "id": "086e34fd",
   "metadata": {},
   "source": [
    "**Q8) Scrape the details of Highest selling novels.**"
   ]
  },
  {
   "cell_type": "code",
   "execution_count": 79,
   "id": "ae74deb9",
   "metadata": {},
   "outputs": [],
   "source": [
    "# lets first connect to webdriver.\n",
    "driver=webdriver.Chrome(\"chromedriver.exe\")\n",
    "url=\"https://www.theguardian.com/news/datablog/2012/aug/09/best-selling-books-all-time-fifty-shades-grey-compare\"\n",
    "driver.get(url)"
   ]
  },
  {
   "cell_type": "code",
   "execution_count": 80,
   "id": "2099cd5d",
   "metadata": {},
   "outputs": [
    {
     "data": {
      "text/plain": [
       "[]"
      ]
     },
     "execution_count": 80,
     "metadata": {},
     "output_type": "execute_result"
    }
   ],
   "source": [
    "# Extracting Book Name\n",
    "name=driver.find_elements_by_xpath('     Title             ')\n",
    "len(name)\n",
    "name[0:2]"
   ]
  },
  {
   "cell_type": "code",
   "execution_count": null,
   "id": "8c0908c4",
   "metadata": {},
   "outputs": [],
   "source": []
  },
  {
   "cell_type": "code",
   "execution_count": null,
   "id": "e8eb97c2",
   "metadata": {},
   "outputs": [],
   "source": []
  },
  {
   "cell_type": "code",
   "execution_count": null,
   "id": "3867f247",
   "metadata": {},
   "outputs": [],
   "source": []
  },
  {
   "cell_type": "code",
   "execution_count": null,
   "id": "b5745b80",
   "metadata": {},
   "outputs": [],
   "source": []
  },
  {
   "cell_type": "code",
   "execution_count": null,
   "id": "4d745fff",
   "metadata": {},
   "outputs": [],
   "source": []
  },
  {
   "cell_type": "code",
   "execution_count": null,
   "id": "54f57173",
   "metadata": {},
   "outputs": [],
   "source": []
  },
  {
   "cell_type": "markdown",
   "id": "b00dc7bf",
   "metadata": {},
   "source": [
    "**Q9) Scrape the details most watched tv series of all time from imdb.com.**\n"
   ]
  },
  {
   "cell_type": "code",
   "execution_count": 49,
   "id": "c12032ec",
   "metadata": {},
   "outputs": [],
   "source": [
    "# lets first connect to webdriver.\n",
    "driver=webdriver.Chrome(\"chromedriver.exe\")\n",
    "url=\"https://www.imdb.com/list/ls095964455/\"\n",
    "driver.get(url)"
   ]
  },
  {
   "cell_type": "code",
   "execution_count": 52,
   "id": "0af14c9a",
   "metadata": {},
   "outputs": [
    {
     "data": {
      "text/plain": [
       "[<selenium.webdriver.remote.webelement.WebElement (session=\"239bb350dd80cd6a37d6fa4835537376\", element=\"c8d169b0-45c8-4033-80a7-1a7fc3c34bbf\")>,\n",
       " <selenium.webdriver.remote.webelement.WebElement (session=\"239bb350dd80cd6a37d6fa4835537376\", element=\"9213c316-9a9a-470d-a36d-5234c8942718\")>]"
      ]
     },
     "execution_count": 52,
     "metadata": {},
     "output_type": "execute_result"
    }
   ],
   "source": [
    "# Extracting Name\n",
    "video_name=driver.find_elements_by_xpath('//h3[@class=\"lister-item-header\"]')\n",
    "len(video_name)\n",
    "video_name[0:2]"
   ]
  },
  {
   "cell_type": "code",
   "execution_count": 55,
   "id": "76a444a7",
   "metadata": {},
   "outputs": [
    {
     "data": {
      "text/plain": [
       "['1. Game of Thrones (2011–2019)',\n",
       " '2. Stranger Things (2016– )',\n",
       " '3. The Walking Dead (2010–2022)',\n",
       " '4. 13 Reasons Why (2017–2020)',\n",
       " '5. The 100 (2014–2020)',\n",
       " '6. Orange Is the New Black (2013–2019)',\n",
       " '7. Riverdale (2017– )',\n",
       " \"8. Grey's Anatomy (2005– )\",\n",
       " '9. The Flash (2014– )',\n",
       " '10. Arrow (2012–2020)',\n",
       " '11. Money Heist (2017–2021)',\n",
       " '12. The Big Bang Theory (2007–2019)',\n",
       " '13. Black Mirror (2011–2019)',\n",
       " '14. Sherlock (2010–2017)',\n",
       " '15. Vikings (2013–2020)',\n",
       " '16. Pretty Little Liars (2010–2017)',\n",
       " '17. The Vampire Diaries (2009–2017)',\n",
       " '18. American Horror Story (2011– )',\n",
       " '19. Breaking Bad (2008–2013)',\n",
       " '20. Lucifer (2016–2021)',\n",
       " '21. Supernatural (2005–2020)',\n",
       " '22. Prison Break (2005–2017)',\n",
       " '23. How to Get Away with Murder (2014–2020)',\n",
       " '24. Teen Wolf (2011–2017)',\n",
       " '25. The Simpsons (1989– )',\n",
       " '26. Once Upon a Time (2011–2018)',\n",
       " '27. Narcos (2015–2017)',\n",
       " '28. Daredevil (2015–2018)',\n",
       " '29. Friends (1994–2004)',\n",
       " '30. How I Met Your Mother (2005–2014)',\n",
       " '31. Suits (2011–2019)',\n",
       " '32. Mr. Robot (2015–2019)',\n",
       " '33. The Originals (2013–2018)',\n",
       " '34. Supergirl (2015–2021)',\n",
       " '35. Gossip Girl (2007–2012)',\n",
       " '36. Sense8 (2015–2018)',\n",
       " '37. Gotham (2014–2019)',\n",
       " '38. Westworld (2016– )',\n",
       " '39. Jessica Jones (2015–2019)',\n",
       " '40. Modern Family (2009–2020)',\n",
       " '41. Rick and Morty (2013– )',\n",
       " '42. Shadowhunters (2016–2019)',\n",
       " '43. The End of the F***ing World (2017–2019)',\n",
       " '44. House of Cards (2013–2018)',\n",
       " '45. Dark (2017–2020)',\n",
       " '46. Elite (2018– )',\n",
       " '47. Sex Education (2019– )',\n",
       " '48. Shameless (2011–2021)',\n",
       " '49. New Girl (2011–2018)',\n",
       " '50. Agents of S.H.I.E.L.D. (2013–2020)',\n",
       " '51. You (2018– )',\n",
       " '52. Dexter (2006–2013)',\n",
       " '53. Fear the Walking Dead (2015– )',\n",
       " '54. Family Guy (1999– )',\n",
       " '55. The Blacklist (2013– )',\n",
       " '56. Lost (2004–2010)',\n",
       " '57. Peaky Blinders (2013–2022)',\n",
       " '58. House (2004–2012)',\n",
       " '59. Quantico (2015–2018)',\n",
       " '60. Orphan Black (2013–2017)',\n",
       " '61. Homeland (2011–2020)',\n",
       " '62. Blindspot (2015–2020)',\n",
       " \"63. DC's Legends of Tomorrow (2016–2022)\",\n",
       " \"64. The Handmaid's Tale (2017– )\",\n",
       " '65. Chilling Adventures of Sabrina (2018–2020)',\n",
       " '66. The Good Doctor (2017– )',\n",
       " '67. Jane the Virgin (2014–2019)',\n",
       " '68. Glee (2009–2015)',\n",
       " '69. South Park (1997– )',\n",
       " '70. Brooklyn Nine-Nine (2013–2021)',\n",
       " '71. Under the Dome (2013–2015)',\n",
       " '72. The Umbrella Academy (2019– )',\n",
       " '73. True Detective (2014–2019)',\n",
       " '74. The OA (2016–2019)',\n",
       " '75. Desperate Housewives (2004–2012)',\n",
       " '76. Better Call Saul (2015–2022)',\n",
       " '77. Bates Motel (2013–2017)',\n",
       " '78. The Punisher (2017–2019)',\n",
       " '79. Atypical (2017–2021)',\n",
       " '80. Dynasty (2017– )',\n",
       " '81. This Is Us (2016–2022)',\n",
       " '82. The Good Place (2016–2020)',\n",
       " '83. Iron Fist (2017–2018)',\n",
       " '84. The Rain (2018–2020)',\n",
       " '85. Mindhunter (2017–2019)',\n",
       " '86. Revenge (2011–2015)',\n",
       " '87. Luke Cage (2016–2018)',\n",
       " '88. Scandal (2012–2018)',\n",
       " '89. The Defenders (2017)',\n",
       " '90. Big Little Lies (2017–2019)',\n",
       " '91. Insatiable (2018–2019)',\n",
       " '92. The Mentalist (2008–2015)',\n",
       " '93. The Crown (2016– )',\n",
       " '94. Chernobyl (2019)',\n",
       " '95. iZombie (2015–2019)',\n",
       " '96. Reign (2013–2017)',\n",
       " '97. A Series of Unfortunate Events (2017–2019)',\n",
       " '98. Criminal Minds (2005–2020)',\n",
       " '99. Scream: The TV Series (2015–2019)',\n",
       " '100. The Haunting of Hill House (2018)']"
      ]
     },
     "execution_count": 55,
     "metadata": {},
     "output_type": "execute_result"
    }
   ],
   "source": [
    "name=[]\n",
    "for i in video_name:\n",
    "    name.append(i.text)\n",
    "\n",
    "len(name)\n",
    "name"
   ]
  },
  {
   "cell_type": "code",
   "execution_count": 64,
   "id": "4a6b7ba2",
   "metadata": {},
   "outputs": [
    {
     "data": {
      "text/plain": [
       "'Game of Thrones'"
      ]
     },
     "execution_count": 64,
     "metadata": {},
     "output_type": "execute_result"
    }
   ],
   "source": [
    "name[0].split('.')[1].split('(')[0].strip()\n"
   ]
  },
  {
   "cell_type": "code",
   "execution_count": 70,
   "id": "b23c7a41",
   "metadata": {},
   "outputs": [
    {
     "data": {
      "text/plain": [
       "[<selenium.webdriver.remote.webelement.WebElement (session=\"239bb350dd80cd6a37d6fa4835537376\", element=\"4fc0bd63-da25-40d8-a09d-405128445e75\")>]"
      ]
     },
     "execution_count": 70,
     "metadata": {},
     "output_type": "execute_result"
    }
   ],
   "source": [
    "# Extracting Year Span\n",
    "Year_span=driver.find_elements_by_xpath('/html/body/div[3]/div/div[2]/div[3]/div[1]/div/div[3]/div[3]/div[1]/div[2]/h3/span[2]')\n",
    "len(Year_span)\n",
    "Year_span[0:2]"
   ]
  },
  {
   "cell_type": "code",
   "execution_count": 71,
   "id": "d21e4039",
   "metadata": {},
   "outputs": [
    {
     "data": {
      "text/plain": [
       "['(2011–2019)']"
      ]
     },
     "execution_count": 71,
     "metadata": {},
     "output_type": "execute_result"
    }
   ],
   "source": [
    "Year=[]\n",
    "for i in Year_span:\n",
    "    Year.append(i.text)\n",
    "len(Year)\n",
    "Year"
   ]
  },
  {
   "cell_type": "code",
   "execution_count": 15,
   "id": "59c581da",
   "metadata": {},
   "outputs": [
    {
     "data": {
      "text/plain": [
       "[<selenium.webdriver.remote.webelement.WebElement (session=\"dd6b75f7aa8eea37b34dd3d8b8fb67a6\", element=\"37a40ef2-0422-43c8-9337-9317a96da3fc\")>,\n",
       " <selenium.webdriver.remote.webelement.WebElement (session=\"dd6b75f7aa8eea37b34dd3d8b8fb67a6\", element=\"8357bc92-2d0f-4d13-9669-e20e367d7180\")>]"
      ]
     },
     "execution_count": 15,
     "metadata": {},
     "output_type": "execute_result"
    }
   ],
   "source": [
    "# Extracting Genre\n",
    "Genre=driver.find_elements_by_xpath('//span[@class=\"certificate\"]')\n",
    "len(Genre)\n",
    "Genre[0:2]"
   ]
  },
  {
   "cell_type": "code",
   "execution_count": 14,
   "id": "e85471ed",
   "metadata": {},
   "outputs": [
    {
     "data": {
      "text/plain": [
       "['TV-MA', 'TV-14']"
      ]
     },
     "execution_count": 14,
     "metadata": {},
     "output_type": "execute_result"
    }
   ],
   "source": [
    "Gen=[]\n",
    "for i in Genre:\n",
    "    Gen.append(i.text)\n",
    "len(Gen)\n",
    "Gen[0:2]"
   ]
  },
  {
   "cell_type": "code",
   "execution_count": 16,
   "id": "e0d8927a",
   "metadata": {},
   "outputs": [
    {
     "data": {
      "text/plain": [
       "[<selenium.webdriver.remote.webelement.WebElement (session=\"dd6b75f7aa8eea37b34dd3d8b8fb67a6\", element=\"a71b2715-b180-471e-9470-5d049860e27d\")>,\n",
       " <selenium.webdriver.remote.webelement.WebElement (session=\"dd6b75f7aa8eea37b34dd3d8b8fb67a6\", element=\"a7b3a581-031d-471b-bc6c-12d2605d1b4a\")>]"
      ]
     },
     "execution_count": 16,
     "metadata": {},
     "output_type": "execute_result"
    }
   ],
   "source": [
    "# Extracting Run Time\n",
    "Time=driver.find_elements_by_xpath('//span[@class=\"runtime\"]')\n",
    "len(Time)\n",
    "Time[0:2]"
   ]
  },
  {
   "cell_type": "code",
   "execution_count": 20,
   "id": "ce9d2eb2",
   "metadata": {},
   "outputs": [
    {
     "data": {
      "text/plain": [
       "['57 min', '51 min']"
      ]
     },
     "execution_count": 20,
     "metadata": {},
     "output_type": "execute_result"
    }
   ],
   "source": [
    "Run_time=[]\n",
    "for i in Time:\n",
    "    Run_time.append(i.text)\n",
    "len(Run_time)\n",
    "Run_time[0:2]"
   ]
  },
  {
   "cell_type": "code",
   "execution_count": 28,
   "id": "50513047",
   "metadata": {},
   "outputs": [
    {
     "data": {
      "text/plain": [
       "[<selenium.webdriver.remote.webelement.WebElement (session=\"dd6b75f7aa8eea37b34dd3d8b8fb67a6\", element=\"06e03ff0-0abc-404f-8c40-f112beb327de\")>,\n",
       " <selenium.webdriver.remote.webelement.WebElement (session=\"dd6b75f7aa8eea37b34dd3d8b8fb67a6\", element=\"1747c6cc-a473-4b76-b4ea-8608d7fc38da\")>]"
      ]
     },
     "execution_count": 28,
     "metadata": {},
     "output_type": "execute_result"
    }
   ],
   "source": [
    "# Extracting Run Ratings\n",
    "Rate=driver.find_elements_by_xpath('//span[@class=\"ipl-rating-star__rating\"]')\n",
    "len(Rate)\n",
    "Rate[0:2]"
   ]
  },
  {
   "cell_type": "code",
   "execution_count": 29,
   "id": "2877bd16",
   "metadata": {},
   "outputs": [
    {
     "data": {
      "text/plain": [
       "['9.2', '']"
      ]
     },
     "execution_count": 29,
     "metadata": {},
     "output_type": "execute_result"
    }
   ],
   "source": [
    "Rating=[]\n",
    "for i in Rate:\n",
    "    Rating.append(i.text)\n",
    "len(Rating)\n",
    "Rating[0:2]"
   ]
  },
  {
   "cell_type": "code",
   "execution_count": 32,
   "id": "5ad21f59",
   "metadata": {},
   "outputs": [
    {
     "data": {
      "text/plain": [
       "[<selenium.webdriver.remote.webelement.WebElement (session=\"dd6b75f7aa8eea37b34dd3d8b8fb67a6\", element=\"cd4ddff8-0273-4610-86a0-0143bf9172bd\")>,\n",
       " <selenium.webdriver.remote.webelement.WebElement (session=\"dd6b75f7aa8eea37b34dd3d8b8fb67a6\", element=\"4e6d1b53-f649-437c-a14c-23f1509409b1\")>]"
      ]
     },
     "execution_count": 32,
     "metadata": {},
     "output_type": "execute_result"
    }
   ],
   "source": [
    "# Extracting Votes\n",
    "Vote=driver.find_elements_by_xpath('//span[@name=\"nv\"]')\n",
    "len(Vote)\n",
    "Vote[0:2]"
   ]
  },
  {
   "cell_type": "code",
   "execution_count": 33,
   "id": "6ded7590",
   "metadata": {},
   "outputs": [
    {
     "data": {
      "text/plain": [
       "['1,980,565', '986,291']"
      ]
     },
     "execution_count": 33,
     "metadata": {},
     "output_type": "execute_result"
    }
   ],
   "source": [
    "Votes=[]\n",
    "for i in Vote:\n",
    "    Votes.append(i.text)\n",
    "len(Votes)\n",
    "Votes[0:2]"
   ]
  },
  {
   "cell_type": "code",
   "execution_count": 72,
   "id": "7d1374c8",
   "metadata": {},
   "outputs": [
    {
     "data": {
      "text/plain": [
       "(100, 1, 100, 100, 2300, 100)"
      ]
     },
     "execution_count": 72,
     "metadata": {},
     "output_type": "execute_result"
    }
   ],
   "source": [
    "len(video_name),len(Year_span),len(Genre),len(Time),len(Rate),len(Vote)"
   ]
  },
  {
   "cell_type": "code",
   "execution_count": 78,
   "id": "0083d420",
   "metadata": {},
   "outputs": [
    {
     "data": {
      "text/html": [
       "<div>\n",
       "<style scoped>\n",
       "    .dataframe tbody tr th:only-of-type {\n",
       "        vertical-align: middle;\n",
       "    }\n",
       "\n",
       "    .dataframe tbody tr th {\n",
       "        vertical-align: top;\n",
       "    }\n",
       "\n",
       "    .dataframe thead th {\n",
       "        text-align: right;\n",
       "    }\n",
       "</style>\n",
       "<table border=\"1\" class=\"dataframe\">\n",
       "  <thead>\n",
       "    <tr style=\"text-align: right;\">\n",
       "      <th></th>\n",
       "      <th>video_name</th>\n",
       "      <th>Genre</th>\n",
       "      <th>Time</th>\n",
       "      <th>Rate</th>\n",
       "      <th>Vote</th>\n",
       "    </tr>\n",
       "  </thead>\n",
       "  <tbody>\n",
       "    <tr>\n",
       "      <th>0</th>\n",
       "      <td>1. Game of Thrones (2011–2019)</td>\n",
       "      <td>TV-MA</td>\n",
       "      <td>57 min</td>\n",
       "      <td>9.2</td>\n",
       "      <td>1,980,565</td>\n",
       "    </tr>\n",
       "    <tr>\n",
       "      <th>1</th>\n",
       "      <td>2. Stranger Things (2016– )</td>\n",
       "      <td>TV-14</td>\n",
       "      <td>51 min</td>\n",
       "      <td></td>\n",
       "      <td>986,291</td>\n",
       "    </tr>\n",
       "    <tr>\n",
       "      <th>2</th>\n",
       "      <td>3. The Walking Dead (2010–2022)</td>\n",
       "      <td>TV-MA</td>\n",
       "      <td>44 min</td>\n",
       "      <td>Rate</td>\n",
       "      <td>943,912</td>\n",
       "    </tr>\n",
       "    <tr>\n",
       "      <th>3</th>\n",
       "      <td>4. 13 Reasons Why (2017–2020)</td>\n",
       "      <td>TV-MA</td>\n",
       "      <td>60 min</td>\n",
       "      <td></td>\n",
       "      <td>281,993</td>\n",
       "    </tr>\n",
       "    <tr>\n",
       "      <th>4</th>\n",
       "      <td>5. The 100 (2014–2020)</td>\n",
       "      <td>TV-14</td>\n",
       "      <td>43 min</td>\n",
       "      <td></td>\n",
       "      <td>241,899</td>\n",
       "    </tr>\n",
       "    <tr>\n",
       "      <th>5</th>\n",
       "      <td>6. Orange Is the New Black (2013–2019)</td>\n",
       "      <td>TV-MA</td>\n",
       "      <td>59 min</td>\n",
       "      <td></td>\n",
       "      <td>295,329</td>\n",
       "    </tr>\n",
       "    <tr>\n",
       "      <th>6</th>\n",
       "      <td>7. Riverdale (2017– )</td>\n",
       "      <td>TV-14</td>\n",
       "      <td>45 min</td>\n",
       "      <td></td>\n",
       "      <td>138,933</td>\n",
       "    </tr>\n",
       "    <tr>\n",
       "      <th>7</th>\n",
       "      <td>8. Grey's Anatomy (2005– )</td>\n",
       "      <td>TV-14</td>\n",
       "      <td>41 min</td>\n",
       "      <td></td>\n",
       "      <td>293,019</td>\n",
       "    </tr>\n",
       "    <tr>\n",
       "      <th>8</th>\n",
       "      <td>9. The Flash (2014– )</td>\n",
       "      <td>TV-PG</td>\n",
       "      <td>43 min</td>\n",
       "      <td></td>\n",
       "      <td>336,458</td>\n",
       "    </tr>\n",
       "    <tr>\n",
       "      <th>9</th>\n",
       "      <td>10. Arrow (2012–2020)</td>\n",
       "      <td>TV-14</td>\n",
       "      <td>42 min</td>\n",
       "      <td></td>\n",
       "      <td>425,508</td>\n",
       "    </tr>\n",
       "  </tbody>\n",
       "</table>\n",
       "</div>"
      ],
      "text/plain": [
       "                               video_name  Genre    Time  Rate       Vote\n",
       "0          1. Game of Thrones (2011–2019)  TV-MA  57 min   9.2  1,980,565\n",
       "1             2. Stranger Things (2016– )  TV-14  51 min          986,291\n",
       "2         3. The Walking Dead (2010–2022)  TV-MA  44 min  Rate    943,912\n",
       "3           4. 13 Reasons Why (2017–2020)  TV-MA  60 min          281,993\n",
       "4                  5. The 100 (2014–2020)  TV-14  43 min          241,899\n",
       "5  6. Orange Is the New Black (2013–2019)  TV-MA  59 min          295,329\n",
       "6                   7. Riverdale (2017– )  TV-14  45 min          138,933\n",
       "7              8. Grey's Anatomy (2005– )  TV-14  41 min          293,019\n",
       "8                   9. The Flash (2014– )  TV-PG  43 min          336,458\n",
       "9                   10. Arrow (2012–2020)  TV-14  42 min          425,508"
      ]
     },
     "execution_count": 78,
     "metadata": {},
     "output_type": "execute_result"
    }
   ],
   "source": [
    "TV_Series=pd.DataFrame()\n",
    "TV_Series[\"video_name\"]=name[:10]\n",
    "TV_Series[\"Genre\"]=Gen[:10]\n",
    "TV_Series[\"Time\"]=Run_time[:10]\n",
    "TV_Series[\"Rate\"]=Rating[:10]\n",
    "TV_Series[\"Vote\"]=Votes[:10]\n",
    "TV_Series"
   ]
  }
 ],
 "metadata": {
  "kernelspec": {
   "display_name": "Python 3",
   "language": "python",
   "name": "python3"
  },
  "language_info": {
   "codemirror_mode": {
    "name": "ipython",
    "version": 3
   },
   "file_extension": ".py",
   "mimetype": "text/x-python",
   "name": "python",
   "nbconvert_exporter": "python",
   "pygments_lexer": "ipython3",
   "version": "3.8.8"
  }
 },
 "nbformat": 4,
 "nbformat_minor": 5
}
