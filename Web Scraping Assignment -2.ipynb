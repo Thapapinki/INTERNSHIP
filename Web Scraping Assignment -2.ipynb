{
 "cells": [
  {
   "cell_type": "code",
   "execution_count": 135,
   "id": "2d818c9f",
   "metadata": {},
   "outputs": [
    {
     "name": "stdout",
     "output_type": "stream",
     "text": [
      "Requirement already satisfied: selenium in c:\\users\\pinki\\anaconda3\\lib\\site-packages (4.1.3)\n",
      "Requirement already satisfied: trio~=0.17 in c:\\users\\pinki\\anaconda3\\lib\\site-packages (from selenium) (0.20.0)\n",
      "Requirement already satisfied: urllib3[secure,socks]~=1.26 in c:\\users\\pinki\\anaconda3\\lib\\site-packages (from selenium) (1.26.4)\n",
      "Requirement already satisfied: trio-websocket~=0.9 in c:\\users\\pinki\\anaconda3\\lib\\site-packages (from selenium) (0.9.2)\n",
      "Requirement already satisfied: sniffio in c:\\users\\pinki\\anaconda3\\lib\\site-packages (from trio~=0.17->selenium) (1.2.0)\n",
      "Requirement already satisfied: async-generator>=1.9 in c:\\users\\pinki\\anaconda3\\lib\\site-packages (from trio~=0.17->selenium) (1.10)\n",
      "Requirement already satisfied: idna in c:\\users\\pinki\\anaconda3\\lib\\site-packages (from trio~=0.17->selenium) (2.10)\n",
      "Requirement already satisfied: cffi>=1.14 in c:\\users\\pinki\\anaconda3\\lib\\site-packages (from trio~=0.17->selenium) (1.14.5)\n",
      "Requirement already satisfied: sortedcontainers in c:\\users\\pinki\\anaconda3\\lib\\site-packages (from trio~=0.17->selenium) (2.3.0)\n",
      "Requirement already satisfied: outcome in c:\\users\\pinki\\anaconda3\\lib\\site-packages (from trio~=0.17->selenium) (1.1.0)\n",
      "Requirement already satisfied: attrs>=19.2.0 in c:\\users\\pinki\\anaconda3\\lib\\site-packages (from trio~=0.17->selenium) (20.3.0)\n",
      "Requirement already satisfied: pycparser in c:\\users\\pinki\\anaconda3\\lib\\site-packages (from cffi>=1.14->trio~=0.17->selenium) (2.20)\n",
      "Requirement already satisfied: wsproto>=0.14 in c:\\users\\pinki\\anaconda3\\lib\\site-packages (from trio-websocket~=0.9->selenium) (1.1.0)\n",
      "Requirement already satisfied: PySocks!=1.5.7,<2.0,>=1.5.6 in c:\\users\\pinki\\anaconda3\\lib\\site-packages (from urllib3[secure,socks]~=1.26->selenium) (1.7.1)\n",
      "Requirement already satisfied: cryptography>=1.3.4 in c:\\users\\pinki\\anaconda3\\lib\\site-packages (from urllib3[secure,socks]~=1.26->selenium) (3.4.7)\n",
      "Requirement already satisfied: certifi in c:\\users\\pinki\\anaconda3\\lib\\site-packages (from urllib3[secure,socks]~=1.26->selenium) (2020.12.5)\n",
      "Requirement already satisfied: pyOpenSSL>=0.14 in c:\\users\\pinki\\anaconda3\\lib\\site-packages (from urllib3[secure,socks]~=1.26->selenium) (20.0.1)\n",
      "Requirement already satisfied: six>=1.5.2 in c:\\users\\pinki\\anaconda3\\lib\\site-packages (from pyOpenSSL>=0.14->urllib3[secure,socks]~=1.26->selenium) (1.15.0)\n",
      "Requirement already satisfied: h11<1,>=0.9.0 in c:\\users\\pinki\\anaconda3\\lib\\site-packages (from wsproto>=0.14->trio-websocket~=0.9->selenium) (0.13.0)\n"
     ]
    }
   ],
   "source": [
    "!pip install selenium"
   ]
  },
  {
   "cell_type": "markdown",
   "id": "1711b055",
   "metadata": {},
   "source": [
    "**Q1: Write a python program to scrape data for “Data Analyst” Job position in “Bangalore” location. You have to scrape the job-title, job-location, company_name, experience_required. You have to scrape first 10 jobs data.**\n"
   ]
  },
  {
   "cell_type": "code",
   "execution_count": 5,
   "id": "ef9fb6be",
   "metadata": {},
   "outputs": [],
   "source": [
    "# lets imports all required libraries.\n",
    "import selenium\n",
    "from selenium import webdriver\n",
    "import pandas as pd\n",
    "import warnings\n",
    "warnings.filterwarnings (\"ignore\")"
   ]
  },
  {
   "cell_type": "code",
   "execution_count": 6,
   "id": "93b608c2",
   "metadata": {},
   "outputs": [],
   "source": [
    "# lets first connect to webdriver.\n",
    "driver=webdriver.Chrome(\"chromedriver.exe\")\n",
    "url=\"https://www.naukri.com/\"\n",
    "driver.get(url)"
   ]
  },
  {
   "cell_type": "code",
   "execution_count": 7,
   "id": "b2f13a1d",
   "metadata": {},
   "outputs": [
    {
     "data": {
      "text/plain": [
       "<selenium.webdriver.remote.webelement.WebElement (session=\"72302539dea010d631d0be1ff5189a40\", element=\"381e0591-2637-4d66-b77c-42174c45743d\")>"
      ]
     },
     "execution_count": 7,
     "metadata": {},
     "output_type": "execute_result"
    }
   ],
   "source": [
    "# Finding web element for search jobbar using id\n",
    "search_job=driver.find_element_by_class_name(\"suggestor-input\")\n",
    "search_job\n",
    "    "
   ]
  },
  {
   "cell_type": "code",
   "execution_count": 116,
   "id": "01ee1819",
   "metadata": {},
   "outputs": [],
   "source": [
    "search_job.send_keys(\"Data Analyst\")"
   ]
  },
  {
   "cell_type": "code",
   "execution_count": 26,
   "id": "e8235998",
   "metadata": {},
   "outputs": [
    {
     "data": {
      "text/plain": [
       "<selenium.webdriver.remote.webelement.WebElement (session=\"d4077d6b29499576048551135e406b7f\", element=\"d0e44bfc-c52d-4f36-81bf-b6679cfb04be\")>"
      ]
     },
     "execution_count": 26,
     "metadata": {},
     "output_type": "execute_result"
    }
   ],
   "source": [
    "# finding web element for search locn bar using absolute x path.\n",
    "search_locn = driver.find_element_by_xpath(\"/html/body/div/div[2]/div[3]/div/div/div[3]/div/div/div/input\")\n",
    "search_locn"
   ]
  },
  {
   "cell_type": "code",
   "execution_count": 27,
   "id": "d090b90c",
   "metadata": {},
   "outputs": [],
   "source": [
    "search_job.send_keys(\"Bangalore\")"
   ]
  },
  {
   "cell_type": "code",
   "execution_count": 30,
   "id": "2feda18f",
   "metadata": {},
   "outputs": [
    {
     "data": {
      "text/plain": [
       "[<selenium.webdriver.remote.webelement.WebElement (session=\"d4077d6b29499576048551135e406b7f\", element=\"13ea0064-4e44-408c-ab0b-fc195056c81f\")>,\n",
       " <selenium.webdriver.remote.webelement.WebElement (session=\"d4077d6b29499576048551135e406b7f\", element=\"9ef158ed-7d94-49ef-981e-aab8a7b45d19\")>]"
      ]
     },
     "execution_count": 30,
     "metadata": {},
     "output_type": "execute_result"
    }
   ],
   "source": [
    "# Extracting job titles\n",
    "title_tags=driver.find_elements_by_xpath('//a[@class=\"title fw500 ellipsis\"]')\n",
    "len(title_tags)\n",
    "title_tags[0:2]"
   ]
  },
  {
   "cell_type": "code",
   "execution_count": 31,
   "id": "db6b690b",
   "metadata": {},
   "outputs": [
    {
     "data": {
      "text/plain": [
       "['Hiring For Data Analyst I(SQL & Python)', 'Senior Data Analyst II']"
      ]
     },
     "execution_count": 31,
     "metadata": {},
     "output_type": "execute_result"
    }
   ],
   "source": [
    "job_titles=[]\n",
    "for i in title_tags:\n",
    "    job_titles.append(i.text)\n",
    "len(job_titles)\n",
    "job_titles[0:2]"
   ]
  },
  {
   "cell_type": "code",
   "execution_count": 33,
   "id": "e51cf34d",
   "metadata": {},
   "outputs": [
    {
     "data": {
      "text/plain": [
       "[<selenium.webdriver.remote.webelement.WebElement (session=\"d4077d6b29499576048551135e406b7f\", element=\"4b46aa29-cef6-46e1-b210-8664da7636dc\")>,\n",
       " <selenium.webdriver.remote.webelement.WebElement (session=\"d4077d6b29499576048551135e406b7f\", element=\"398ae8d1-ea1c-4852-8ecf-1eadef641f5b\")>]"
      ]
     },
     "execution_count": 33,
     "metadata": {},
     "output_type": "execute_result"
    }
   ],
   "source": [
    "# Extracting company names\n",
    "company_tags=driver.find_elements_by_xpath('//a[@class=\"subTitle ellipsis fleft\"]')\n",
    "company_tags[0:2]"
   ]
  },
  {
   "cell_type": "code",
   "execution_count": 34,
   "id": "6d1546d1",
   "metadata": {},
   "outputs": [
    {
     "data": {
      "text/plain": [
       "['Clario India Pvt Ltd', 'Flipkart']"
      ]
     },
     "execution_count": 34,
     "metadata": {},
     "output_type": "execute_result"
    }
   ],
   "source": [
    "company_names=[]\n",
    "for i in company_tags:\n",
    "    company_names.append(i.text)\n",
    "company_names[0:2]"
   ]
  },
  {
   "cell_type": "code",
   "execution_count": 36,
   "id": "36ff7c98",
   "metadata": {},
   "outputs": [
    {
     "data": {
      "text/plain": [
       "19"
      ]
     },
     "execution_count": 36,
     "metadata": {},
     "output_type": "execute_result"
    }
   ],
   "source": [
    "# Extracting experience\n",
    "exp_tags=driver.find_elements_by_xpath('//li[@class=\"fleft grey-text br2 placeHolderLi experience\"]')\n",
    "len(exp_tags)"
   ]
  },
  {
   "cell_type": "code",
   "execution_count": 37,
   "id": "0fd74a3c",
   "metadata": {},
   "outputs": [
    {
     "data": {
      "text/plain": [
       "['0-2 Yrs', '3-6 Yrs']"
      ]
     },
     "execution_count": 37,
     "metadata": {},
     "output_type": "execute_result"
    }
   ],
   "source": [
    "experience=[]\n",
    "for i in exp_tags:\n",
    "    experience.append(i.text)\n",
    "experience[0:2]"
   ]
  },
  {
   "cell_type": "code",
   "execution_count": 38,
   "id": "b27cbad1",
   "metadata": {},
   "outputs": [
    {
     "data": {
      "text/plain": [
       "20"
      ]
     },
     "execution_count": 38,
     "metadata": {},
     "output_type": "execute_result"
    }
   ],
   "source": [
    "# Extracting location\n",
    "locn_tags=driver.find_elements_by_xpath('//li[@class=\"fleft grey-text br2 placeHolderLi location\"]')\n",
    "len(locn_tags)"
   ]
  },
  {
   "cell_type": "code",
   "execution_count": 39,
   "id": "6550c6f1",
   "metadata": {},
   "outputs": [
    {
     "data": {
      "text/plain": [
       "['Bangalore/Bengaluru', 'Bangalore/Bengaluru']"
      ]
     },
     "execution_count": 39,
     "metadata": {},
     "output_type": "execute_result"
    }
   ],
   "source": [
    "location=[]\n",
    "for i in locn_tags:\n",
    "    location.append(i.text)\n",
    "location[0:2]"
   ]
  },
  {
   "cell_type": "code",
   "execution_count": 40,
   "id": "4d6ed869",
   "metadata": {},
   "outputs": [
    {
     "data": {
      "text/plain": [
       "(20, 20, 19, 20)"
      ]
     },
     "execution_count": 40,
     "metadata": {},
     "output_type": "execute_result"
    }
   ],
   "source": [
    "len(job_titles),len(company_names),len(experience),len(location)"
   ]
  },
  {
   "cell_type": "code",
   "execution_count": 42,
   "id": "d2c31af0",
   "metadata": {},
   "outputs": [
    {
     "data": {
      "text/html": [
       "<div>\n",
       "<style scoped>\n",
       "    .dataframe tbody tr th:only-of-type {\n",
       "        vertical-align: middle;\n",
       "    }\n",
       "\n",
       "    .dataframe tbody tr th {\n",
       "        vertical-align: top;\n",
       "    }\n",
       "\n",
       "    .dataframe thead th {\n",
       "        text-align: right;\n",
       "    }\n",
       "</style>\n",
       "<table border=\"1\" class=\"dataframe\">\n",
       "  <thead>\n",
       "    <tr style=\"text-align: right;\">\n",
       "      <th></th>\n",
       "      <th>Job Title</th>\n",
       "      <th>Company</th>\n",
       "      <th>Experience</th>\n",
       "      <th>location</th>\n",
       "    </tr>\n",
       "  </thead>\n",
       "  <tbody>\n",
       "    <tr>\n",
       "      <th>0</th>\n",
       "      <td>Hiring For Data Analyst I(SQL &amp; Python)</td>\n",
       "      <td>Clario India Pvt Ltd</td>\n",
       "      <td>0-2 Yrs</td>\n",
       "      <td>Bangalore/Bengaluru</td>\n",
       "    </tr>\n",
       "    <tr>\n",
       "      <th>1</th>\n",
       "      <td>Senior Data Analyst II</td>\n",
       "      <td>Flipkart</td>\n",
       "      <td>3-6 Yrs</td>\n",
       "      <td>Bangalore/Bengaluru</td>\n",
       "    </tr>\n",
       "    <tr>\n",
       "      <th>2</th>\n",
       "      <td>Senior Data Analyst</td>\n",
       "      <td>Flipkart</td>\n",
       "      <td>3-8 Yrs</td>\n",
       "      <td>Bangalore/Bengaluru</td>\n",
       "    </tr>\n",
       "    <tr>\n",
       "      <th>3</th>\n",
       "      <td>Senior Data Analyst II</td>\n",
       "      <td>Flipkart</td>\n",
       "      <td>2-4 Yrs</td>\n",
       "      <td>Bangalore/Bengaluru</td>\n",
       "    </tr>\n",
       "    <tr>\n",
       "      <th>4</th>\n",
       "      <td>Senior Data Analyst II</td>\n",
       "      <td>Flipkart</td>\n",
       "      <td>2-4 Yrs</td>\n",
       "      <td>Bangalore/Bengaluru</td>\n",
       "    </tr>\n",
       "    <tr>\n",
       "      <th>5</th>\n",
       "      <td>Senior Data Analyst - Ads &amp; Promotion Platform...</td>\n",
       "      <td>Gojek</td>\n",
       "      <td>3-8 Yrs</td>\n",
       "      <td>Bangalore/Bengaluru</td>\n",
       "    </tr>\n",
       "    <tr>\n",
       "      <th>6</th>\n",
       "      <td>Hiring Data analyst with Pharma Background acr...</td>\n",
       "      <td>HCL</td>\n",
       "      <td>6-11 Yrs</td>\n",
       "      <td>Hyderabad/Secunderabad, Chennai, Bangalore/Ben...</td>\n",
       "    </tr>\n",
       "    <tr>\n",
       "      <th>7</th>\n",
       "      <td>Data Coordinator | Data Analyst | MS Excel | T...</td>\n",
       "      <td>Inspiration Manpower Consultancy Pvt. Ltd.</td>\n",
       "      <td>4-7 Yrs</td>\n",
       "      <td>Bangalore/Bengaluru(Sadashiva Nagar)</td>\n",
       "    </tr>\n",
       "    <tr>\n",
       "      <th>8</th>\n",
       "      <td>Lead Data Analyst - Flipkart Data science group</td>\n",
       "      <td>Flipkart</td>\n",
       "      <td>1-3 Yrs</td>\n",
       "      <td>Bangalore/Bengaluru</td>\n",
       "    </tr>\n",
       "    <tr>\n",
       "      <th>9</th>\n",
       "      <td>Data Analyst</td>\n",
       "      <td>Flipkart</td>\n",
       "      <td>1-2 Yrs</td>\n",
       "      <td>Bangalore/Bengaluru</td>\n",
       "    </tr>\n",
       "  </tbody>\n",
       "</table>\n",
       "</div>"
      ],
      "text/plain": [
       "                                           Job Title  \\\n",
       "0            Hiring For Data Analyst I(SQL & Python)   \n",
       "1                             Senior Data Analyst II   \n",
       "2                                Senior Data Analyst   \n",
       "3                             Senior Data Analyst II   \n",
       "4                             Senior Data Analyst II   \n",
       "5  Senior Data Analyst - Ads & Promotion Platform...   \n",
       "6  Hiring Data analyst with Pharma Background acr...   \n",
       "7  Data Coordinator | Data Analyst | MS Excel | T...   \n",
       "8    Lead Data Analyst - Flipkart Data science group   \n",
       "9                                       Data Analyst   \n",
       "\n",
       "                                      Company Experience  \\\n",
       "0                        Clario India Pvt Ltd    0-2 Yrs   \n",
       "1                                    Flipkart    3-6 Yrs   \n",
       "2                                    Flipkart    3-8 Yrs   \n",
       "3                                    Flipkart    2-4 Yrs   \n",
       "4                                    Flipkart    2-4 Yrs   \n",
       "5                                       Gojek    3-8 Yrs   \n",
       "6                                         HCL   6-11 Yrs   \n",
       "7  Inspiration Manpower Consultancy Pvt. Ltd.    4-7 Yrs   \n",
       "8                                    Flipkart    1-3 Yrs   \n",
       "9                                    Flipkart    1-2 Yrs   \n",
       "\n",
       "                                            location  \n",
       "0                                Bangalore/Bengaluru  \n",
       "1                                Bangalore/Bengaluru  \n",
       "2                                Bangalore/Bengaluru  \n",
       "3                                Bangalore/Bengaluru  \n",
       "4                                Bangalore/Bengaluru  \n",
       "5                                Bangalore/Bengaluru  \n",
       "6  Hyderabad/Secunderabad, Chennai, Bangalore/Ben...  \n",
       "7               Bangalore/Bengaluru(Sadashiva Nagar)  \n",
       "8                                Bangalore/Bengaluru  \n",
       "9                                Bangalore/Bengaluru  "
      ]
     },
     "execution_count": 42,
     "metadata": {},
     "output_type": "execute_result"
    }
   ],
   "source": [
    "jobs=pd.DataFrame()\n",
    "jobs[\"Job Title\"]=job_titles[:10]\n",
    "jobs[\"Company\"]=company_names[:10]\n",
    "jobs[\"Experience\"]=experience[:10]\n",
    "jobs[\"location\"]=location[:10]\n",
    "jobs"
   ]
  },
  {
   "cell_type": "markdown",
   "id": "f15948e2",
   "metadata": {},
   "source": [
    "**Q2: Write a python program to scrape data for “Data Scientist” Job position in “Bangalore” location. You have to scrape the job-title, job-location, company_name. You have to scrape first 10 jobs data.**\n"
   ]
  },
  {
   "cell_type": "code",
   "execution_count": 2,
   "id": "892c3aa2",
   "metadata": {},
   "outputs": [],
   "source": [
    "# lets imports all required libraries.\n",
    "import selenium\n",
    "from selenium import webdriver\n",
    "import pandas as pd\n",
    "import warnings\n",
    "warnings.filterwarnings (\"ignore\")"
   ]
  },
  {
   "cell_type": "code",
   "execution_count": 36,
   "id": "f4c38bf4",
   "metadata": {},
   "outputs": [],
   "source": [
    "# lets first connect to webdriver.\n",
    "driver=webdriver.Chrome(\"chromedriver.exe\")\n",
    "url=\"https://www.naukri.com/\"\n",
    "driver.get(url)"
   ]
  },
  {
   "cell_type": "code",
   "execution_count": 37,
   "id": "4c486fab",
   "metadata": {},
   "outputs": [],
   "source": [
    "# Finding web element for search jobbar using id\n",
    "search_job=driver.find_element_by_class_name(\"suggestor-input\")\n",
    "search_job\n",
    "search_loc=driver.find_element_by_xpath(\"/html/body/div/div[2]/div[3]/div/div/div[3]/div/div/div/input\")"
   ]
  },
  {
   "cell_type": "code",
   "execution_count": 38,
   "id": "91a5974d",
   "metadata": {},
   "outputs": [],
   "source": [
    "search_job.send_keys(\"Data Scientist\")\n",
    "search_loc.send_keys(\"Bangalore\")\n"
   ]
  },
  {
   "cell_type": "code",
   "execution_count": 45,
   "id": "a565ccfe",
   "metadata": {},
   "outputs": [],
   "source": [
    "search_btn=driver.find_element_by_xpath('//div[@class=\"qsbSubmit\"]')"
   ]
  },
  {
   "cell_type": "code",
   "execution_count": 46,
   "id": "50ad9a98",
   "metadata": {},
   "outputs": [],
   "source": [
    "search_btn.click()"
   ]
  },
  {
   "cell_type": "code",
   "execution_count": 47,
   "id": "b830a219",
   "metadata": {},
   "outputs": [
    {
     "data": {
      "text/plain": [
       "[<selenium.webdriver.remote.webelement.WebElement (session=\"86d769d032a917b46011164257007b92\", element=\"f4f822ea-00ec-443b-abe5-32561eaf9982\")>,\n",
       " <selenium.webdriver.remote.webelement.WebElement (session=\"86d769d032a917b46011164257007b92\", element=\"4d0a999e-fad8-4493-bc5d-01ecf04e19c6\")>]"
      ]
     },
     "execution_count": 47,
     "metadata": {},
     "output_type": "execute_result"
    }
   ],
   "source": [
    "# Extracting job titles\n",
    "title_tags=driver.find_elements_by_xpath('//a[@class=\"title fw500 ellipsis\"]')\n",
    "len(title_tags)\n",
    "title_tags[0:2]"
   ]
  },
  {
   "cell_type": "code",
   "execution_count": 48,
   "id": "29cb23eb",
   "metadata": {},
   "outputs": [
    {
     "data": {
      "text/plain": [
       "['Sr Data Scientist', 'HCL Tech Opening - Lead Data Scientist']"
      ]
     },
     "execution_count": 48,
     "metadata": {},
     "output_type": "execute_result"
    }
   ],
   "source": [
    "job_titles=[]\n",
    "for i in title_tags:\n",
    "    job_titles.append(i.text)\n",
    "len(job_titles)\n",
    "job_titles[0:2]"
   ]
  },
  {
   "cell_type": "code",
   "execution_count": 49,
   "id": "01f6cf3f",
   "metadata": {},
   "outputs": [
    {
     "data": {
      "text/plain": [
       "20"
      ]
     },
     "execution_count": 49,
     "metadata": {},
     "output_type": "execute_result"
    }
   ],
   "source": [
    "# Extracting location\n",
    "locn_tags=driver.find_elements_by_xpath('//li[@class=\"fleft grey-text br2 placeHolderLi location\"]')\n",
    "len(locn_tags)"
   ]
  },
  {
   "cell_type": "code",
   "execution_count": 50,
   "id": "0da0267e",
   "metadata": {},
   "outputs": [
    {
     "data": {
      "text/plain": [
       "['Bangalore/Bengaluru',\n",
       " 'Kolkata, Hyderabad/Secunderabad, Pune, Chennai, Bangalore/Bengaluru, Delhi / NCR']"
      ]
     },
     "execution_count": 50,
     "metadata": {},
     "output_type": "execute_result"
    }
   ],
   "source": [
    "location=[]\n",
    "for i in locn_tags:\n",
    "    location.append(i.text)\n",
    "location[0:2]"
   ]
  },
  {
   "cell_type": "code",
   "execution_count": 51,
   "id": "7568efe5",
   "metadata": {},
   "outputs": [
    {
     "data": {
      "text/plain": [
       "[<selenium.webdriver.remote.webelement.WebElement (session=\"86d769d032a917b46011164257007b92\", element=\"5233d98c-fd9f-4e41-8976-0b30f94041d8\")>,\n",
       " <selenium.webdriver.remote.webelement.WebElement (session=\"86d769d032a917b46011164257007b92\", element=\"77ce1f7b-e4bd-4de2-a7c8-d76541c41827\")>]"
      ]
     },
     "execution_count": 51,
     "metadata": {},
     "output_type": "execute_result"
    }
   ],
   "source": [
    "# Extracting company names\n",
    "company_tags=driver.find_elements_by_xpath('//a[@class=\"subTitle ellipsis fleft\"]')\n",
    "company_tags[0:2]"
   ]
  },
  {
   "cell_type": "code",
   "execution_count": 52,
   "id": "c68e18be",
   "metadata": {},
   "outputs": [
    {
     "data": {
      "text/plain": [
       "['Uber', 'HCL']"
      ]
     },
     "execution_count": 52,
     "metadata": {},
     "output_type": "execute_result"
    }
   ],
   "source": [
    "company_names=[]\n",
    "for i in company_tags:\n",
    "    company_names.append(i.text)\n",
    "company_names[0:2]"
   ]
  },
  {
   "cell_type": "code",
   "execution_count": 53,
   "id": "df02d75d",
   "metadata": {},
   "outputs": [
    {
     "data": {
      "text/plain": [
       "(20, 20, 20)"
      ]
     },
     "execution_count": 53,
     "metadata": {},
     "output_type": "execute_result"
    }
   ],
   "source": [
    "len(job_titles),len(location),len(company_names)"
   ]
  },
  {
   "cell_type": "code",
   "execution_count": 54,
   "id": "58ccafe2",
   "metadata": {},
   "outputs": [
    {
     "data": {
      "text/html": [
       "<div>\n",
       "<style scoped>\n",
       "    .dataframe tbody tr th:only-of-type {\n",
       "        vertical-align: middle;\n",
       "    }\n",
       "\n",
       "    .dataframe tbody tr th {\n",
       "        vertical-align: top;\n",
       "    }\n",
       "\n",
       "    .dataframe thead th {\n",
       "        text-align: right;\n",
       "    }\n",
       "</style>\n",
       "<table border=\"1\" class=\"dataframe\">\n",
       "  <thead>\n",
       "    <tr style=\"text-align: right;\">\n",
       "      <th></th>\n",
       "      <th>Job Title</th>\n",
       "      <th>location</th>\n",
       "      <th>Company</th>\n",
       "    </tr>\n",
       "  </thead>\n",
       "  <tbody>\n",
       "    <tr>\n",
       "      <th>0</th>\n",
       "      <td>Sr Data Scientist</td>\n",
       "      <td>Bangalore/Bengaluru</td>\n",
       "      <td>Uber</td>\n",
       "    </tr>\n",
       "    <tr>\n",
       "      <th>1</th>\n",
       "      <td>HCL Tech Opening - Lead Data Scientist</td>\n",
       "      <td>Kolkata, Hyderabad/Secunderabad, Pune, Chennai...</td>\n",
       "      <td>HCL</td>\n",
       "    </tr>\n",
       "    <tr>\n",
       "      <th>2</th>\n",
       "      <td>Sr . Data Scientist</td>\n",
       "      <td>Bangalore/Bengaluru</td>\n",
       "      <td>Visa</td>\n",
       "    </tr>\n",
       "    <tr>\n",
       "      <th>3</th>\n",
       "      <td>Need Data scientists and data engineers - WFH-...</td>\n",
       "      <td>Hyderabad/Secunderabad, Bangalore/Bengaluru, M...</td>\n",
       "      <td>Covalense Technologies Private Limited</td>\n",
       "    </tr>\n",
       "    <tr>\n",
       "      <th>4</th>\n",
       "      <td>Principal Data Scientist</td>\n",
       "      <td>Bangalore/Bengaluru</td>\n",
       "      <td>Mobile Premier League</td>\n",
       "    </tr>\n",
       "    <tr>\n",
       "      <th>5</th>\n",
       "      <td>Hiring For Data scientist- ML/python @ Unitedh...</td>\n",
       "      <td>Bangalore/Bengaluru\\n(WFH during Covid)</td>\n",
       "      <td>Optum</td>\n",
       "    </tr>\n",
       "    <tr>\n",
       "      <th>6</th>\n",
       "      <td>Senior Data Scientist Payments</td>\n",
       "      <td>Bangalore/Bengaluru</td>\n",
       "      <td>AirSeva</td>\n",
       "    </tr>\n",
       "    <tr>\n",
       "      <th>7</th>\n",
       "      <td>Senior Data Scientist (R Programming)</td>\n",
       "      <td>Remote</td>\n",
       "      <td>Ignitho</td>\n",
       "    </tr>\n",
       "    <tr>\n",
       "      <th>8</th>\n",
       "      <td>Computer Vision Python Data Scientist</td>\n",
       "      <td>Mumbai, Hyderabad/Secunderabad, Pune, Chennai,...</td>\n",
       "      <td>OceanOfWeb</td>\n",
       "    </tr>\n",
       "    <tr>\n",
       "      <th>9</th>\n",
       "      <td>Data Scientist</td>\n",
       "      <td>Bangalore/Bengaluru</td>\n",
       "      <td>Minions Ventures</td>\n",
       "    </tr>\n",
       "  </tbody>\n",
       "</table>\n",
       "</div>"
      ],
      "text/plain": [
       "                                           Job Title  \\\n",
       "0                                  Sr Data Scientist   \n",
       "1             HCL Tech Opening - Lead Data Scientist   \n",
       "2                                Sr . Data Scientist   \n",
       "3  Need Data scientists and data engineers - WFH-...   \n",
       "4                           Principal Data Scientist   \n",
       "5  Hiring For Data scientist- ML/python @ Unitedh...   \n",
       "6                     Senior Data Scientist Payments   \n",
       "7              Senior Data Scientist (R Programming)   \n",
       "8              Computer Vision Python Data Scientist   \n",
       "9                                     Data Scientist   \n",
       "\n",
       "                                            location  \\\n",
       "0                                Bangalore/Bengaluru   \n",
       "1  Kolkata, Hyderabad/Secunderabad, Pune, Chennai...   \n",
       "2                                Bangalore/Bengaluru   \n",
       "3  Hyderabad/Secunderabad, Bangalore/Bengaluru, M...   \n",
       "4                                Bangalore/Bengaluru   \n",
       "5            Bangalore/Bengaluru\\n(WFH during Covid)   \n",
       "6                                Bangalore/Bengaluru   \n",
       "7                                             Remote   \n",
       "8  Mumbai, Hyderabad/Secunderabad, Pune, Chennai,...   \n",
       "9                                Bangalore/Bengaluru   \n",
       "\n",
       "                                  Company  \n",
       "0                                    Uber  \n",
       "1                                     HCL  \n",
       "2                                    Visa  \n",
       "3  Covalense Technologies Private Limited  \n",
       "4                   Mobile Premier League  \n",
       "5                                   Optum  \n",
       "6                                 AirSeva  \n",
       "7                                 Ignitho  \n",
       "8                              OceanOfWeb  \n",
       "9                        Minions Ventures  "
      ]
     },
     "execution_count": 54,
     "metadata": {},
     "output_type": "execute_result"
    }
   ],
   "source": [
    "jobs=pd.DataFrame()\n",
    "jobs[\"Job Title\"]=job_titles[:10]\n",
    "jobs[\"location\"]=location[:10]\n",
    "jobs[\"Company\"]=company_names[:10]\n",
    "jobs"
   ]
  },
  {
   "cell_type": "markdown",
   "id": "02be0528",
   "metadata": {},
   "source": [
    "**Q3: In this question you have to scrape data using the filters available on the webpage as shown below:You have to use the location and salary filter.You have to scrape data for “Data Scientist” designation for first 10 job results.You have to scrape the job-title, job-location, company name, experience required.The location filter to be used is “Delhi/NCR”. The salary filter to be used is “3-6” lakhs.**\n",
    "\n",
    "        "
   ]
  },
  {
   "cell_type": "code",
   "execution_count": 3,
   "id": "5ada4cce",
   "metadata": {},
   "outputs": [],
   "source": [
    "# lets first connect to webdriver.\n",
    "driver=webdriver.Chrome(\"chromedriver.exe\")\n",
    "url=\"https://www.naukri.com/\"\n",
    "driver.get(url)"
   ]
  },
  {
   "cell_type": "code",
   "execution_count": 4,
   "id": "28bbcca1",
   "metadata": {},
   "outputs": [],
   "source": [
    "# Finding web element for search jobbar using id\n",
    "search_job=driver.find_element_by_class_name(\"suggestor-input\")\n",
    "search_job\n",
    "search_loc=driver.find_element_by_xpath(\"/html/body/div/div[2]/div[3]/div/div/div[3]/div/div/div/input\")"
   ]
  },
  {
   "cell_type": "code",
   "execution_count": 5,
   "id": "3eebdde2",
   "metadata": {},
   "outputs": [],
   "source": [
    "search_job.send_keys(\"Data Scientist\")"
   ]
  },
  {
   "cell_type": "code",
   "execution_count": 6,
   "id": "b1f0a343",
   "metadata": {},
   "outputs": [],
   "source": [
    "search_btn=driver.find_element_by_xpath('//div[@class=\"qsbSubmit\"]')"
   ]
  },
  {
   "cell_type": "code",
   "execution_count": 7,
   "id": "c54a082b",
   "metadata": {},
   "outputs": [],
   "source": [
    "search_btn.click()"
   ]
  },
  {
   "cell_type": "code",
   "execution_count": 8,
   "id": "df3d3e67",
   "metadata": {},
   "outputs": [],
   "source": [
    "filter_loc=driver.find_element_by_xpath('/html/body/div[1]/div[3]/div[2]/section[1]/div[2]/div[3]/div[2]/div[3]/label/p/span[1]')\n",
    "filter_loc.click()"
   ]
  },
  {
   "cell_type": "code",
   "execution_count": 10,
   "id": "bbe4bbe3",
   "metadata": {},
   "outputs": [],
   "source": [
    "filter_salary=driver.find_element_by_xpath('/html/body/div[1]/div[3]/div[2]/section[1]/div[2]/div[4]/div[2]/div[2]/label/p/span[1]')\n",
    "filter_salary.click()"
   ]
  },
  {
   "cell_type": "code",
   "execution_count": 11,
   "id": "05216a88",
   "metadata": {},
   "outputs": [
    {
     "data": {
      "text/plain": [
       "[<selenium.webdriver.remote.webelement.WebElement (session=\"bff58c215048ca278815887e68710906\", element=\"b6dd370e-4777-438f-942a-bf2fa152d087\")>,\n",
       " <selenium.webdriver.remote.webelement.WebElement (session=\"bff58c215048ca278815887e68710906\", element=\"c4b7f029-a1ad-4333-bd88-a23a8d3b2d7d\")>]"
      ]
     },
     "execution_count": 11,
     "metadata": {},
     "output_type": "execute_result"
    }
   ],
   "source": [
    "# Extracting job titles\n",
    "title_tags=driver.find_elements_by_xpath('//a[@class=\"title fw500 ellipsis\"]')\n",
    "len(title_tags)\n",
    "title_tags[0:2]"
   ]
  },
  {
   "cell_type": "code",
   "execution_count": 12,
   "id": "86a0d936",
   "metadata": {},
   "outputs": [
    {
     "data": {
      "text/plain": [
       "['Excellent Opportunity For Freshers For AI/ML, Data Scientist, BI, QA',\n",
       " 'Data scientist- Python']"
      ]
     },
     "execution_count": 12,
     "metadata": {},
     "output_type": "execute_result"
    }
   ],
   "source": [
    "job_titles=[]\n",
    "for i in title_tags:\n",
    "    job_titles.append(i.text)\n",
    "len(job_titles)\n",
    "job_titles[0:2]"
   ]
  },
  {
   "cell_type": "code",
   "execution_count": 13,
   "id": "373a894f",
   "metadata": {},
   "outputs": [
    {
     "data": {
      "text/plain": [
       "[<selenium.webdriver.remote.webelement.WebElement (session=\"bff58c215048ca278815887e68710906\", element=\"f18f98e9-1b8b-4a63-b0f9-c3b4a3e49931\")>,\n",
       " <selenium.webdriver.remote.webelement.WebElement (session=\"bff58c215048ca278815887e68710906\", element=\"e37fed36-6383-493f-b842-e4f631245368\")>]"
      ]
     },
     "execution_count": 13,
     "metadata": {},
     "output_type": "execute_result"
    }
   ],
   "source": [
    "# Extracting company names\n",
    "company_tags=driver.find_elements_by_xpath('//a[@class=\"subTitle ellipsis fleft\"]')\n",
    "company_tags[0:2]"
   ]
  },
  {
   "cell_type": "code",
   "execution_count": 14,
   "id": "13af65c7",
   "metadata": {},
   "outputs": [
    {
     "data": {
      "text/plain": [
       "['NTT Data', 'TeamPlus Staffing Solution Pvt Ltd']"
      ]
     },
     "execution_count": 14,
     "metadata": {},
     "output_type": "execute_result"
    }
   ],
   "source": [
    "company_names=[]\n",
    "for i in company_tags:\n",
    "    company_names.append(i.text)\n",
    "company_names[0:2]"
   ]
  },
  {
   "cell_type": "code",
   "execution_count": 18,
   "id": "8e8bb295",
   "metadata": {},
   "outputs": [
    {
     "data": {
      "text/plain": [
       "[<selenium.webdriver.remote.webelement.WebElement (session=\"bff58c215048ca278815887e68710906\", element=\"96f83bae-ff32-492e-ab9b-d638aed3d66e\")>,\n",
       " <selenium.webdriver.remote.webelement.WebElement (session=\"bff58c215048ca278815887e68710906\", element=\"851789d1-43d1-44df-acfc-364821c68a94\")>]"
      ]
     },
     "execution_count": 18,
     "metadata": {},
     "output_type": "execute_result"
    }
   ],
   "source": [
    "# Extracting experience names\n",
    "exp_tags=driver.find_elements_by_xpath('//li[@class=\"fleft grey-text br2 placeHolderLi experience\"]')\n",
    "exp_tags[0:2]"
   ]
  },
  {
   "cell_type": "code",
   "execution_count": 19,
   "id": "e3c358aa",
   "metadata": {
    "scrolled": true
   },
   "outputs": [
    {
     "data": {
      "text/plain": [
       "['0-0 Yrs', '3-6 Yrs']"
      ]
     },
     "execution_count": 19,
     "metadata": {},
     "output_type": "execute_result"
    }
   ],
   "source": [
    "exp=[]\n",
    "for i in exp_tags:\n",
    "    exp.append(i.text)\n",
    "exp[0:2]"
   ]
  },
  {
   "cell_type": "code",
   "execution_count": 20,
   "id": "fa8c4b4f",
   "metadata": {},
   "outputs": [
    {
     "data": {
      "text/plain": [
       "(20, 20, 20)"
      ]
     },
     "execution_count": 20,
     "metadata": {},
     "output_type": "execute_result"
    }
   ],
   "source": [
    "len(job_titles),len(company_names),len(exp)"
   ]
  },
  {
   "cell_type": "code",
   "execution_count": 21,
   "id": "f8b9172a",
   "metadata": {},
   "outputs": [
    {
     "data": {
      "text/html": [
       "<div>\n",
       "<style scoped>\n",
       "    .dataframe tbody tr th:only-of-type {\n",
       "        vertical-align: middle;\n",
       "    }\n",
       "\n",
       "    .dataframe tbody tr th {\n",
       "        vertical-align: top;\n",
       "    }\n",
       "\n",
       "    .dataframe thead th {\n",
       "        text-align: right;\n",
       "    }\n",
       "</style>\n",
       "<table border=\"1\" class=\"dataframe\">\n",
       "  <thead>\n",
       "    <tr style=\"text-align: right;\">\n",
       "      <th></th>\n",
       "      <th>Job Title</th>\n",
       "      <th>Company</th>\n",
       "      <th>Experience</th>\n",
       "    </tr>\n",
       "  </thead>\n",
       "  <tbody>\n",
       "    <tr>\n",
       "      <th>0</th>\n",
       "      <td>Excellent Opportunity For Freshers For AI/ML, ...</td>\n",
       "      <td>NTT Data</td>\n",
       "      <td>0-0 Yrs</td>\n",
       "    </tr>\n",
       "    <tr>\n",
       "      <th>1</th>\n",
       "      <td>Data scientist- Python</td>\n",
       "      <td>TeamPlus Staffing Solution Pvt Ltd</td>\n",
       "      <td>3-6 Yrs</td>\n",
       "    </tr>\n",
       "    <tr>\n",
       "      <th>2</th>\n",
       "      <td>Data Analyst / Data Scientist / Business Analy...</td>\n",
       "      <td>GABA Consultancy services</td>\n",
       "      <td>0-0 Yrs</td>\n",
       "    </tr>\n",
       "    <tr>\n",
       "      <th>3</th>\n",
       "      <td>Hiring For Senior Data Scientist-Noida</td>\n",
       "      <td>Lumiq.ai</td>\n",
       "      <td>2-6 Yrs</td>\n",
       "    </tr>\n",
       "    <tr>\n",
       "      <th>4</th>\n",
       "      <td>Data Scientist</td>\n",
       "      <td>Mount Talent Consulting Private Limited</td>\n",
       "      <td>1-4 Yrs</td>\n",
       "    </tr>\n",
       "    <tr>\n",
       "      <th>5</th>\n",
       "      <td>Only Fresher / Python Data Scientist / Trainee...</td>\n",
       "      <td>GABA Consultancy services</td>\n",
       "      <td>0-0 Yrs</td>\n",
       "    </tr>\n",
       "    <tr>\n",
       "      <th>6</th>\n",
       "      <td>Data Scientist _NLP</td>\n",
       "      <td>EXL</td>\n",
       "      <td>3-8 Yrs</td>\n",
       "    </tr>\n",
       "    <tr>\n",
       "      <th>7</th>\n",
       "      <td>Lead Data Scientist</td>\n",
       "      <td>Indihire HR Consultants Private Limited</td>\n",
       "      <td>2-4 Yrs</td>\n",
       "    </tr>\n",
       "    <tr>\n",
       "      <th>8</th>\n",
       "      <td>Hiring For Data Scientist- Gurgaon/ Noida</td>\n",
       "      <td>Mascot e-services</td>\n",
       "      <td>2-4 Yrs</td>\n",
       "    </tr>\n",
       "    <tr>\n",
       "      <th>9</th>\n",
       "      <td>Data Scientist</td>\n",
       "      <td>BlackBuck</td>\n",
       "      <td>3-7 Yrs</td>\n",
       "    </tr>\n",
       "  </tbody>\n",
       "</table>\n",
       "</div>"
      ],
      "text/plain": [
       "                                           Job Title  \\\n",
       "0  Excellent Opportunity For Freshers For AI/ML, ...   \n",
       "1                             Data scientist- Python   \n",
       "2  Data Analyst / Data Scientist / Business Analy...   \n",
       "3             Hiring For Senior Data Scientist-Noida   \n",
       "4                                     Data Scientist   \n",
       "5  Only Fresher / Python Data Scientist / Trainee...   \n",
       "6                                Data Scientist _NLP   \n",
       "7                                Lead Data Scientist   \n",
       "8          Hiring For Data Scientist- Gurgaon/ Noida   \n",
       "9                                     Data Scientist   \n",
       "\n",
       "                                   Company Experience  \n",
       "0                                 NTT Data    0-0 Yrs  \n",
       "1       TeamPlus Staffing Solution Pvt Ltd    3-6 Yrs  \n",
       "2                GABA Consultancy services    0-0 Yrs  \n",
       "3                                 Lumiq.ai    2-6 Yrs  \n",
       "4  Mount Talent Consulting Private Limited    1-4 Yrs  \n",
       "5                GABA Consultancy services    0-0 Yrs  \n",
       "6                                      EXL    3-8 Yrs  \n",
       "7  Indihire HR Consultants Private Limited    2-4 Yrs  \n",
       "8                        Mascot e-services    2-4 Yrs  \n",
       "9                                BlackBuck    3-7 Yrs  "
      ]
     },
     "execution_count": 21,
     "metadata": {},
     "output_type": "execute_result"
    }
   ],
   "source": [
    "jobs=pd.DataFrame()\n",
    "jobs[\"Job Title\"]=job_titles[:10]\n",
    "jobs[\"Company\"]=company_names[:10]\n",
    "jobs[\"Experience\"]=exp[:10]\n",
    "jobs"
   ]
  },
  {
   "cell_type": "markdown",
   "id": "beee5de3",
   "metadata": {},
   "source": [
    "**Q4: Scrape data of first 100 sunglasses listings on flipkart.com. You have to scrape four attributes:\n",
    "**1. Brand\n",
    "**2. Product Description\n",
    "**3. Price**\n"
   ]
  },
  {
   "cell_type": "code",
   "execution_count": 22,
   "id": "ebb9c45a",
   "metadata": {},
   "outputs": [],
   "source": [
    "# lets first connect to webdriver.\n",
    "driver=webdriver.Chrome(\"chromedriver.exe\")\n",
    "url=\"https://www.flipkart.com/search?q=sunglasses&as=on&as-show=on&otracker=AS_Query_OrganicAutoSuggest_3_10_na_na_na&otracker1=AS_Query_OrganicAutoSuggest_3_10_na_na_na&as-pos=3&as-type=RECENT&suggestionId=sunglasses&requestId=735bdab4-ffc5-4389-8c05-fc582f1ef37a&as-searchtext=sunglasses\"\n",
    "driver.get(url)"
   ]
  },
  {
   "cell_type": "code",
   "execution_count": 25,
   "id": "34f477d1",
   "metadata": {},
   "outputs": [
    {
     "data": {
      "text/plain": [
       "[<selenium.webdriver.remote.webelement.WebElement (session=\"e2f6ce928a39b6d250ce38e5d6216fd0\", element=\"fc2977f0-b236-454a-aec0-908fcac8c4d0\")>,\n",
       " <selenium.webdriver.remote.webelement.WebElement (session=\"e2f6ce928a39b6d250ce38e5d6216fd0\", element=\"bcf0fae4-bff3-4ba1-af91-706bfa9b92f5\")>]"
      ]
     },
     "execution_count": 25,
     "metadata": {},
     "output_type": "execute_result"
    }
   ],
   "source": [
    "# Extracting brand\n",
    "brand_tags=driver.find_elements_by_xpath('//div[@class=\"_2WkVRV\"]')\n",
    "len(brand_tags)\n",
    "brand_tags[0:2]"
   ]
  },
  {
   "cell_type": "code",
   "execution_count": 26,
   "id": "1bbde974",
   "metadata": {},
   "outputs": [
    {
     "data": {
      "text/plain": [
       "['SRPM', 'SUNBEE']"
      ]
     },
     "execution_count": 26,
     "metadata": {},
     "output_type": "execute_result"
    }
   ],
   "source": [
    "brand=[]\n",
    "for i in brand_tags:\n",
    "    brand.append(i.text)\n",
    "len(brand)\n",
    "brand[0:2]"
   ]
  },
  {
   "cell_type": "code",
   "execution_count": 31,
   "id": "461633aa",
   "metadata": {},
   "outputs": [
    {
     "data": {
      "text/plain": [
       "[<selenium.webdriver.remote.webelement.WebElement (session=\"e2f6ce928a39b6d250ce38e5d6216fd0\", element=\"9337ac7a-03d3-4b19-8c8a-78f4c0a4870d\")>,\n",
       " <selenium.webdriver.remote.webelement.WebElement (session=\"e2f6ce928a39b6d250ce38e5d6216fd0\", element=\"a1b9a993-bb05-4c79-9080-8947e9fec8ab\")>]"
      ]
     },
     "execution_count": 31,
     "metadata": {},
     "output_type": "execute_result"
    }
   ],
   "source": [
    "# Extracting product description\n",
    "productdesp_tags=driver.find_elements_by_xpath('//a[@class=\"IRpwTa\"]')\n",
    "len(productdesp_tags)\n",
    "productdesp_tags[0:2]"
   ]
  },
  {
   "cell_type": "code",
   "execution_count": 32,
   "id": "a524dc88",
   "metadata": {},
   "outputs": [
    {
     "data": {
      "text/plain": [
       "['UV Protection Wayfarer Sunglasses (50)',\n",
       " 'UV Protection, Polarized Wayfarer Sunglasses (Free Size...']"
      ]
     },
     "execution_count": 32,
     "metadata": {},
     "output_type": "execute_result"
    }
   ],
   "source": [
    "productdesp=[]\n",
    "for i in productdesp_tags:\n",
    "    productdesp.append(i.text)\n",
    "len(productdesp)\n",
    "productdesp[0:2]"
   ]
  },
  {
   "cell_type": "code",
   "execution_count": 33,
   "id": "093295ba",
   "metadata": {},
   "outputs": [
    {
     "data": {
      "text/plain": [
       "[<selenium.webdriver.remote.webelement.WebElement (session=\"e2f6ce928a39b6d250ce38e5d6216fd0\", element=\"29cfe90e-2002-45b7-bc76-787d5c735ff4\")>,\n",
       " <selenium.webdriver.remote.webelement.WebElement (session=\"e2f6ce928a39b6d250ce38e5d6216fd0\", element=\"08ec6672-8d2c-477b-aa97-936ebdd67f1c\")>]"
      ]
     },
     "execution_count": 33,
     "metadata": {},
     "output_type": "execute_result"
    }
   ],
   "source": [
    "# Extracting price\n",
    "price_tags=driver.find_elements_by_xpath('//div[@class=\"_30jeq3\"]')\n",
    "len(price_tags)\n",
    "price_tags[0:2]"
   ]
  },
  {
   "cell_type": "code",
   "execution_count": 34,
   "id": "36d15839",
   "metadata": {},
   "outputs": [
    {
     "data": {
      "text/plain": [
       "['₹198', '₹253']"
      ]
     },
     "execution_count": 34,
     "metadata": {},
     "output_type": "execute_result"
    }
   ],
   "source": [
    "price=[]\n",
    "for i in price_tags:\n",
    "    price.append(i.text)\n",
    "len(price)\n",
    "price[0:2]"
   ]
  },
  {
   "cell_type": "code",
   "execution_count": 35,
   "id": "9409183e",
   "metadata": {},
   "outputs": [],
   "source": [
    "next_=driver.find_element_by_xpath('/html/body/div/div/div[3]/div[1]/div[2]/div[12]/div/div/nav/a[11]/span')"
   ]
  },
  {
   "cell_type": "code",
   "execution_count": 36,
   "id": "ebc47463",
   "metadata": {},
   "outputs": [],
   "source": [
    "next_.click()"
   ]
  },
  {
   "cell_type": "code",
   "execution_count": 37,
   "id": "1e59a4b6",
   "metadata": {},
   "outputs": [],
   "source": [
    "brand_tags=driver.find_elements_by_xpath('//div[@class=\"_2WkVRV\"]')\n",
    "productdesp_tags=driver.find_elements_by_xpath('//a[@class=\"IRpwTa\"]')\n",
    "price_tags=driver.find_elements_by_xpath('//div[@class=\"_30jeq3\"]')"
   ]
  },
  {
   "cell_type": "code",
   "execution_count": 39,
   "id": "66766285",
   "metadata": {},
   "outputs": [],
   "source": [
    "for i in price_tags:\n",
    "    price.append(i.text)"
   ]
  },
  {
   "cell_type": "code",
   "execution_count": 41,
   "id": "c24a267c",
   "metadata": {},
   "outputs": [],
   "source": [
    "for i in productdesp_tags:\n",
    "    productdesp.append(i.text)"
   ]
  },
  {
   "cell_type": "code",
   "execution_count": 42,
   "id": "2b56704b",
   "metadata": {},
   "outputs": [],
   "source": [
    "for i in brand_tags:\n",
    "    brand.append(i.text)"
   ]
  },
  {
   "cell_type": "code",
   "execution_count": 45,
   "id": "e6c69289",
   "metadata": {},
   "outputs": [],
   "source": [
    "next2=driver.find_element_by_xpath('/html/body/div/div/div[3]/div[1]/div[2]/div[12]/div/div/nav/a[12]/span')"
   ]
  },
  {
   "cell_type": "code",
   "execution_count": 47,
   "id": "bb9b381b",
   "metadata": {},
   "outputs": [],
   "source": [
    "next2.click()"
   ]
  },
  {
   "cell_type": "code",
   "execution_count": 48,
   "id": "779da852",
   "metadata": {},
   "outputs": [],
   "source": [
    "brand_tags=driver.find_elements_by_xpath('//div[@class=\"_2WkVRV\"]')\n",
    "productdesp_tags=driver.find_elements_by_xpath('//a[@class=\"IRpwTa\"]')\n",
    "price_tags=driver.find_elements_by_xpath('//div[@class=\"_30jeq3\"]')"
   ]
  },
  {
   "cell_type": "code",
   "execution_count": 49,
   "id": "cb0eebad",
   "metadata": {},
   "outputs": [],
   "source": [
    "for i in price_tags:\n",
    "    price.append(i.text)"
   ]
  },
  {
   "cell_type": "code",
   "execution_count": 50,
   "id": "59c9bf71",
   "metadata": {},
   "outputs": [],
   "source": [
    "for i in productdesp_tags:\n",
    "    productdesp.append(i.text)"
   ]
  },
  {
   "cell_type": "code",
   "execution_count": 51,
   "id": "5a806de6",
   "metadata": {},
   "outputs": [],
   "source": [
    "for i in brand_tags:\n",
    "    brand.append(i.text)"
   ]
  },
  {
   "cell_type": "code",
   "execution_count": 64,
   "id": "77635d07",
   "metadata": {},
   "outputs": [
    {
     "data": {
      "text/plain": [
       "120"
      ]
     },
     "execution_count": 64,
     "metadata": {},
     "output_type": "execute_result"
    }
   ],
   "source": [
    "len(price)"
   ]
  },
  {
   "cell_type": "code",
   "execution_count": 75,
   "id": "feb52f95",
   "metadata": {
    "scrolled": true
   },
   "outputs": [
    {
     "data": {
      "text/html": [
       "<div>\n",
       "<style scoped>\n",
       "    .dataframe tbody tr th:only-of-type {\n",
       "        vertical-align: middle;\n",
       "    }\n",
       "\n",
       "    .dataframe tbody tr th {\n",
       "        vertical-align: top;\n",
       "    }\n",
       "\n",
       "    .dataframe thead th {\n",
       "        text-align: right;\n",
       "    }\n",
       "</style>\n",
       "<table border=\"1\" class=\"dataframe\">\n",
       "  <thead>\n",
       "    <tr style=\"text-align: right;\">\n",
       "      <th></th>\n",
       "      <th>brand</th>\n",
       "      <th>productdesp</th>\n",
       "      <th>price</th>\n",
       "    </tr>\n",
       "  </thead>\n",
       "  <tbody>\n",
       "    <tr>\n",
       "      <th>0</th>\n",
       "      <td>SRPM</td>\n",
       "      <td>UV Protection Wayfarer Sunglasses (50)</td>\n",
       "      <td>₹198</td>\n",
       "    </tr>\n",
       "    <tr>\n",
       "      <th>1</th>\n",
       "      <td>SUNBEE</td>\n",
       "      <td>UV Protection, Polarized Wayfarer Sunglasses (...</td>\n",
       "      <td>₹253</td>\n",
       "    </tr>\n",
       "    <tr>\n",
       "      <th>2</th>\n",
       "      <td>ROZZETTA CRAFT</td>\n",
       "      <td>Polarized, Night Vision, Riding Glasses Sports...</td>\n",
       "      <td>₹474</td>\n",
       "    </tr>\n",
       "    <tr>\n",
       "      <th>3</th>\n",
       "      <td>Elligator</td>\n",
       "      <td>UV Protection Round Sunglasses (54)</td>\n",
       "      <td>₹258</td>\n",
       "    </tr>\n",
       "    <tr>\n",
       "      <th>4</th>\n",
       "      <td>PIRASO</td>\n",
       "      <td>UV Protection Aviator Sunglasses (54)</td>\n",
       "      <td>₹229</td>\n",
       "    </tr>\n",
       "    <tr>\n",
       "      <th>...</th>\n",
       "      <td>...</td>\n",
       "      <td>...</td>\n",
       "      <td>...</td>\n",
       "    </tr>\n",
       "    <tr>\n",
       "      <th>95</th>\n",
       "      <td>VINCENT CHASE</td>\n",
       "      <td>by Lenskart Polarized, UV Protection Wayfarer ...</td>\n",
       "      <td>₹799</td>\n",
       "    </tr>\n",
       "    <tr>\n",
       "      <th>96</th>\n",
       "      <td>AISLIN</td>\n",
       "      <td>UV Protection, Gradient Oval Sunglasses (58)</td>\n",
       "      <td>₹446</td>\n",
       "    </tr>\n",
       "    <tr>\n",
       "      <th>97</th>\n",
       "      <td>kingsunglasses</td>\n",
       "      <td>UV Protection, Mirrored Aviator Sunglasses (Fr...</td>\n",
       "      <td>₹239</td>\n",
       "    </tr>\n",
       "    <tr>\n",
       "      <th>98</th>\n",
       "      <td>PIRASO</td>\n",
       "      <td>UV Protection Aviator Sunglasses (54)</td>\n",
       "      <td>₹225</td>\n",
       "    </tr>\n",
       "    <tr>\n",
       "      <th>99</th>\n",
       "      <td>VINCENT CHASE</td>\n",
       "      <td>by Lenskart Polarized, UV Protection Rectangul...</td>\n",
       "      <td>₹719</td>\n",
       "    </tr>\n",
       "  </tbody>\n",
       "</table>\n",
       "<p>100 rows × 3 columns</p>\n",
       "</div>"
      ],
      "text/plain": [
       "             brand                                        productdesp price\n",
       "0             SRPM             UV Protection Wayfarer Sunglasses (50)  ₹198\n",
       "1           SUNBEE  UV Protection, Polarized Wayfarer Sunglasses (...  ₹253\n",
       "2   ROZZETTA CRAFT  Polarized, Night Vision, Riding Glasses Sports...  ₹474\n",
       "3        Elligator                UV Protection Round Sunglasses (54)  ₹258\n",
       "4           PIRASO              UV Protection Aviator Sunglasses (54)  ₹229\n",
       "..             ...                                                ...   ...\n",
       "95   VINCENT CHASE  by Lenskart Polarized, UV Protection Wayfarer ...  ₹799\n",
       "96          AISLIN       UV Protection, Gradient Oval Sunglasses (58)  ₹446\n",
       "97  kingsunglasses  UV Protection, Mirrored Aviator Sunglasses (Fr...  ₹239\n",
       "98          PIRASO              UV Protection Aviator Sunglasses (54)  ₹225\n",
       "99   VINCENT CHASE  by Lenskart Polarized, UV Protection Rectangul...  ₹719\n",
       "\n",
       "[100 rows x 3 columns]"
      ]
     },
     "execution_count": 75,
     "metadata": {},
     "output_type": "execute_result"
    }
   ],
   "source": [
    "sunglasses=pd.DataFrame()\n",
    "sunglasses[\"brand\"]=brand[:100]\n",
    "sunglasses[\"productdesp\"]=productdesp[:100]\n",
    "sunglasses[\"price\"]=price[:100]\n",
    "sunglasses"
   ]
  },
  {
   "cell_type": "markdown",
   "id": "83866d8a",
   "metadata": {},
   "source": [
    "**Q5: Scrape 100 reviews data from flipkart.com for iphone11 phone. You have to go the link:\n",
    "https://www.flipkart.com/apple-iphone-11-black-64-gb-includes- earpods-power\u0002adapter/p/itm0f37c2240b217?pid=MOBFKCTSVZAXUHGR&lid=LSTMOBFKC\n",
    "TSVZAXUHGREPBFGI&marketplace.**"
   ]
  },
  {
   "cell_type": "code",
   "execution_count": 26,
   "id": "23844a34",
   "metadata": {},
   "outputs": [],
   "source": [
    "# lets first connect to webdriver.\n",
    "driver=webdriver.Chrome(\"chromedriver.exe\")\n",
    "url=\"https://www.flipkart.com/apple-iphone-11-black-64-gb-includes-%20earpods-power%02adapter/p/itm0f37c2240b217?pid=MOBFKCTSVZAXUHGR&lid=LSTMOBFKC%20TSVZAXUHGREPBFGI&marketplace./\"\n",
    "driver.get(url)"
   ]
  },
  {
   "cell_type": "code",
   "execution_count": 27,
   "id": "d9322ba7",
   "metadata": {},
   "outputs": [],
   "source": [
    "All=driver.find_element_by_xpath('/html/body/div[1]/div/div[3]/div[1]/div[2]/div[8]/div/div/div[5]/div/a/div/span')\n"
   ]
  },
  {
   "cell_type": "code",
   "execution_count": 28,
   "id": "8bd1b02a",
   "metadata": {},
   "outputs": [],
   "source": [
    "All.click()"
   ]
  },
  {
   "cell_type": "code",
   "execution_count": 29,
   "id": "e404730c",
   "metadata": {},
   "outputs": [
    {
     "data": {
      "text/plain": [
       "[<selenium.webdriver.remote.webelement.WebElement (session=\"2b142f06e80588215722a78df7df1b20\", element=\"57bbda78-5f02-4c55-8ee8-b5a93602115e\")>,\n",
       " <selenium.webdriver.remote.webelement.WebElement (session=\"2b142f06e80588215722a78df7df1b20\", element=\"1909af10-773f-42f8-b198-bce9991ec2eb\")>]"
      ]
     },
     "execution_count": 29,
     "metadata": {},
     "output_type": "execute_result"
    }
   ],
   "source": [
    "# Extracting rating\n",
    "rating_tags=driver.find_elements_by_xpath('//div[@class=\"_3LWZlK _1BLPMq\"]')\n",
    "rating_tags[0:2]"
   ]
  },
  {
   "cell_type": "code",
   "execution_count": 30,
   "id": "ce733ba5",
   "metadata": {},
   "outputs": [
    {
     "data": {
      "text/plain": [
       "['5', '5']"
      ]
     },
     "execution_count": 30,
     "metadata": {},
     "output_type": "execute_result"
    }
   ],
   "source": [
    "rating=[]\n",
    "for i in rating_tags:\n",
    "    rating.append(i.text)\n",
    "rating[0:2]"
   ]
  },
  {
   "cell_type": "code",
   "execution_count": 31,
   "id": "60d7594b",
   "metadata": {},
   "outputs": [
    {
     "data": {
      "text/plain": [
       "[<selenium.webdriver.remote.webelement.WebElement (session=\"2b142f06e80588215722a78df7df1b20\", element=\"6d22862e-11fb-4046-bf8a-1e4be44a4b8d\")>,\n",
       " <selenium.webdriver.remote.webelement.WebElement (session=\"2b142f06e80588215722a78df7df1b20\", element=\"9744106a-8b5a-478d-9a19-a68f7a8c0ff2\")>]"
      ]
     },
     "execution_count": 31,
     "metadata": {},
     "output_type": "execute_result"
    }
   ],
   "source": [
    "# Extracting review summary\n",
    "reviewsum_tags=driver.find_elements_by_xpath('//p[@class=\"_2-N8zT\"]')\n",
    "reviewsum_tags[0:2]"
   ]
  },
  {
   "cell_type": "code",
   "execution_count": 32,
   "id": "a48fb27d",
   "metadata": {},
   "outputs": [
    {
     "data": {
      "text/plain": [
       "['Brilliant', 'Simply awesome']"
      ]
     },
     "execution_count": 32,
     "metadata": {},
     "output_type": "execute_result"
    }
   ],
   "source": [
    "reviewsummary=[]\n",
    "for i in reviewsum_tags:\n",
    "    reviewsummary.append(i.text)\n",
    "reviewsummary[0:2]"
   ]
  },
  {
   "cell_type": "code",
   "execution_count": 33,
   "id": "f730c4aa",
   "metadata": {},
   "outputs": [
    {
     "data": {
      "text/plain": [
       "[<selenium.webdriver.remote.webelement.WebElement (session=\"2b142f06e80588215722a78df7df1b20\", element=\"6eec31d6-e1e3-4319-9aee-7709b85f01d9\")>,\n",
       " <selenium.webdriver.remote.webelement.WebElement (session=\"2b142f06e80588215722a78df7df1b20\", element=\"784ea6e9-55ba-40b3-9eac-05bb7dfa028c\")>]"
      ]
     },
     "execution_count": 33,
     "metadata": {},
     "output_type": "execute_result"
    }
   ],
   "source": [
    "# Extracting full summary\n",
    "fullsum_tags=driver.find_elements_by_xpath('//div[@class=\"t-ZTKy\"]')\n",
    "fullsum_tags[0:2]"
   ]
  },
  {
   "cell_type": "code",
   "execution_count": 34,
   "id": "41d86dfe",
   "metadata": {},
   "outputs": [
    {
     "data": {
      "text/plain": [
       "['The Best Phone for the Money\\n\\nThe iPhone 11 offers superb cameras, a more durable design and excellent battery life for an affordable price.\\n\\nCompelling ultra-wide camera\\nNew Night mode is excellent\\nLong battery life',\n",
       " 'Really satisfied with the Product I received... It’s totally genuine and the packaging was also really good so if ur planning to buy just go for it.']"
      ]
     },
     "execution_count": 34,
     "metadata": {},
     "output_type": "execute_result"
    }
   ],
   "source": [
    "fullsummary=[]\n",
    "for i in fullsum_tags:\n",
    "    fullsummary.append(i.text)\n",
    "fullsummary[0:2]"
   ]
  },
  {
   "cell_type": "code",
   "execution_count": 35,
   "id": "cd42af23",
   "metadata": {},
   "outputs": [],
   "source": [
    "next_=driver.find_element_by_xpath('/html/body/div[1]/div/div[3]/div/div/div[2]/div[13]/div/div/nav/a[11]/span')"
   ]
  },
  {
   "cell_type": "code",
   "execution_count": 43,
   "id": "418142ec",
   "metadata": {},
   "outputs": [],
   "source": [
    "next_.click()"
   ]
  },
  {
   "cell_type": "code",
   "execution_count": 37,
   "id": "08ebcf5a",
   "metadata": {},
   "outputs": [],
   "source": [
    "rating_tags=driver.find_elements_by_xpath('//div[@class=\"_3LWZlK _1BLPMq\"]')\n",
    "reviewsum_tags=driver.find_elements_by_xpath('//p[@class=\"_2-N8zT\"]')\n",
    "fullsum_tags=driver.find_elements_by_xpath('//div[@class=\"t-ZTKy\"]')\n"
   ]
  },
  {
   "cell_type": "code",
   "execution_count": 38,
   "id": "86c75cb1",
   "metadata": {},
   "outputs": [],
   "source": [
    "for i in rating_tags:\n",
    "    rating.append(i.text)"
   ]
  },
  {
   "cell_type": "code",
   "execution_count": 39,
   "id": "ed59eaa4",
   "metadata": {},
   "outputs": [],
   "source": [
    "\n",
    "for i in reviewsum_tags:\n",
    "    reviewsummary.append(i.text)"
   ]
  },
  {
   "cell_type": "code",
   "execution_count": 40,
   "id": "79aea941",
   "metadata": {},
   "outputs": [],
   "source": [
    "for i in fullsum_tags:\n",
    "    fullsummary.append(i.text)"
   ]
  },
  {
   "cell_type": "code",
   "execution_count": 41,
   "id": "31098325",
   "metadata": {},
   "outputs": [
    {
     "data": {
      "text/plain": [
       "20"
      ]
     },
     "execution_count": 41,
     "metadata": {},
     "output_type": "execute_result"
    }
   ],
   "source": [
    "len(fullsummary)"
   ]
  },
  {
   "cell_type": "code",
   "execution_count": 44,
   "id": "7cf5d040",
   "metadata": {},
   "outputs": [],
   "source": [
    "next2=driver.find_element_by_xpath('/html/body/div[1]/div/div[3]/div/div/div[2]/div[13]/div/div/nav/a[12]/span')"
   ]
  },
  {
   "cell_type": "code",
   "execution_count": 45,
   "id": "47a45a9b",
   "metadata": {},
   "outputs": [],
   "source": [
    "next2.click()"
   ]
  },
  {
   "cell_type": "code",
   "execution_count": 46,
   "id": "e68e03a3",
   "metadata": {},
   "outputs": [],
   "source": [
    "rating_tags=driver.find_elements_by_xpath('//div[@class=\"_3LWZlK _1BLPMq\"]')\n",
    "reviewsum_tags=driver.find_elements_by_xpath('//p[@class=\"_2-N8zT\"]')\n",
    "fullsum_tags=driver.find_elements_by_xpath('//div[@class=\"t-ZTKy\"]')"
   ]
  },
  {
   "cell_type": "code",
   "execution_count": 47,
   "id": "00e4adee",
   "metadata": {},
   "outputs": [],
   "source": [
    "for i in rating_tags:\n",
    "    rating.append(i.text)"
   ]
  },
  {
   "cell_type": "code",
   "execution_count": 48,
   "id": "6ce3b03d",
   "metadata": {},
   "outputs": [],
   "source": [
    "\n",
    "for i in reviewsum_tags:\n",
    "    reviewsummary.append(i.text)"
   ]
  },
  {
   "cell_type": "code",
   "execution_count": 49,
   "id": "4c9cbbab",
   "metadata": {},
   "outputs": [],
   "source": [
    "for i in fullsum_tags:\n",
    "    fullsummary.append(i.text)"
   ]
  },
  {
   "cell_type": "code",
   "execution_count": 51,
   "id": "1c237c87",
   "metadata": {},
   "outputs": [
    {
     "data": {
      "text/plain": [
       "30"
      ]
     },
     "execution_count": 51,
     "metadata": {},
     "output_type": "execute_result"
    }
   ],
   "source": [
    "len(reviewsummary)"
   ]
  },
  {
   "cell_type": "code",
   "execution_count": 53,
   "id": "9226dd44",
   "metadata": {},
   "outputs": [],
   "source": [
    "next3=driver.find_element_by_xpath('/html/body/div[1]/div/div[3]/div/div/div[2]/div[13]/div/div/nav/a[12]/span')"
   ]
  },
  {
   "cell_type": "code",
   "execution_count": 54,
   "id": "253a3478",
   "metadata": {},
   "outputs": [],
   "source": [
    "next3.click()"
   ]
  },
  {
   "cell_type": "code",
   "execution_count": 55,
   "id": "96f9c4ff",
   "metadata": {},
   "outputs": [],
   "source": [
    "rating_tags=driver.find_elements_by_xpath('//div[@class=\"_3LWZlK _1BLPMq\"]')\n",
    "reviewsum_tags=driver.find_elements_by_xpath('//p[@class=\"_2-N8zT\"]')\n",
    "fullsum_tags=driver.find_elements_by_xpath('//div[@class=\"t-ZTKy\"]')"
   ]
  },
  {
   "cell_type": "code",
   "execution_count": 56,
   "id": "f27714fe",
   "metadata": {},
   "outputs": [],
   "source": [
    "for i in rating_tags:\n",
    "    rating.append(i.text)"
   ]
  },
  {
   "cell_type": "code",
   "execution_count": 57,
   "id": "32923420",
   "metadata": {},
   "outputs": [],
   "source": [
    "\n",
    "for i in reviewsum_tags:\n",
    "    reviewsummary.append(i.text)"
   ]
  },
  {
   "cell_type": "code",
   "execution_count": 58,
   "id": "3cb53704",
   "metadata": {},
   "outputs": [],
   "source": [
    "for i in fullsum_tags:\n",
    "    fullsummary.append(i.text)"
   ]
  },
  {
   "cell_type": "code",
   "execution_count": 59,
   "id": "fa818b94",
   "metadata": {},
   "outputs": [
    {
     "data": {
      "text/plain": [
       "40"
      ]
     },
     "execution_count": 59,
     "metadata": {},
     "output_type": "execute_result"
    }
   ],
   "source": [
    "len(reviewsummary)"
   ]
  },
  {
   "cell_type": "code",
   "execution_count": 134,
   "id": "1c9c1f23",
   "metadata": {},
   "outputs": [
    {
     "data": {
      "text/html": [
       "<div>\n",
       "<style scoped>\n",
       "    .dataframe tbody tr th:only-of-type {\n",
       "        vertical-align: middle;\n",
       "    }\n",
       "\n",
       "    .dataframe tbody tr th {\n",
       "        vertical-align: top;\n",
       "    }\n",
       "\n",
       "    .dataframe thead th {\n",
       "        text-align: right;\n",
       "    }\n",
       "</style>\n",
       "<table border=\"1\" class=\"dataframe\">\n",
       "  <thead>\n",
       "    <tr style=\"text-align: right;\">\n",
       "      <th></th>\n",
       "      <th>rating</th>\n",
       "      <th>reviewsummary</th>\n",
       "      <th>fullsummary</th>\n",
       "    </tr>\n",
       "  </thead>\n",
       "  <tbody>\n",
       "    <tr>\n",
       "      <th>0</th>\n",
       "      <td>4.2 out of 5 stars</td>\n",
       "      <td>Brilliant</td>\n",
       "      <td>The Best Phone for the Money\\n\\nThe iPhone 11 ...</td>\n",
       "    </tr>\n",
       "    <tr>\n",
       "      <th>1</th>\n",
       "      <td>3.9 out of 5 stars</td>\n",
       "      <td>Simply awesome</td>\n",
       "      <td>Really satisfied with the Product I received.....</td>\n",
       "    </tr>\n",
       "    <tr>\n",
       "      <th>2</th>\n",
       "      <td>3.8 out of 5 stars</td>\n",
       "      <td>Best in the market!</td>\n",
       "      <td>Great iPhone very snappy experience as apple k...</td>\n",
       "    </tr>\n",
       "    <tr>\n",
       "      <th>3</th>\n",
       "      <td>3.4 out of 5 stars</td>\n",
       "      <td>Perfect product!</td>\n",
       "      <td>Amazing phone with great cameras and better ba...</td>\n",
       "    </tr>\n",
       "    <tr>\n",
       "      <th>4</th>\n",
       "      <td>4.4 out of 5 stars</td>\n",
       "      <td>Fabulous!</td>\n",
       "      <td>This is my first iOS phone. I am very happy wi...</td>\n",
       "    </tr>\n",
       "    <tr>\n",
       "      <th>5</th>\n",
       "      <td>4.4 out of 5 stars</td>\n",
       "      <td>Worth every penny</td>\n",
       "      <td>Previously I was using one plus 3t it was a gr...</td>\n",
       "    </tr>\n",
       "    <tr>\n",
       "      <th>6</th>\n",
       "      <td>4.3 out of 5 stars</td>\n",
       "      <td>Great product</td>\n",
       "      <td>Amazing Powerful and Durable Gadget.\\n\\nI’m am...</td>\n",
       "    </tr>\n",
       "    <tr>\n",
       "      <th>7</th>\n",
       "      <td>4.1 out of 5 stars</td>\n",
       "      <td>Good choice</td>\n",
       "      <td>So far it’s been an AMAZING experience coming ...</td>\n",
       "    </tr>\n",
       "    <tr>\n",
       "      <th>8</th>\n",
       "      <td>3.7 out of 5 stars</td>\n",
       "      <td>Highly recommended</td>\n",
       "      <td>What a camera .....just awesome ..you can feel...</td>\n",
       "    </tr>\n",
       "    <tr>\n",
       "      <th>9</th>\n",
       "      <td>4.2 out of 5 stars</td>\n",
       "      <td>Worth every penny</td>\n",
       "      <td>i11 is worthy to buy, too much happy with the ...</td>\n",
       "    </tr>\n",
       "  </tbody>\n",
       "</table>\n",
       "</div>"
      ],
      "text/plain": [
       "               rating        reviewsummary  \\\n",
       "0  4.2 out of 5 stars            Brilliant   \n",
       "1  3.9 out of 5 stars       Simply awesome   \n",
       "2  3.8 out of 5 stars  Best in the market!   \n",
       "3  3.4 out of 5 stars     Perfect product!   \n",
       "4  4.4 out of 5 stars            Fabulous!   \n",
       "5  4.4 out of 5 stars    Worth every penny   \n",
       "6  4.3 out of 5 stars        Great product   \n",
       "7  4.1 out of 5 stars          Good choice   \n",
       "8  3.7 out of 5 stars   Highly recommended   \n",
       "9  4.2 out of 5 stars    Worth every penny   \n",
       "\n",
       "                                         fullsummary  \n",
       "0  The Best Phone for the Money\\n\\nThe iPhone 11 ...  \n",
       "1  Really satisfied with the Product I received.....  \n",
       "2  Great iPhone very snappy experience as apple k...  \n",
       "3  Amazing phone with great cameras and better ba...  \n",
       "4  This is my first iOS phone. I am very happy wi...  \n",
       "5  Previously I was using one plus 3t it was a gr...  \n",
       "6  Amazing Powerful and Durable Gadget.\\n\\nI’m am...  \n",
       "7  So far it’s been an AMAZING experience coming ...  \n",
       "8  What a camera .....just awesome ..you can feel...  \n",
       "9  i11 is worthy to buy, too much happy with the ...  "
      ]
     },
     "execution_count": 134,
     "metadata": {},
     "output_type": "execute_result"
    }
   ],
   "source": [
    "iphone=pd.DataFrame()\n",
    "iphone[\"rating\"]=rating[:10]\n",
    "iphone[\"reviewsummary\"]=reviewsummary[:10]\n",
    "iphone[\"fullsummary\"]=fullsummary[:10]\n",
    "iphone"
   ]
  },
  {
   "cell_type": "markdown",
   "id": "8a4607b0",
   "metadata": {},
   "source": [
    "**Q6: Scrape data for first 100 sneakers you find when you visit flipkart.com andsearch for “sneakers” in the search field.You have to scrape 4 attributes of each sneaker:1. Brand 2. Product Description 3. Price**"
   ]
  },
  {
   "cell_type": "code",
   "execution_count": 12,
   "id": "b5886820",
   "metadata": {},
   "outputs": [],
   "source": [
    "# lets first connect to webdriver.\n",
    "driver=webdriver.Chrome(\"chromedriver.exe\")\n",
    "url=\"https://www.flipkart.com/search?q=sneakers&as=on&as-show=on&otracker=AS_Query_OrganicAutoSuggest_3_8_na_na_na&otracker1=AS_Query_OrganicAutoSuggest_3_8_na_na_na&as-pos=3&as-type=RECENT&suggestionId=sneakers&requestId=cfbcbba1-6ab3-4782-99c1-223c623a3dac&as-searchtext=sneakers\"\n",
    "driver.get(url)"
   ]
  },
  {
   "cell_type": "code",
   "execution_count": 13,
   "id": "b6615a5d",
   "metadata": {},
   "outputs": [
    {
     "data": {
      "text/plain": [
       "[<selenium.webdriver.remote.webelement.WebElement (session=\"059d68f9b3778a56b16211f7e6b179e0\", element=\"bf29c9a9-1a07-446e-ac93-92531d7bd449\")>,\n",
       " <selenium.webdriver.remote.webelement.WebElement (session=\"059d68f9b3778a56b16211f7e6b179e0\", element=\"2cb29b62-1f0a-409e-ac2f-f14742dc85b0\")>]"
      ]
     },
     "execution_count": 13,
     "metadata": {},
     "output_type": "execute_result"
    }
   ],
   "source": [
    "# Extracting brand\n",
    "brand_tags=driver.find_elements_by_xpath('//div[@class=\"_2WkVRV\"]')\n",
    "len(brand_tags)\n",
    "brand_tags[0:2]"
   ]
  },
  {
   "cell_type": "code",
   "execution_count": 14,
   "id": "fab6beb0",
   "metadata": {},
   "outputs": [
    {
     "data": {
      "text/plain": [
       "['HIGHLANDER', 'HIGHLANDER']"
      ]
     },
     "execution_count": 14,
     "metadata": {},
     "output_type": "execute_result"
    }
   ],
   "source": [
    "brand=[]\n",
    "for i in brand_tags:\n",
    "    brand.append(i.text)\n",
    "len(brand)\n",
    "brand[0:2]"
   ]
  },
  {
   "cell_type": "code",
   "execution_count": 15,
   "id": "bba7a5a8",
   "metadata": {},
   "outputs": [
    {
     "data": {
      "text/plain": [
       "[<selenium.webdriver.remote.webelement.WebElement (session=\"059d68f9b3778a56b16211f7e6b179e0\", element=\"7234709d-e627-4a75-bfc7-588c92a296e6\")>,\n",
       " <selenium.webdriver.remote.webelement.WebElement (session=\"059d68f9b3778a56b16211f7e6b179e0\", element=\"312dca10-ba99-4343-804e-c1c71bb3a0fa\")>]"
      ]
     },
     "execution_count": 15,
     "metadata": {},
     "output_type": "execute_result"
    }
   ],
   "source": [
    "# Extracting product description\n",
    "productdesp_tags=driver.find_elements_by_xpath('//span[@class=\"_376u-U\"]')\n",
    "len(productdesp_tags)\n",
    "productdesp_tags[0:2]"
   ]
  },
  {
   "cell_type": "code",
   "execution_count": 16,
   "id": "64b0068b",
   "metadata": {},
   "outputs": [
    {
     "data": {
      "text/plain": [
       "['Size', 'Size']"
      ]
     },
     "execution_count": 16,
     "metadata": {},
     "output_type": "execute_result"
    }
   ],
   "source": [
    "productdesp=[]\n",
    "for i in productdesp_tags:\n",
    "    productdesp.append(i.text)\n",
    "len(productdesp)\n",
    "productdesp[0:2]"
   ]
  },
  {
   "cell_type": "code",
   "execution_count": 17,
   "id": "689b6d78",
   "metadata": {},
   "outputs": [
    {
     "data": {
      "text/plain": [
       "[<selenium.webdriver.remote.webelement.WebElement (session=\"059d68f9b3778a56b16211f7e6b179e0\", element=\"aaf47617-fd42-46a5-9299-1572098ef079\")>,\n",
       " <selenium.webdriver.remote.webelement.WebElement (session=\"059d68f9b3778a56b16211f7e6b179e0\", element=\"18a45ff1-a938-4c43-b1e6-7616f904dde9\")>]"
      ]
     },
     "execution_count": 17,
     "metadata": {},
     "output_type": "execute_result"
    }
   ],
   "source": [
    "# Extracting price\n",
    "price_tags=driver.find_elements_by_xpath('//div[@class=\"_30jeq3\"]')\n",
    "len(price_tags)\n",
    "price_tags[0:2]"
   ]
  },
  {
   "cell_type": "code",
   "execution_count": 18,
   "id": "73da0c41",
   "metadata": {},
   "outputs": [
    {
     "data": {
      "text/plain": [
       "['₹796', '₹995']"
      ]
     },
     "execution_count": 18,
     "metadata": {},
     "output_type": "execute_result"
    }
   ],
   "source": [
    "price=[]\n",
    "for i in price_tags:\n",
    "    price.append(i.text)\n",
    "len(price)\n",
    "price[0:2]"
   ]
  },
  {
   "cell_type": "code",
   "execution_count": 20,
   "id": "306d77e1",
   "metadata": {},
   "outputs": [
    {
     "data": {
      "text/plain": [
       "(40, 5, 40)"
      ]
     },
     "execution_count": 20,
     "metadata": {},
     "output_type": "execute_result"
    }
   ],
   "source": [
    "len(brand_tags),len(productdesp_tags),len(price_tags)"
   ]
  },
  {
   "cell_type": "code",
   "execution_count": 103,
   "id": "954e9184",
   "metadata": {},
   "outputs": [
    {
     "data": {
      "text/html": [
       "<div>\n",
       "<style scoped>\n",
       "    .dataframe tbody tr th:only-of-type {\n",
       "        vertical-align: middle;\n",
       "    }\n",
       "\n",
       "    .dataframe tbody tr th {\n",
       "        vertical-align: top;\n",
       "    }\n",
       "\n",
       "    .dataframe thead th {\n",
       "        text-align: right;\n",
       "    }\n",
       "</style>\n",
       "<table border=\"1\" class=\"dataframe\">\n",
       "  <thead>\n",
       "    <tr style=\"text-align: right;\">\n",
       "      <th></th>\n",
       "      <th>brand</th>\n",
       "      <th>productdesp</th>\n",
       "      <th>price</th>\n",
       "    </tr>\n",
       "  </thead>\n",
       "  <tbody>\n",
       "    <tr>\n",
       "      <th>0</th>\n",
       "      <td>SRPM</td>\n",
       "      <td>UV Protection Wayfarer Sunglasses (50)</td>\n",
       "      <td>₹198</td>\n",
       "    </tr>\n",
       "    <tr>\n",
       "      <th>1</th>\n",
       "      <td>SUNBEE</td>\n",
       "      <td>UV Protection, Polarized Wayfarer Sunglasses (...</td>\n",
       "      <td>₹253</td>\n",
       "    </tr>\n",
       "    <tr>\n",
       "      <th>2</th>\n",
       "      <td>ROZZETTA CRAFT</td>\n",
       "      <td>Polarized, Night Vision, Riding Glasses Sports...</td>\n",
       "      <td>₹474</td>\n",
       "    </tr>\n",
       "    <tr>\n",
       "      <th>3</th>\n",
       "      <td>Elligator</td>\n",
       "      <td>UV Protection Round Sunglasses (54)</td>\n",
       "      <td>₹258</td>\n",
       "    </tr>\n",
       "    <tr>\n",
       "      <th>4</th>\n",
       "      <td>PIRASO</td>\n",
       "      <td>UV Protection Aviator Sunglasses (54)</td>\n",
       "      <td>₹229</td>\n",
       "    </tr>\n",
       "    <tr>\n",
       "      <th>...</th>\n",
       "      <td>...</td>\n",
       "      <td>...</td>\n",
       "      <td>...</td>\n",
       "    </tr>\n",
       "    <tr>\n",
       "      <th>95</th>\n",
       "      <td>VINCENT CHASE</td>\n",
       "      <td>by Lenskart Polarized, UV Protection Wayfarer ...</td>\n",
       "      <td>₹799</td>\n",
       "    </tr>\n",
       "    <tr>\n",
       "      <th>96</th>\n",
       "      <td>AISLIN</td>\n",
       "      <td>UV Protection, Gradient Oval Sunglasses (58)</td>\n",
       "      <td>₹446</td>\n",
       "    </tr>\n",
       "    <tr>\n",
       "      <th>97</th>\n",
       "      <td>kingsunglasses</td>\n",
       "      <td>UV Protection, Mirrored Aviator Sunglasses (Fr...</td>\n",
       "      <td>₹239</td>\n",
       "    </tr>\n",
       "    <tr>\n",
       "      <th>98</th>\n",
       "      <td>PIRASO</td>\n",
       "      <td>UV Protection Aviator Sunglasses (54)</td>\n",
       "      <td>₹225</td>\n",
       "    </tr>\n",
       "    <tr>\n",
       "      <th>99</th>\n",
       "      <td>VINCENT CHASE</td>\n",
       "      <td>by Lenskart Polarized, UV Protection Rectangul...</td>\n",
       "      <td>₹719</td>\n",
       "    </tr>\n",
       "  </tbody>\n",
       "</table>\n",
       "<p>100 rows × 3 columns</p>\n",
       "</div>"
      ],
      "text/plain": [
       "             brand                                        productdesp price\n",
       "0             SRPM             UV Protection Wayfarer Sunglasses (50)  ₹198\n",
       "1           SUNBEE  UV Protection, Polarized Wayfarer Sunglasses (...  ₹253\n",
       "2   ROZZETTA CRAFT  Polarized, Night Vision, Riding Glasses Sports...  ₹474\n",
       "3        Elligator                UV Protection Round Sunglasses (54)  ₹258\n",
       "4           PIRASO              UV Protection Aviator Sunglasses (54)  ₹229\n",
       "..             ...                                                ...   ...\n",
       "95   VINCENT CHASE  by Lenskart Polarized, UV Protection Wayfarer ...  ₹799\n",
       "96          AISLIN       UV Protection, Gradient Oval Sunglasses (58)  ₹446\n",
       "97  kingsunglasses  UV Protection, Mirrored Aviator Sunglasses (Fr...  ₹239\n",
       "98          PIRASO              UV Protection Aviator Sunglasses (54)  ₹225\n",
       "99   VINCENT CHASE  by Lenskart Polarized, UV Protection Rectangul...  ₹719\n",
       "\n",
       "[100 rows x 3 columns]"
      ]
     },
     "execution_count": 103,
     "metadata": {},
     "output_type": "execute_result"
    }
   ],
   "source": [
    "sneakers=pd.DataFrame()\n",
    "sneakers[\"brand\"]=brand[:100]\n",
    "sneakers[\"productdesp\"]=productdesp[:100]\n",
    "sneakers[\"price\"]=price[:100]\n",
    "sneakers"
   ]
  },
  {
   "cell_type": "markdown",
   "id": "975022d2",
   "metadata": {},
   "source": [
    "**Q7: Go to the link - https://www.myntra.com/shoes\n",
    "Set Price filter to “Rs. 7149 to Rs. 14099 ” , Color filter to “Black”, as shown inthe below image.And then scrape First 100 shoes data you get. The data should include “Brand” of the shoes , Short Shoe\n",
    "description, price of the shoe as shown in the below image.**\n"
   ]
  },
  {
   "cell_type": "code",
   "execution_count": 61,
   "id": "2fc87a9d",
   "metadata": {},
   "outputs": [],
   "source": [
    "# lets first connect to webdriver.\n",
    "driver=webdriver.Chrome(\"chromedriver.exe\")\n",
    "url=\"https://www.myntra.com/shoes\"\n",
    "driver.get(url)"
   ]
  },
  {
   "cell_type": "code",
   "execution_count": 62,
   "id": "3600aa33",
   "metadata": {},
   "outputs": [],
   "source": [
    "filter_price=driver.find_element_by_xpath('/html/body/div[2]/div/div[1]/main/div[3]/div[1]/section/div/div[5]/ul/li[2]/label')\n",
    "filter_price.click()"
   ]
  },
  {
   "cell_type": "code",
   "execution_count": 63,
   "id": "d77b6664",
   "metadata": {},
   "outputs": [],
   "source": [
    "filter_colour=driver.find_element_by_xpath('/html/body/div[2]/div/div[1]/main/div[3]/div[1]/section/div/div[6]/ul/li[1]/label')\n",
    "filter_colour.click()"
   ]
  },
  {
   "cell_type": "code",
   "execution_count": 64,
   "id": "84181cc4",
   "metadata": {},
   "outputs": [
    {
     "data": {
      "text/plain": [
       "[<selenium.webdriver.remote.webelement.WebElement (session=\"db43af44186bc42a33be4eff0d77a93d\", element=\"53ca0841-0805-4e0f-ac45-7024544dc771\")>,\n",
       " <selenium.webdriver.remote.webelement.WebElement (session=\"db43af44186bc42a33be4eff0d77a93d\", element=\"b4101bbb-552a-41ba-9e06-7bfab33026e0\")>]"
      ]
     },
     "execution_count": 64,
     "metadata": {},
     "output_type": "execute_result"
    }
   ],
   "source": [
    "# Extracting brand\n",
    "brand_tags=driver.find_elements_by_xpath('//h3[@class=\"product-brand\"]')\n",
    "len(brand_tags)\n",
    "brand_tags[0:2]"
   ]
  },
  {
   "cell_type": "code",
   "execution_count": 65,
   "id": "3cc57345",
   "metadata": {},
   "outputs": [
    {
     "data": {
      "text/plain": [
       "['ALDO', 'Reebok']"
      ]
     },
     "execution_count": 65,
     "metadata": {},
     "output_type": "execute_result"
    }
   ],
   "source": [
    "brand=[]\n",
    "for i in brand_tags:\n",
    "    brand.append(i.text)\n",
    "len(brand)\n",
    "brand[0:2]"
   ]
  },
  {
   "cell_type": "code",
   "execution_count": 66,
   "id": "eb1cd12a",
   "metadata": {},
   "outputs": [
    {
     "data": {
      "text/plain": [
       "[<selenium.webdriver.remote.webelement.WebElement (session=\"db43af44186bc42a33be4eff0d77a93d\", element=\"46c74377-19fb-45c4-98e1-f338113c14d8\")>,\n",
       " <selenium.webdriver.remote.webelement.WebElement (session=\"db43af44186bc42a33be4eff0d77a93d\", element=\"b5a9a599-1571-4c86-b22e-dbd8408a74ee\")>]"
      ]
     },
     "execution_count": 66,
     "metadata": {},
     "output_type": "execute_result"
    }
   ],
   "source": [
    "# Extracting shoe desp\n",
    "desp_tags=driver.find_elements_by_xpath('//h4[@class=\"product-product\"]')\n",
    "len(desp_tags)\n",
    "desp_tags[0:2]"
   ]
  },
  {
   "cell_type": "code",
   "execution_count": 67,
   "id": "3ebaeead",
   "metadata": {},
   "outputs": [
    {
     "data": {
      "text/plain": [
       "['Men Leather Driving Shoes', 'Men Zig Dynamica 2.0 Running']"
      ]
     },
     "execution_count": 67,
     "metadata": {},
     "output_type": "execute_result"
    }
   ],
   "source": [
    "desp=[]\n",
    "for i in desp_tags:\n",
    "    desp.append(i.text)\n",
    "len(desp)\n",
    "desp[0:2]"
   ]
  },
  {
   "cell_type": "code",
   "execution_count": 68,
   "id": "a4f594b0",
   "metadata": {},
   "outputs": [
    {
     "data": {
      "text/plain": [
       "[<selenium.webdriver.remote.webelement.WebElement (session=\"db43af44186bc42a33be4eff0d77a93d\", element=\"fd14f3b1-9641-4e13-8d60-fb23e000cd3a\")>,\n",
       " <selenium.webdriver.remote.webelement.WebElement (session=\"db43af44186bc42a33be4eff0d77a93d\", element=\"a5ec259c-e68d-4359-a047-ac8db7f36f09\")>]"
      ]
     },
     "execution_count": 68,
     "metadata": {},
     "output_type": "execute_result"
    }
   ],
   "source": [
    "# Extracting price\n",
    "price_tags=driver.find_elements_by_xpath('//div[@class=\"product-price\"]')\n",
    "len(price_tags)\n",
    "price_tags[0:2]"
   ]
  },
  {
   "cell_type": "code",
   "execution_count": 69,
   "id": "a431cb5b",
   "metadata": {},
   "outputs": [
    {
     "data": {
      "text/plain": [
       "['Rs. 12999', 'Rs. 7999']"
      ]
     },
     "execution_count": 69,
     "metadata": {},
     "output_type": "execute_result"
    }
   ],
   "source": [
    "price=[]\n",
    "for i in price_tags:\n",
    "    price.append(i.text)\n",
    "len(price)\n",
    "price[0:2]"
   ]
  },
  {
   "cell_type": "code",
   "execution_count": 72,
   "id": "00691354",
   "metadata": {},
   "outputs": [
    {
     "data": {
      "text/html": [
       "<div>\n",
       "<style scoped>\n",
       "    .dataframe tbody tr th:only-of-type {\n",
       "        vertical-align: middle;\n",
       "    }\n",
       "\n",
       "    .dataframe tbody tr th {\n",
       "        vertical-align: top;\n",
       "    }\n",
       "\n",
       "    .dataframe thead th {\n",
       "        text-align: right;\n",
       "    }\n",
       "</style>\n",
       "<table border=\"1\" class=\"dataframe\">\n",
       "  <thead>\n",
       "    <tr style=\"text-align: right;\">\n",
       "      <th></th>\n",
       "      <th>brand</th>\n",
       "      <th>desp</th>\n",
       "      <th>price</th>\n",
       "    </tr>\n",
       "  </thead>\n",
       "  <tbody>\n",
       "    <tr>\n",
       "      <th>0</th>\n",
       "      <td>ALDO</td>\n",
       "      <td>Men Leather Driving Shoes</td>\n",
       "      <td>Rs. 12999</td>\n",
       "    </tr>\n",
       "    <tr>\n",
       "      <th>1</th>\n",
       "      <td>Reebok</td>\n",
       "      <td>Men Zig Dynamica 2.0 Running</td>\n",
       "      <td>Rs. 7999</td>\n",
       "    </tr>\n",
       "    <tr>\n",
       "      <th>2</th>\n",
       "      <td>Nike</td>\n",
       "      <td>Men Winflo 7 Running Shoes</td>\n",
       "      <td>Rs. 7995</td>\n",
       "    </tr>\n",
       "    <tr>\n",
       "      <th>3</th>\n",
       "      <td>ALDO</td>\n",
       "      <td>Men Printed Sneakers</td>\n",
       "      <td>Rs. 9099Rs. 12999(30% OFF)</td>\n",
       "    </tr>\n",
       "    <tr>\n",
       "      <th>4</th>\n",
       "      <td>Tommy Hilfiger</td>\n",
       "      <td>Men Cleated Leather Sneakers</td>\n",
       "      <td>Rs. 7739Rs. 8599(10% OFF)</td>\n",
       "    </tr>\n",
       "    <tr>\n",
       "      <th>5</th>\n",
       "      <td>ALDO</td>\n",
       "      <td>Men Woven Design Sneakers</td>\n",
       "      <td>Rs. 13999</td>\n",
       "    </tr>\n",
       "    <tr>\n",
       "      <th>6</th>\n",
       "      <td>Puma</td>\n",
       "      <td>Men Jamming 2.0 Running Shoes</td>\n",
       "      <td>Rs. 12999</td>\n",
       "    </tr>\n",
       "    <tr>\n",
       "      <th>7</th>\n",
       "      <td>Puma</td>\n",
       "      <td>Eternity Nitro Running Shoes</td>\n",
       "      <td>Rs. 12999</td>\n",
       "    </tr>\n",
       "    <tr>\n",
       "      <th>8</th>\n",
       "      <td>Puma</td>\n",
       "      <td>Electrify Nitro Running Shoes</td>\n",
       "      <td>Rs. 9999</td>\n",
       "    </tr>\n",
       "    <tr>\n",
       "      <th>9</th>\n",
       "      <td>Hush Puppies</td>\n",
       "      <td>Men Solid Leather Formal Slip-Ons</td>\n",
       "      <td>Rs. 7649Rs. 8999(15% OFF)</td>\n",
       "    </tr>\n",
       "    <tr>\n",
       "      <th>10</th>\n",
       "      <td>Nike</td>\n",
       "      <td>Men Air Max Dawn Sneakers</td>\n",
       "      <td>Rs. 10995</td>\n",
       "    </tr>\n",
       "    <tr>\n",
       "      <th>11</th>\n",
       "      <td>Puma</td>\n",
       "      <td>Men FUSE Training Shoes</td>\n",
       "      <td>Rs. 7999</td>\n",
       "    </tr>\n",
       "    <tr>\n",
       "      <th>12</th>\n",
       "      <td>Puma</td>\n",
       "      <td>Men Training or Gym Shoes</td>\n",
       "      <td>Rs. 7999</td>\n",
       "    </tr>\n",
       "    <tr>\n",
       "      <th>13</th>\n",
       "      <td>ASICS</td>\n",
       "      <td>Women Running Shoes</td>\n",
       "      <td>Rs. 7999</td>\n",
       "    </tr>\n",
       "    <tr>\n",
       "      <th>14</th>\n",
       "      <td>Skechers</td>\n",
       "      <td>Men Go Run Hyper Burst Running</td>\n",
       "      <td>Rs. 7224Rs. 8499(15% OFF)</td>\n",
       "    </tr>\n",
       "    <tr>\n",
       "      <th>15</th>\n",
       "      <td>Hush Puppies</td>\n",
       "      <td>Men Solid Leather Formal Slip-Ons</td>\n",
       "      <td>Rs. 8499Rs. 9999(15% OFF)</td>\n",
       "    </tr>\n",
       "    <tr>\n",
       "      <th>16</th>\n",
       "      <td>Hush Puppies</td>\n",
       "      <td>Men Formal Derbys</td>\n",
       "      <td>Rs. 8499Rs. 9999(15% OFF)</td>\n",
       "    </tr>\n",
       "    <tr>\n",
       "      <th>17</th>\n",
       "      <td>Saint G</td>\n",
       "      <td>Men Mid-Top Chelsea Boots</td>\n",
       "      <td>Rs. 10500Rs. 10900(Rs. 400 OFF)</td>\n",
       "    </tr>\n",
       "    <tr>\n",
       "      <th>18</th>\n",
       "      <td>Bugatti</td>\n",
       "      <td>Men Solid Leather Formal Derbys</td>\n",
       "      <td>Rs. 9499</td>\n",
       "    </tr>\n",
       "    <tr>\n",
       "      <th>19</th>\n",
       "      <td>Puma</td>\n",
       "      <td>Women Velocity NITRO Runners</td>\n",
       "      <td>Rs. 8249Rs. 10999(25% OFF)</td>\n",
       "    </tr>\n",
       "    <tr>\n",
       "      <th>20</th>\n",
       "      <td>Hush Puppies</td>\n",
       "      <td>Men Solid Formal Slip-Ons</td>\n",
       "      <td>Rs. 8499Rs. 9999(15% OFF)</td>\n",
       "    </tr>\n",
       "    <tr>\n",
       "      <th>21</th>\n",
       "      <td>J.FONTINI</td>\n",
       "      <td>Men Black Leather Loafers</td>\n",
       "      <td>Rs. 8490</td>\n",
       "    </tr>\n",
       "    <tr>\n",
       "      <th>22</th>\n",
       "      <td>Saint G</td>\n",
       "      <td>Women Leather Block Heels</td>\n",
       "      <td>Rs. 9500</td>\n",
       "    </tr>\n",
       "    <tr>\n",
       "      <th>23</th>\n",
       "      <td>TRIBAN By Decathlon</td>\n",
       "      <td>Unisex Training or Gym Shoes</td>\n",
       "      <td>Rs. 8579Rs. 10999(22% OFF)</td>\n",
       "    </tr>\n",
       "    <tr>\n",
       "      <th>24</th>\n",
       "      <td>Hush Puppies</td>\n",
       "      <td>Men Solid Leather Formal Derbys</td>\n",
       "      <td>Rs. 8499Rs. 9999(15% OFF)</td>\n",
       "    </tr>\n",
       "    <tr>\n",
       "      <th>25</th>\n",
       "      <td>Columbia</td>\n",
       "      <td>Men FACET OUTDRY Trekking Shoe</td>\n",
       "      <td>Rs. 12999</td>\n",
       "    </tr>\n",
       "    <tr>\n",
       "      <th>26</th>\n",
       "      <td>Sole To Soul</td>\n",
       "      <td>Women Block Heeled Boots</td>\n",
       "      <td>Rs. 8900</td>\n",
       "    </tr>\n",
       "    <tr>\n",
       "      <th>27</th>\n",
       "      <td>Tommy Hilfiger</td>\n",
       "      <td>Women CLEAT Textured Sneakers</td>\n",
       "      <td>Rs. 7739Rs. 8599(10% OFF)</td>\n",
       "    </tr>\n",
       "    <tr>\n",
       "      <th>28</th>\n",
       "      <td>Tommy Hilfiger</td>\n",
       "      <td>Leather Sandals</td>\n",
       "      <td>Rs. 7599</td>\n",
       "    </tr>\n",
       "    <tr>\n",
       "      <th>29</th>\n",
       "      <td>MANGO</td>\n",
       "      <td>Women Solid Sneakers</td>\n",
       "      <td>Rs. 8990</td>\n",
       "    </tr>\n",
       "    <tr>\n",
       "      <th>30</th>\n",
       "      <td>Puma</td>\n",
       "      <td>Women Eternity NITRO Shoes</td>\n",
       "      <td>Rs. 9099Rs. 12999(30% OFF)</td>\n",
       "    </tr>\n",
       "    <tr>\n",
       "      <th>31</th>\n",
       "      <td>Heel &amp; Buckle London</td>\n",
       "      <td>Men Suede Loafers</td>\n",
       "      <td>Rs. 12990</td>\n",
       "    </tr>\n",
       "    <tr>\n",
       "      <th>32</th>\n",
       "      <td>Geox</td>\n",
       "      <td>Men Striped Leather Sneakers</td>\n",
       "      <td>Rs. 9990</td>\n",
       "    </tr>\n",
       "    <tr>\n",
       "      <th>33</th>\n",
       "      <td>Geox</td>\n",
       "      <td>Men Leather Driving Shoes</td>\n",
       "      <td>Rs. 9499</td>\n",
       "    </tr>\n",
       "    <tr>\n",
       "      <th>34</th>\n",
       "      <td>ALDO</td>\n",
       "      <td>Wedge Sandals</td>\n",
       "      <td>Rs. 7999</td>\n",
       "    </tr>\n",
       "    <tr>\n",
       "      <th>35</th>\n",
       "      <td>ALDO</td>\n",
       "      <td>Leather Slim Heels</td>\n",
       "      <td>Rs. 8399Rs. 11999(30% OFF)</td>\n",
       "    </tr>\n",
       "    <tr>\n",
       "      <th>36</th>\n",
       "      <td>ALDO</td>\n",
       "      <td>Wedge Sandals</td>\n",
       "      <td>Rs. 7999</td>\n",
       "    </tr>\n",
       "    <tr>\n",
       "      <th>37</th>\n",
       "      <td>J.FONTINI</td>\n",
       "      <td>Men Textured Leather Loafers</td>\n",
       "      <td>Rs. 8490</td>\n",
       "    </tr>\n",
       "    <tr>\n",
       "      <th>38</th>\n",
       "      <td>Bugatti</td>\n",
       "      <td>Men Textured Leather High-Top Flat Boots</td>\n",
       "      <td>Rs. 8399Rs. 11999(30% OFF)</td>\n",
       "    </tr>\n",
       "    <tr>\n",
       "      <th>39</th>\n",
       "      <td>J.FONTINI</td>\n",
       "      <td>Men Textured Leather Loafers</td>\n",
       "      <td>Rs. 7990</td>\n",
       "    </tr>\n",
       "    <tr>\n",
       "      <th>40</th>\n",
       "      <td>Saint G</td>\n",
       "      <td>Leather High-Top Heeled Boots</td>\n",
       "      <td>Rs. 10625Rs. 12500(15% OFF)</td>\n",
       "    </tr>\n",
       "    <tr>\n",
       "      <th>41</th>\n",
       "      <td>DAVINCHI</td>\n",
       "      <td>Men Textured Formal Leather Loafers</td>\n",
       "      <td>Rs. 8990</td>\n",
       "    </tr>\n",
       "    <tr>\n",
       "      <th>42</th>\n",
       "      <td>MANGO</td>\n",
       "      <td>Women Heeled Leather Loafers</td>\n",
       "      <td>Rs. 7990</td>\n",
       "    </tr>\n",
       "    <tr>\n",
       "      <th>43</th>\n",
       "      <td>Sole To Soul</td>\n",
       "      <td>High-Top Block Heeled Boots</td>\n",
       "      <td>Rs. 7900</td>\n",
       "    </tr>\n",
       "    <tr>\n",
       "      <th>44</th>\n",
       "      <td>Geox</td>\n",
       "      <td>Women Leather Pumps</td>\n",
       "      <td>Rs. 8999</td>\n",
       "    </tr>\n",
       "    <tr>\n",
       "      <th>45</th>\n",
       "      <td>Sole To Soul</td>\n",
       "      <td>High-Top Platform Heeled Boots</td>\n",
       "      <td>Rs. 8900</td>\n",
       "    </tr>\n",
       "    <tr>\n",
       "      <th>46</th>\n",
       "      <td>Sole To Soul</td>\n",
       "      <td>Suede High-Top Block Heeled Boots</td>\n",
       "      <td>Rs. 9500</td>\n",
       "    </tr>\n",
       "    <tr>\n",
       "      <th>47</th>\n",
       "      <td>ROSSO BRUNELLO</td>\n",
       "      <td>Printed PU Kitten Sandals</td>\n",
       "      <td>Rs. 8499</td>\n",
       "    </tr>\n",
       "    <tr>\n",
       "      <th>48</th>\n",
       "      <td>Heel &amp; Buckle London</td>\n",
       "      <td>Men Formal Leather Derby</td>\n",
       "      <td>Rs. 7990</td>\n",
       "    </tr>\n",
       "    <tr>\n",
       "      <th>49</th>\n",
       "      <td>DAVINCHI</td>\n",
       "      <td>Solid Slip On Shoes</td>\n",
       "      <td>Rs. 7990</td>\n",
       "    </tr>\n",
       "  </tbody>\n",
       "</table>\n",
       "</div>"
      ],
      "text/plain": [
       "                   brand                                      desp  \\\n",
       "0                   ALDO                 Men Leather Driving Shoes   \n",
       "1                 Reebok              Men Zig Dynamica 2.0 Running   \n",
       "2                   Nike                Men Winflo 7 Running Shoes   \n",
       "3                   ALDO                      Men Printed Sneakers   \n",
       "4         Tommy Hilfiger              Men Cleated Leather Sneakers   \n",
       "5                   ALDO                 Men Woven Design Sneakers   \n",
       "6                   Puma             Men Jamming 2.0 Running Shoes   \n",
       "7                   Puma              Eternity Nitro Running Shoes   \n",
       "8                   Puma             Electrify Nitro Running Shoes   \n",
       "9           Hush Puppies         Men Solid Leather Formal Slip-Ons   \n",
       "10                  Nike                 Men Air Max Dawn Sneakers   \n",
       "11                  Puma                   Men FUSE Training Shoes   \n",
       "12                  Puma                 Men Training or Gym Shoes   \n",
       "13                 ASICS                       Women Running Shoes   \n",
       "14              Skechers            Men Go Run Hyper Burst Running   \n",
       "15          Hush Puppies         Men Solid Leather Formal Slip-Ons   \n",
       "16          Hush Puppies                         Men Formal Derbys   \n",
       "17               Saint G                 Men Mid-Top Chelsea Boots   \n",
       "18               Bugatti           Men Solid Leather Formal Derbys   \n",
       "19                  Puma              Women Velocity NITRO Runners   \n",
       "20          Hush Puppies                 Men Solid Formal Slip-Ons   \n",
       "21             J.FONTINI                 Men Black Leather Loafers   \n",
       "22               Saint G                 Women Leather Block Heels   \n",
       "23   TRIBAN By Decathlon              Unisex Training or Gym Shoes   \n",
       "24          Hush Puppies           Men Solid Leather Formal Derbys   \n",
       "25              Columbia            Men FACET OUTDRY Trekking Shoe   \n",
       "26          Sole To Soul                  Women Block Heeled Boots   \n",
       "27        Tommy Hilfiger             Women CLEAT Textured Sneakers   \n",
       "28        Tommy Hilfiger                           Leather Sandals   \n",
       "29                 MANGO                      Women Solid Sneakers   \n",
       "30                  Puma                Women Eternity NITRO Shoes   \n",
       "31  Heel & Buckle London                         Men Suede Loafers   \n",
       "32                  Geox              Men Striped Leather Sneakers   \n",
       "33                  Geox                 Men Leather Driving Shoes   \n",
       "34                  ALDO                             Wedge Sandals   \n",
       "35                  ALDO                        Leather Slim Heels   \n",
       "36                  ALDO                             Wedge Sandals   \n",
       "37             J.FONTINI              Men Textured Leather Loafers   \n",
       "38               Bugatti  Men Textured Leather High-Top Flat Boots   \n",
       "39             J.FONTINI              Men Textured Leather Loafers   \n",
       "40               Saint G             Leather High-Top Heeled Boots   \n",
       "41              DAVINCHI       Men Textured Formal Leather Loafers   \n",
       "42                 MANGO              Women Heeled Leather Loafers   \n",
       "43          Sole To Soul               High-Top Block Heeled Boots   \n",
       "44                  Geox                       Women Leather Pumps   \n",
       "45          Sole To Soul            High-Top Platform Heeled Boots   \n",
       "46          Sole To Soul         Suede High-Top Block Heeled Boots   \n",
       "47        ROSSO BRUNELLO                 Printed PU Kitten Sandals   \n",
       "48  Heel & Buckle London                  Men Formal Leather Derby   \n",
       "49              DAVINCHI                       Solid Slip On Shoes   \n",
       "\n",
       "                              price  \n",
       "0                         Rs. 12999  \n",
       "1                          Rs. 7999  \n",
       "2                          Rs. 7995  \n",
       "3        Rs. 9099Rs. 12999(30% OFF)  \n",
       "4         Rs. 7739Rs. 8599(10% OFF)  \n",
       "5                         Rs. 13999  \n",
       "6                         Rs. 12999  \n",
       "7                         Rs. 12999  \n",
       "8                          Rs. 9999  \n",
       "9         Rs. 7649Rs. 8999(15% OFF)  \n",
       "10                        Rs. 10995  \n",
       "11                         Rs. 7999  \n",
       "12                         Rs. 7999  \n",
       "13                         Rs. 7999  \n",
       "14        Rs. 7224Rs. 8499(15% OFF)  \n",
       "15        Rs. 8499Rs. 9999(15% OFF)  \n",
       "16        Rs. 8499Rs. 9999(15% OFF)  \n",
       "17  Rs. 10500Rs. 10900(Rs. 400 OFF)  \n",
       "18                         Rs. 9499  \n",
       "19       Rs. 8249Rs. 10999(25% OFF)  \n",
       "20        Rs. 8499Rs. 9999(15% OFF)  \n",
       "21                         Rs. 8490  \n",
       "22                         Rs. 9500  \n",
       "23       Rs. 8579Rs. 10999(22% OFF)  \n",
       "24        Rs. 8499Rs. 9999(15% OFF)  \n",
       "25                        Rs. 12999  \n",
       "26                         Rs. 8900  \n",
       "27        Rs. 7739Rs. 8599(10% OFF)  \n",
       "28                         Rs. 7599  \n",
       "29                         Rs. 8990  \n",
       "30       Rs. 9099Rs. 12999(30% OFF)  \n",
       "31                        Rs. 12990  \n",
       "32                         Rs. 9990  \n",
       "33                         Rs. 9499  \n",
       "34                         Rs. 7999  \n",
       "35       Rs. 8399Rs. 11999(30% OFF)  \n",
       "36                         Rs. 7999  \n",
       "37                         Rs. 8490  \n",
       "38       Rs. 8399Rs. 11999(30% OFF)  \n",
       "39                         Rs. 7990  \n",
       "40      Rs. 10625Rs. 12500(15% OFF)  \n",
       "41                         Rs. 8990  \n",
       "42                         Rs. 7990  \n",
       "43                         Rs. 7900  \n",
       "44                         Rs. 8999  \n",
       "45                         Rs. 8900  \n",
       "46                         Rs. 9500  \n",
       "47                         Rs. 8499  \n",
       "48                         Rs. 7990  \n",
       "49                         Rs. 7990  "
      ]
     },
     "execution_count": 72,
     "metadata": {},
     "output_type": "execute_result"
    }
   ],
   "source": [
    "shoes=pd.DataFrame()\n",
    "shoes[\"brand\"]=brand[:100]\n",
    "shoes[\"desp\"]=desp[:100]\n",
    "shoes[\"price\"]=price[:100]\n",
    "shoes"
   ]
  },
  {
   "cell_type": "markdown",
   "id": "5064c11d",
   "metadata": {},
   "source": [
    "**Q8: Go to webpage https://www.amazon.in/Enter “Laptop” in the search field and then click the search icon.Then set CPU Type filter to “Intel Core i7” and “Intel Core i9” as shown in the below image:After setting the filters scrape first 10 laptops data. You have to scrape 3 attributesfor each laptop:1. Title  2. Ratings  3. Price**\n"
   ]
  },
  {
   "cell_type": "code",
   "execution_count": 79,
   "id": "8b5d8b95",
   "metadata": {},
   "outputs": [],
   "source": [
    "# lets first connect to webdriver.\n",
    "driver=webdriver.Chrome(\"chromedriver.exe\")\n",
    "url=\"https://www.amazon.in/s?k=laptop&sprefix=laptop%2Caps%2C242&ref=nb_sb_ss_ts-doa-p_2_6\"\n",
    "driver.get(url)"
   ]
  },
  {
   "cell_type": "code",
   "execution_count": 81,
   "id": "896c658c",
   "metadata": {},
   "outputs": [],
   "source": [
    "filter_cputype=driver.find_element_by_xpath('/html/body/div[1]/div[2]/div[1]/div[2]/div/div[3]/span/div/div/div/div[6]/ul[4]/li[11]/span/a/span')\n",
    "filter_cputype.click()"
   ]
  },
  {
   "cell_type": "code",
   "execution_count": 82,
   "id": "a3a44a15",
   "metadata": {},
   "outputs": [
    {
     "data": {
      "text/plain": [
       "[<selenium.webdriver.remote.webelement.WebElement (session=\"6f0644a7f4aaa0c9dfe34d24b20edb17\", element=\"eec3fa31-80aa-4afe-9659-2b81c9384502\")>,\n",
       " <selenium.webdriver.remote.webelement.WebElement (session=\"6f0644a7f4aaa0c9dfe34d24b20edb17\", element=\"ca9cea4f-0db2-4aa5-9199-6d8098a6c6b4\")>]"
      ]
     },
     "execution_count": 82,
     "metadata": {},
     "output_type": "execute_result"
    }
   ],
   "source": [
    "# Extracting title\n",
    "title_tags=driver.find_elements_by_xpath('//h2[@class=\"a-size-mini a-spacing-none a-color-base s-line-clamp-2\"]')\n",
    "len(title_tags)\n",
    "title_tags[0:2]"
   ]
  },
  {
   "cell_type": "code",
   "execution_count": 83,
   "id": "cc89a687",
   "metadata": {},
   "outputs": [
    {
     "data": {
      "text/plain": [
       "['Fujitsu UH-X 11th Gen Intel Core i7 13.3” FHD IPS 400Nits Thin & Light Laptop(16GB/512GB SSD/Windows 11/Office 2021/Iris Xe Graphics/Backlit Kb/Fingerprint Reader/2Yr Warranty/Black/878gms),4ZR1F38024',\n",
       " 'LG Gram Intel Evo 11th Gen Core i7 17 inches Ultra-Light Laptop (16 GB RAM, 512 GB SSD, New Windows 11 Home Preload, Iris Xe Graphics, USC -C x 2 (with Power), 1.35 kg, 17Z90P-G.AH85A2, Black)']"
      ]
     },
     "execution_count": 83,
     "metadata": {},
     "output_type": "execute_result"
    }
   ],
   "source": [
    "title=[]\n",
    "for i in title_tags:\n",
    "    title.append(i.text)\n",
    "len(title)\n",
    "title[0:2]"
   ]
  },
  {
   "cell_type": "code",
   "execution_count": 101,
   "id": "f5540e06",
   "metadata": {},
   "outputs": [
    {
     "data": {
      "text/plain": [
       "[<selenium.webdriver.remote.webelement.WebElement (session=\"6f0644a7f4aaa0c9dfe34d24b20edb17\", element=\"8304c9fe-045e-47b4-93f5-8167a7a9b3ae\")>,\n",
       " <selenium.webdriver.remote.webelement.WebElement (session=\"6f0644a7f4aaa0c9dfe34d24b20edb17\", element=\"8bcbc53e-df75-45cc-88e4-3d0733a77d6b\")>]"
      ]
     },
     "execution_count": 101,
     "metadata": {},
     "output_type": "execute_result"
    }
   ],
   "source": [
    "# Extracting rating\n",
    "rating_tags=driver.find_elements_by_xpath('//span[@class=\"a-icon-alt\"]')\n",
    "len(rating_tags)\n",
    "rating_tags[0:2]"
   ]
  },
  {
   "cell_type": "code",
   "execution_count": 103,
   "id": "17c0ea39",
   "metadata": {},
   "outputs": [
    {
     "data": {
      "text/plain": [
       "['4.2 out of 5 stars', '3.9 out of 5 stars']"
      ]
     },
     "execution_count": 103,
     "metadata": {},
     "output_type": "execute_result"
    }
   ],
   "source": [
    "rating=[]\n",
    "for i in rating_tags:\n",
    "    rating.append(i.get_attribute('textContent'))\n",
    "len(rating)\n",
    "rating[0:2]"
   ]
  },
  {
   "cell_type": "code",
   "execution_count": 104,
   "id": "c335f22d",
   "metadata": {},
   "outputs": [
    {
     "data": {
      "text/plain": [
       "30"
      ]
     },
     "execution_count": 104,
     "metadata": {},
     "output_type": "execute_result"
    }
   ],
   "source": [
    "len(rating)"
   ]
  },
  {
   "cell_type": "code",
   "execution_count": 105,
   "id": "fe5a3a77",
   "metadata": {},
   "outputs": [
    {
     "data": {
      "text/plain": [
       "[<selenium.webdriver.remote.webelement.WebElement (session=\"6f0644a7f4aaa0c9dfe34d24b20edb17\", element=\"910d2435-9849-4111-8a86-c56f6027733e\")>,\n",
       " <selenium.webdriver.remote.webelement.WebElement (session=\"6f0644a7f4aaa0c9dfe34d24b20edb17\", element=\"13ec255a-77fd-4a3f-9eac-e0d9fd42c43e\")>]"
      ]
     },
     "execution_count": 105,
     "metadata": {},
     "output_type": "execute_result"
    }
   ],
   "source": [
    "# Extracting price\n",
    "price_tags=driver.find_elements_by_xpath('//span[@class=\"a-price-whole\"]')\n",
    "len(price_tags)\n",
    "price_tags[0:2]"
   ]
  },
  {
   "cell_type": "code",
   "execution_count": 106,
   "id": "d79ea837",
   "metadata": {},
   "outputs": [
    {
     "data": {
      "text/plain": [
       "['82,990', '92,990']"
      ]
     },
     "execution_count": 106,
     "metadata": {},
     "output_type": "execute_result"
    }
   ],
   "source": [
    "price=[]\n",
    "for i in price_tags:\n",
    "    price.append(i.text)\n",
    "len(price)\n",
    "price[0:2]"
   ]
  },
  {
   "cell_type": "code",
   "execution_count": 107,
   "id": "6328e7e2",
   "metadata": {},
   "outputs": [
    {
     "data": {
      "text/plain": [
       "29"
      ]
     },
     "execution_count": 107,
     "metadata": {},
     "output_type": "execute_result"
    }
   ],
   "source": [
    "len(price)"
   ]
  },
  {
   "cell_type": "code",
   "execution_count": 108,
   "id": "77cb1a04",
   "metadata": {},
   "outputs": [
    {
     "data": {
      "text/html": [
       "<div>\n",
       "<style scoped>\n",
       "    .dataframe tbody tr th:only-of-type {\n",
       "        vertical-align: middle;\n",
       "    }\n",
       "\n",
       "    .dataframe tbody tr th {\n",
       "        vertical-align: top;\n",
       "    }\n",
       "\n",
       "    .dataframe thead th {\n",
       "        text-align: right;\n",
       "    }\n",
       "</style>\n",
       "<table border=\"1\" class=\"dataframe\">\n",
       "  <thead>\n",
       "    <tr style=\"text-align: right;\">\n",
       "      <th></th>\n",
       "      <th>title</th>\n",
       "      <th>rating</th>\n",
       "      <th>price</th>\n",
       "    </tr>\n",
       "  </thead>\n",
       "  <tbody>\n",
       "    <tr>\n",
       "      <th>0</th>\n",
       "      <td>Fujitsu UH-X 11th Gen Intel Core i7 13.3” FHD ...</td>\n",
       "      <td>4.2 out of 5 stars</td>\n",
       "      <td>82,990</td>\n",
       "    </tr>\n",
       "    <tr>\n",
       "      <th>1</th>\n",
       "      <td>LG Gram Intel Evo 11th Gen Core i7 17 inches U...</td>\n",
       "      <td>3.9 out of 5 stars</td>\n",
       "      <td>92,990</td>\n",
       "    </tr>\n",
       "    <tr>\n",
       "      <th>2</th>\n",
       "      <td>Mi Notebook Ultra 3.2K Resolution Display Inte...</td>\n",
       "      <td>3.8 out of 5 stars</td>\n",
       "      <td>76,900</td>\n",
       "    </tr>\n",
       "    <tr>\n",
       "      <th>3</th>\n",
       "      <td>ASUS VivoBook 14 (2021), 14-inch (35.56 cms) F...</td>\n",
       "      <td>3.4 out of 5 stars</td>\n",
       "      <td>39,990</td>\n",
       "    </tr>\n",
       "    <tr>\n",
       "      <th>4</th>\n",
       "      <td>ASUS TUF Gaming F15 (2021), 15.6\" (39.62 cms) ...</td>\n",
       "      <td>4.4 out of 5 stars</td>\n",
       "      <td>39,990</td>\n",
       "    </tr>\n",
       "    <tr>\n",
       "      <th>5</th>\n",
       "      <td>LG Gram Intel Evo 11th Gen Core i7 17 inches U...</td>\n",
       "      <td>4.4 out of 5 stars</td>\n",
       "      <td>26,990</td>\n",
       "    </tr>\n",
       "    <tr>\n",
       "      <th>6</th>\n",
       "      <td>LG Gram 16 inches Intel Evo 11th Gen Core i7 U...</td>\n",
       "      <td>4.3 out of 5 stars</td>\n",
       "      <td>33,290</td>\n",
       "    </tr>\n",
       "    <tr>\n",
       "      <th>7</th>\n",
       "      <td>Lenovo ThinkBook Yoga 14s Intel Core i7 11th G...</td>\n",
       "      <td>4.1 out of 5 stars</td>\n",
       "      <td>25,990</td>\n",
       "    </tr>\n",
       "    <tr>\n",
       "      <th>8</th>\n",
       "      <td>Lenovo ThinkBook 13s Intel 11th Gen Core i7 13...</td>\n",
       "      <td>3.7 out of 5 stars</td>\n",
       "      <td>88,990</td>\n",
       "    </tr>\n",
       "    <tr>\n",
       "      <th>9</th>\n",
       "      <td>Lenovo ThinkBook 15 Intel 11th Gen Core i7 15....</td>\n",
       "      <td>4.2 out of 5 stars</td>\n",
       "      <td>79,999</td>\n",
       "    </tr>\n",
       "  </tbody>\n",
       "</table>\n",
       "</div>"
      ],
      "text/plain": [
       "                                               title              rating  \\\n",
       "0  Fujitsu UH-X 11th Gen Intel Core i7 13.3” FHD ...  4.2 out of 5 stars   \n",
       "1  LG Gram Intel Evo 11th Gen Core i7 17 inches U...  3.9 out of 5 stars   \n",
       "2  Mi Notebook Ultra 3.2K Resolution Display Inte...  3.8 out of 5 stars   \n",
       "3  ASUS VivoBook 14 (2021), 14-inch (35.56 cms) F...  3.4 out of 5 stars   \n",
       "4  ASUS TUF Gaming F15 (2021), 15.6\" (39.62 cms) ...  4.4 out of 5 stars   \n",
       "5  LG Gram Intel Evo 11th Gen Core i7 17 inches U...  4.4 out of 5 stars   \n",
       "6  LG Gram 16 inches Intel Evo 11th Gen Core i7 U...  4.3 out of 5 stars   \n",
       "7  Lenovo ThinkBook Yoga 14s Intel Core i7 11th G...  4.1 out of 5 stars   \n",
       "8  Lenovo ThinkBook 13s Intel 11th Gen Core i7 13...  3.7 out of 5 stars   \n",
       "9  Lenovo ThinkBook 15 Intel 11th Gen Core i7 15....  4.2 out of 5 stars   \n",
       "\n",
       "    price  \n",
       "0  82,990  \n",
       "1  92,990  \n",
       "2  76,900  \n",
       "3  39,990  \n",
       "4  39,990  \n",
       "5  26,990  \n",
       "6  33,290  \n",
       "7  25,990  \n",
       "8  88,990  \n",
       "9  79,999  "
      ]
     },
     "execution_count": 108,
     "metadata": {},
     "output_type": "execute_result"
    }
   ],
   "source": [
    "laptop=pd.DataFrame()\n",
    "laptop[\"title\"]=title[:10]\n",
    "laptop[\"rating\"]=rating[:10]\n",
    "laptop[\"price\"]=price[:10]\n",
    "laptop"
   ]
  },
  {
   "cell_type": "markdown",
   "id": "9aa0524d",
   "metadata": {},
   "source": [
    "**Q9: Write a python program to scrape data for first 10 job results for Data Scientist Designation in Noida\n",
    "location. You have to scrape company name, No. of days ago when job was posted, Rating of the company.**\n"
   ]
  },
  {
   "cell_type": "code",
   "execution_count": 126,
   "id": "ae3b679a",
   "metadata": {},
   "outputs": [],
   "source": [
    "# lets first connect to webdriver.\n",
    "driver=webdriver.Chrome(\"chromedriver.exe\")\n",
    "url=\"https://www.ambitionbox.com/\"\n",
    "driver.get(url)"
   ]
  },
  {
   "cell_type": "code",
   "execution_count": 129,
   "id": "ac9c7995",
   "metadata": {},
   "outputs": [
    {
     "data": {
      "text/plain": [
       "[<selenium.webdriver.remote.webelement.WebElement (session=\"8c5d4dfafb1e547ddb169cf2e419ef09\", element=\"0a85586e-898b-42fe-a50b-38dfbd081ee7\")>]"
      ]
     },
     "execution_count": 129,
     "metadata": {},
     "output_type": "execute_result"
    }
   ],
   "source": [
    "# Extracting company name\n",
    "company=driver.find_elements_by_xpath('/html/body/div/div/div/div[2]/div[2]/div[2]/div[2]/div/div[1]/div[1]/div[2]/h2/a')\n",
    "len(company)\n",
    "company[0:2]"
   ]
  },
  {
   "cell_type": "code",
   "execution_count": 133,
   "id": "2f96146b",
   "metadata": {},
   "outputs": [
    {
     "data": {
      "text/plain": [
       "[]"
      ]
     },
     "execution_count": 133,
     "metadata": {},
     "output_type": "execute_result"
    }
   ],
   "source": [
    "company=[]\n",
    "for i in company:\n",
    "    company.append(i.text)\n",
    "company[0:2]"
   ]
  }
 ],
 "metadata": {
  "kernelspec": {
   "display_name": "Python 3",
   "language": "python",
   "name": "python3"
  },
  "language_info": {
   "codemirror_mode": {
    "name": "ipython",
    "version": 3
   },
   "file_extension": ".py",
   "mimetype": "text/x-python",
   "name": "python",
   "nbconvert_exporter": "python",
   "pygments_lexer": "ipython3",
   "version": "3.8.8"
  }
 },
 "nbformat": 4,
 "nbformat_minor": 5
}
