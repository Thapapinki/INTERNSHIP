{
 "cells": [
  {
   "cell_type": "markdown",
   "id": "80435c27",
   "metadata": {},
   "source": [
    "**Q11. Write a python program to find the factorial of a number.**\n"
   ]
  },
  {
   "cell_type": "code",
   "execution_count": 1,
   "id": "b563c299",
   "metadata": {},
   "outputs": [
    {
     "name": "stdout",
     "output_type": "stream",
     "text": [
      "enter any number5\n",
      "factorial 120\n"
     ]
    }
   ],
   "source": [
    "num=int(input(\"enter any number\"))\n",
    "factorial =1\n",
    "for i in range(1,num+1):\n",
    "    factorial =factorial*i\n",
    "print(\"factorial\",factorial)"
   ]
  },
  {
   "cell_type": "markdown",
   "id": "17473dfb",
   "metadata": {},
   "source": [
    "**Q12. Write a python program to find whether a number is prime or composite**"
   ]
  },
  {
   "cell_type": "code",
   "execution_count": 2,
   "id": "0c9cf3f7",
   "metadata": {},
   "outputs": [
    {
     "name": "stdout",
     "output_type": "stream",
     "text": [
      "enter the number2\n",
      "this is a prime number\n"
     ]
    }
   ],
   "source": [
    "num=int(input(\"enter the number\"))\n",
    "prime=1\n",
    "for i in range(2,num):\n",
    "    if num%i==0:\n",
    "        prime=0\n",
    "        break\n",
    "if prime==1:\n",
    "    print('this is a prime number')\n",
    "else:\n",
    "    print(\"this is a composite number\")"
   ]
  },
  {
   "cell_type": "markdown",
   "id": "bcc7bf78",
   "metadata": {},
   "source": [
    "**Q13. Write a python program to check whether a given string is palindrome or not.**"
   ]
  },
  {
   "cell_type": "code",
   "execution_count": 3,
   "id": "9548b27f",
   "metadata": {},
   "outputs": [
    {
     "name": "stdout",
     "output_type": "stream",
     "text": [
      "enter your word to check palindrome:mom\n",
      "Palindorme word is mom\n"
     ]
    }
   ],
   "source": [
    "word=input(\"enter your word to check palindrome:\")#enters input\n",
    "i=len(word)-1\n",
    "j=0\n",
    "palindrome=True\n",
    "while i>=0:\n",
    "    if word[i]!=word[j]:\n",
    "        palindrome=False\n",
    "    i=i-1\n",
    "    j=j+1\n",
    "if palindrome==True:\n",
    "    print(\"Palindorme word is\",word)\n",
    "else:\n",
    "    print(\"Not a Palindrome\")\n",
    "\n",
    "    "
   ]
  },
  {
   "cell_type": "markdown",
   "id": "8b757706",
   "metadata": {},
   "source": [
    "**Q14. Write a Python program to get the third side of right-angled triangle from two given sides.**"
   ]
  },
  {
   "cell_type": "code",
   "execution_count": 4,
   "id": "ef689078",
   "metadata": {},
   "outputs": [
    {
     "name": "stdout",
     "output_type": "stream",
     "text": [
      "enter side a if not known enter-1:\n",
      "5\n",
      "enter side b if not known enter-1:\n",
      "4\n",
      "enter side c if not known enter-1:\n",
      "-1\n",
      "the third side is 3.0\n"
     ]
    }
   ],
   "source": [
    "a=int(input(\"enter side a if not known enter-1:\\n\"))\n",
    "b=int(input(\"enter side b if not known enter-1:\\n\"))\n",
    "c=int(input(\"enter side c if not known enter-1:\\n\"))\n",
    "if a==-1:\n",
    "    print(\"the third side is\",(b**2+c**2)**(1/2))\n",
    "elif b==-1:\n",
    "    print(\"the third side is\",(a**2-c**2)**(1/2))\n",
    "elif c==-1:\n",
    "    print(\"the third side is\",(a**2-b**2)**(1/2))"
   ]
  },
  {
   "cell_type": "markdown",
   "id": "f8946743",
   "metadata": {},
   "source": [
    "**Q15. Write a python program to print the frequency of each of the characters present in a given string**"
   ]
  },
  {
   "cell_type": "code",
   "execution_count": 5,
   "id": "c2759afd",
   "metadata": {},
   "outputs": [
    {
     "name": "stdout",
     "output_type": "stream",
     "text": [
      "Enter the word:charmander\n",
      "{'c': 1, 'h': 1, 'a': 2, 'r': 2, 'm': 1, 'n': 1, 'd': 1, 'e': 1}\n"
     ]
    }
   ],
   "source": [
    "Word=input('Enter the word:')\n",
    "a=dict()\n",
    "for i in Word:\n",
    "    if i in a:\n",
    "        a[i]+=1\n",
    "    else:\n",
    "        a[i]=1\n",
    "print(a)"
   ]
  }
 ],
 "metadata": {
  "kernelspec": {
   "display_name": "Python 3",
   "language": "python",
   "name": "python3"
  },
  "language_info": {
   "codemirror_mode": {
    "name": "ipython",
    "version": 3
   },
   "file_extension": ".py",
   "mimetype": "text/x-python",
   "name": "python",
   "nbconvert_exporter": "python",
   "pygments_lexer": "ipython3",
   "version": "3.8.8"
  }
 },
 "nbformat": 4,
 "nbformat_minor": 5
}
